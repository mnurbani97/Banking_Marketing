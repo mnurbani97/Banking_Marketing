{
 "cells": [
  {
   "cell_type": "code",
   "execution_count": 4,
   "metadata": {},
   "outputs": [],
   "source": [
    "import pickle\n",
    "import pandas as pd"
   ]
  },
  {
   "cell_type": "markdown",
   "metadata": {},
   "source": [
    "**Setelah sudah menyimpan model dalam bentuk file, kita dapat memanggilnya kembali untuk melakukan prediksi pada data baru terkait deposit. Ini mempermudah kita dalam melakukan pengujian kinerja model dan membuat prediksi pada data yang belum pernah dilihat sebelumnya. Dengan cara ini, kita dapat melihat sejauh mana model kita dapat melakukan prediksi dengan akurat pada situasi dunia nyata. Proses ini membantu memvalidasi dan menguji kinerja model Random Forest yang telah kita latih sebelumnya.**"
   ]
  },
  {
   "cell_type": "code",
   "execution_count": 5,
   "metadata": {},
   "outputs": [
    {
     "name": "stdout",
     "output_type": "stream",
     "text": [
      "Hasil Prediksi: [1]\n"
     ]
    }
   ],
   "source": [
    "# Membaca model yang telah disimpan\n",
    "with open('model_rf.pkl', 'rb') as file:\n",
    "    loaded_model = pickle.load(file)\n",
    "\n",
    "# Contoh data untuk prediksi (sesuaikan dengan fitur model Anda)\n",
    "sample_data = pd.DataFrame({\n",
    "    ''\n",
    "    'age' : [59],\n",
    "    'job':['admin.'],\n",
    "    'marital' : ['married'], \n",
    "    'education' : ['secondary'],\n",
    "    'default' : ['no'],\n",
    "    'balance':[2343], \n",
    "    'housing' : ['yes'], \n",
    "    'loan':['no'],\n",
    "    'contact':['unknown'],\n",
    "    'day' : [5],\n",
    "    'month' : ['may'],\n",
    "    'duration': [1042],\n",
    "    'campaign': [-1],\n",
    "    'pdays': [-1],\n",
    "    'previous': [0],\n",
    "    'poutcome' : ['unknown'],\n",
    "\n",
    "})\n",
    "\n",
    "# Melakukan prediksi menggunakan model yang telah dimuat\n",
    "predictions = loaded_model.predict(sample_data)\n",
    "\n",
    "# Menampilkan hasil prediksi\n",
    "print(\"Hasil Prediksi:\", predictions)"
   ]
  },
  {
   "cell_type": "markdown",
   "metadata": {},
   "source": [
    "**Insight** : Melakukan prediksi terhadap data baru (sample_data) dengan menggunakan model Random Forest yang telah kita simpan sebelumnya dengan nama `model_rf`, Hasil prediksi dari model ini kemudian disimpan dalam variabel `sample_data`. Dengan melakukan langkah ini, kita dapat melihat bagaimana model Random Forest memprediksi nilai target pada data baru yang sebelumnya belum pernah dilihat oleh model. Hasil prediksi ini berguna untuk mengevaluasi sejauh mana model dapat bekerja dengan baik pada data yang tidak dikenal sebelumnya.\n",
    "\n",
    "**dari data inference yang telah dibuat, prediction yang dihasilkan bernilai `0` yg artinya (Nasabah telah berlangganan deposito berjangka).**"
   ]
  },
  {
   "cell_type": "markdown",
   "metadata": {},
   "source": []
  }
 ],
 "metadata": {
  "kernelspec": {
   "display_name": "Python 3",
   "language": "python",
   "name": "python3"
  },
  "language_info": {
   "codemirror_mode": {
    "name": "ipython",
    "version": 3
   },
   "file_extension": ".py",
   "mimetype": "text/x-python",
   "name": "python",
   "nbconvert_exporter": "python",
   "pygments_lexer": "ipython3",
   "version": "3.12.0"
  }
 },
 "nbformat": 4,
 "nbformat_minor": 2
}
