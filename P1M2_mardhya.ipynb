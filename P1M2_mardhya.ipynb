{
 "cells": [
  {
   "cell_type": "markdown",
   "metadata": {},
   "source": [
    "## Perkenalan"
   ]
  },
  {
   "cell_type": "markdown",
   "metadata": {},
   "source": [
    "=================================================\n",
    "\n",
    "   Milestone 2\n",
    "\n",
    "   Nama  : Mardhya Malik Nurbani\n",
    "   Batch : RMT-026\n",
    "\n",
    "   Program ini dibuat untuk menganalisa sebuah dataset  beranama Bank Marketing \n",
    "   dengan menggunakan konsep Classification, terutama Random Forest, XGboost, Decision Tree, SVM, dan KNN untuk memprediksi apakah nasabalah telah melanggan produk deposito berjangka dari institusi perbankan atau tidak.\n",
    "\n",
    "================================================="
   ]
  },
  {
   "cell_type": "markdown",
   "metadata": {},
   "source": [
    "## Conceptual Problems"
   ]
  },
  {
   "cell_type": "markdown",
   "metadata": {},
   "source": [
    "*Jawab pertanyaan berikut:*\n",
    "\n",
    "1. Jelaskan latar belakang adanya bagging dan cara kerja bagging !\n",
    "\n",
    "2. Jelaskan perbedaan cara kerja algoritma Random Forest dengan algoritma boosting yang Anda pilih !\n",
    "\n",
    "3. Jelaskan apa yang dimaksud dengan Cross Validation !\n",
    "\n",
    "**JAWABAN**\n",
    "\n",
    "1. Latar belakang adanya bagging ini muncul untuk meningkatkan kinerja dari hasil prediktif dengan menggabungkan lebih dari satu model.\n",
    "    - Cara Kerja Bagging:\n",
    "        1. Pembuatan dataset Bootstrap.\n",
    "            - Membuat dataset baru dengan variasi.\n",
    "        2. Pelatihan Model.\n",
    "            - Model dilatih pada setiap dataset bootstrep\n",
    "        3. Voting/Averaging.\n",
    "            - Hasil dari prediksi dari model, akan digabungkan melalui Voting(Klasifikasi) atau Averaging (Regresi)\n",
    "    - Keuntungan :\n",
    "        - Bagging ini bisa mengurangi overfitting dan meningkat kan kinerja model model dengan memanfaatka bootstrep.\n",
    "\n",
    "2. 1. Model Dasar :\n",
    "        - `Random Forest` : membuat banyak pohon keputusan secara independen.\n",
    "        - `XGBOOST` : membuat pohon secara berurutan dengan fokus pada instance yang sulit diatasi oleh model sebelumnya.\n",
    "    2. Bobot Instance :\n",
    "        - `Random Forest` : memberikan bobot yang sama untuk semua instance\n",
    "        - `XGBOOST` : memberikan bobot lebih tinggi untuk instance yang sulit diatasi.\n",
    "        \n",
    "        _instance merujuk pada satu baris data dalam dataset_\n",
    "    3. Prediksi model Dasar :\n",
    "        - `Random Forest` : menggunakan metode mayoritas atau rata-rata,\n",
    "        - `XGBOOST` : menggabungkan prediksi dengan memberikan bobot pada masing-masing pohon.\n",
    "    4. Overfitting :\n",
    "        - `Random Forest` : mengandalkan variasi antar pohon untuk mengurangi overfitting\n",
    "        - `XGBOOST` : menggunakan teknik regularisasi dan penanganan overfitting yang lebih kuat.\n",
    "    5. Optimasi dan Kecepatan :\n",
    "        - `Random Forest` :  bisa bekerja secara paralel\n",
    "        - `XGBOOST` : dirancang untuk bekerja dengan sangat efisien dan mendukung komputasi paralel.\n",
    "\n",
    "        _Perbedaannya terletak pada pembentukan pohon (independen vs. berurutan), pengelolaan bobot instance, dan teknik pengendalian overfitting._\n",
    "\n",
    "3. Cross-validation adalah cara untuk menguji seberapa baik model machine learning dapat berfungsi pada data yang tidak terlihat. Ini melibatkan pembagian data menjadi bagian Train dan Test.Proses ini akan diulang beberapa kali dengan pembagian yang berbeda untuk mendapat kan nilai rata rata untuk gambaran seberapa baik model memprediksi data baru. Cross-validation juga baik digunakan untuk menghindari `OverFitting`.\n"
   ]
  },
  {
   "cell_type": "markdown",
   "metadata": {},
   "source": [
    "## Import Libraries"
   ]
  },
  {
   "cell_type": "code",
   "execution_count": 1,
   "metadata": {},
   "outputs": [],
   "source": [
    "#import libraries yg dibutuhkan\n",
    "import pandas as pd #memanggil pandas sebagai pd\n",
    "import matplotlib.pyplot as plt # memanggil matplotlib sebagai plt\n",
    "import numpy as np #memanggil numpy sebagai np\n",
    "import seaborn as sns #memanggil seaborn sebagai sns\n",
    "from sklearn.model_selection import train_test_split #memanggil train_test dari sklearn model\n",
    "from feature_engine.outliers import Winsorizer #memanggil winsorizer dari feature engine\n",
    "from scipy.stats import kendalltau, pearsonr #memanggil kendalltau dan pearsonr dari scipy.stats\n",
    "from sklearn.preprocessing import MinMaxScaler, StandardScaler #mamanggil minmaxscaler dan StandardScaler dari sklearn processing\n",
    "from sklearn.preprocessing import LabelEncoder,OrdinalEncoder #memanggil model encode onehotencoder,LabelEncoder,OrdinalEncoder dari sklearn processing\n",
    "import pickle #memanggil pickle\n",
    "from sklearn.metrics import classification_report, accuracy_score,  f1_score #memanggil classification_report, accuracy_score, confusion_matrix, roc_auc_score, f1_score dari sklearn.metrics \n",
    "from sklearn.model_selection import GridSearchCV, cross_val_score #memanggil GridSearchCV, cross_val_score, StratifiedKFold, learning_curve dari from sklearn.model_selection\n",
    "from sklearn.compose import ColumnTransformer, make_column_selector as selector #Memanggil ColumnTransformer, make_column_selector dari sklearn.compose sebagai selector\n",
    "from sklearn.pipeline import Pipeline #Memanggil Pipeline dari sklearn.pipelin\n",
    "from sklearn.neighbors import KNeighborsClassifier #Memanggil  KNeighborsClassifier dari sklearn.neighbors\n",
    "from sklearn.svm import SVC #Memanggil  SVC dari sklearn.svm\n",
    "from sklearn.tree import DecisionTreeClassifier\n",
    "from sklearn.ensemble import RandomForestClassifier\n",
    "from xgboost import XGBClassifier\n",
    "\n"
   ]
  },
  {
   "cell_type": "markdown",
   "metadata": {},
   "source": [
    "## Data Loading"
   ]
  },
  {
   "cell_type": "markdown",
   "metadata": {},
   "source": [
    "_Sumber : https://www.kaggle.com/datasets/rouseguy/bankbalanced_"
   ]
  },
  {
   "cell_type": "code",
   "execution_count": 2,
   "metadata": {},
   "outputs": [],
   "source": [
    "#import file P1G5_Set_1_mardhya.csv\n",
    "df = pd.read_csv('Banking Marketing.csv') "
   ]
  },
  {
   "cell_type": "code",
   "execution_count": 3,
   "metadata": {},
   "outputs": [
    {
     "name": "stdout",
     "output_type": "stream",
     "text": [
      "<class 'pandas.core.frame.DataFrame'>\n",
      "RangeIndex: 11162 entries, 0 to 11161\n",
      "Data columns (total 17 columns):\n",
      " #   Column     Non-Null Count  Dtype \n",
      "---  ------     --------------  ----- \n",
      " 0   age        11162 non-null  int64 \n",
      " 1   job        11162 non-null  object\n",
      " 2   marital    11162 non-null  object\n",
      " 3   education  11162 non-null  object\n",
      " 4   default    11162 non-null  object\n",
      " 5   balance    11162 non-null  int64 \n",
      " 6   housing    11162 non-null  object\n",
      " 7   loan       11162 non-null  object\n",
      " 8   contact    11162 non-null  object\n",
      " 9   day        11162 non-null  int64 \n",
      " 10  month      11162 non-null  object\n",
      " 11  duration   11162 non-null  int64 \n",
      " 12  campaign   11162 non-null  int64 \n",
      " 13  pdays      11162 non-null  int64 \n",
      " 14  previous   11162 non-null  int64 \n",
      " 15  poutcome   11162 non-null  object\n",
      " 16  deposit    11162 non-null  object\n",
      "dtypes: int64(7), object(10)\n",
      "memory usage: 1.4+ MB\n"
     ]
    }
   ],
   "source": [
    "#menampilkan summary\n",
    "df.info() "
   ]
  },
  {
   "cell_type": "code",
   "execution_count": 4,
   "metadata": {},
   "outputs": [
    {
     "data": {
      "text/plain": [
       "poutcome\n",
       "unknown    8326\n",
       "failure    1228\n",
       "success    1071\n",
       "other       537\n",
       "Name: count, dtype: int64"
      ]
     },
     "execution_count": 4,
     "metadata": {},
     "output_type": "execute_result"
    }
   ],
   "source": [
    "df['poutcome'].value_counts()"
   ]
  },
  {
   "cell_type": "markdown",
   "metadata": {},
   "source": [
    "**Insight** Dataset yang digunakan memiliki 17 column dengan total data sebesar 11162. terdapat 7 column yang menrupakan tipe data int64, dan 10 column bertipe object."
   ]
  },
  {
   "cell_type": "code",
   "execution_count": 5,
   "metadata": {},
   "outputs": [
    {
     "data": {
      "text/html": [
       "<div>\n",
       "<style scoped>\n",
       "    .dataframe tbody tr th:only-of-type {\n",
       "        vertical-align: middle;\n",
       "    }\n",
       "\n",
       "    .dataframe tbody tr th {\n",
       "        vertical-align: top;\n",
       "    }\n",
       "\n",
       "    .dataframe thead th {\n",
       "        text-align: right;\n",
       "    }\n",
       "</style>\n",
       "<table border=\"1\" class=\"dataframe\">\n",
       "  <thead>\n",
       "    <tr style=\"text-align: right;\">\n",
       "      <th></th>\n",
       "      <th>age</th>\n",
       "      <th>job</th>\n",
       "      <th>marital</th>\n",
       "      <th>education</th>\n",
       "      <th>default</th>\n",
       "      <th>balance</th>\n",
       "      <th>housing</th>\n",
       "      <th>loan</th>\n",
       "      <th>contact</th>\n",
       "      <th>day</th>\n",
       "      <th>month</th>\n",
       "      <th>duration</th>\n",
       "      <th>campaign</th>\n",
       "      <th>pdays</th>\n",
       "      <th>previous</th>\n",
       "      <th>poutcome</th>\n",
       "      <th>deposit</th>\n",
       "    </tr>\n",
       "  </thead>\n",
       "  <tbody>\n",
       "    <tr>\n",
       "      <th>0</th>\n",
       "      <td>59</td>\n",
       "      <td>admin.</td>\n",
       "      <td>married</td>\n",
       "      <td>secondary</td>\n",
       "      <td>no</td>\n",
       "      <td>2343</td>\n",
       "      <td>yes</td>\n",
       "      <td>no</td>\n",
       "      <td>unknown</td>\n",
       "      <td>5</td>\n",
       "      <td>may</td>\n",
       "      <td>1042</td>\n",
       "      <td>1</td>\n",
       "      <td>-1</td>\n",
       "      <td>0</td>\n",
       "      <td>unknown</td>\n",
       "      <td>yes</td>\n",
       "    </tr>\n",
       "    <tr>\n",
       "      <th>1</th>\n",
       "      <td>56</td>\n",
       "      <td>admin.</td>\n",
       "      <td>married</td>\n",
       "      <td>secondary</td>\n",
       "      <td>no</td>\n",
       "      <td>45</td>\n",
       "      <td>no</td>\n",
       "      <td>no</td>\n",
       "      <td>unknown</td>\n",
       "      <td>5</td>\n",
       "      <td>may</td>\n",
       "      <td>1467</td>\n",
       "      <td>1</td>\n",
       "      <td>-1</td>\n",
       "      <td>0</td>\n",
       "      <td>unknown</td>\n",
       "      <td>yes</td>\n",
       "    </tr>\n",
       "    <tr>\n",
       "      <th>2</th>\n",
       "      <td>41</td>\n",
       "      <td>technician</td>\n",
       "      <td>married</td>\n",
       "      <td>secondary</td>\n",
       "      <td>no</td>\n",
       "      <td>1270</td>\n",
       "      <td>yes</td>\n",
       "      <td>no</td>\n",
       "      <td>unknown</td>\n",
       "      <td>5</td>\n",
       "      <td>may</td>\n",
       "      <td>1389</td>\n",
       "      <td>1</td>\n",
       "      <td>-1</td>\n",
       "      <td>0</td>\n",
       "      <td>unknown</td>\n",
       "      <td>yes</td>\n",
       "    </tr>\n",
       "    <tr>\n",
       "      <th>3</th>\n",
       "      <td>55</td>\n",
       "      <td>services</td>\n",
       "      <td>married</td>\n",
       "      <td>secondary</td>\n",
       "      <td>no</td>\n",
       "      <td>2476</td>\n",
       "      <td>yes</td>\n",
       "      <td>no</td>\n",
       "      <td>unknown</td>\n",
       "      <td>5</td>\n",
       "      <td>may</td>\n",
       "      <td>579</td>\n",
       "      <td>1</td>\n",
       "      <td>-1</td>\n",
       "      <td>0</td>\n",
       "      <td>unknown</td>\n",
       "      <td>yes</td>\n",
       "    </tr>\n",
       "    <tr>\n",
       "      <th>4</th>\n",
       "      <td>54</td>\n",
       "      <td>admin.</td>\n",
       "      <td>married</td>\n",
       "      <td>tertiary</td>\n",
       "      <td>no</td>\n",
       "      <td>184</td>\n",
       "      <td>no</td>\n",
       "      <td>no</td>\n",
       "      <td>unknown</td>\n",
       "      <td>5</td>\n",
       "      <td>may</td>\n",
       "      <td>673</td>\n",
       "      <td>2</td>\n",
       "      <td>-1</td>\n",
       "      <td>0</td>\n",
       "      <td>unknown</td>\n",
       "      <td>yes</td>\n",
       "    </tr>\n",
       "    <tr>\n",
       "      <th>5</th>\n",
       "      <td>42</td>\n",
       "      <td>management</td>\n",
       "      <td>single</td>\n",
       "      <td>tertiary</td>\n",
       "      <td>no</td>\n",
       "      <td>0</td>\n",
       "      <td>yes</td>\n",
       "      <td>yes</td>\n",
       "      <td>unknown</td>\n",
       "      <td>5</td>\n",
       "      <td>may</td>\n",
       "      <td>562</td>\n",
       "      <td>2</td>\n",
       "      <td>-1</td>\n",
       "      <td>0</td>\n",
       "      <td>unknown</td>\n",
       "      <td>yes</td>\n",
       "    </tr>\n",
       "    <tr>\n",
       "      <th>6</th>\n",
       "      <td>56</td>\n",
       "      <td>management</td>\n",
       "      <td>married</td>\n",
       "      <td>tertiary</td>\n",
       "      <td>no</td>\n",
       "      <td>830</td>\n",
       "      <td>yes</td>\n",
       "      <td>yes</td>\n",
       "      <td>unknown</td>\n",
       "      <td>6</td>\n",
       "      <td>may</td>\n",
       "      <td>1201</td>\n",
       "      <td>1</td>\n",
       "      <td>-1</td>\n",
       "      <td>0</td>\n",
       "      <td>unknown</td>\n",
       "      <td>yes</td>\n",
       "    </tr>\n",
       "    <tr>\n",
       "      <th>7</th>\n",
       "      <td>60</td>\n",
       "      <td>retired</td>\n",
       "      <td>divorced</td>\n",
       "      <td>secondary</td>\n",
       "      <td>no</td>\n",
       "      <td>545</td>\n",
       "      <td>yes</td>\n",
       "      <td>no</td>\n",
       "      <td>unknown</td>\n",
       "      <td>6</td>\n",
       "      <td>may</td>\n",
       "      <td>1030</td>\n",
       "      <td>1</td>\n",
       "      <td>-1</td>\n",
       "      <td>0</td>\n",
       "      <td>unknown</td>\n",
       "      <td>yes</td>\n",
       "    </tr>\n",
       "    <tr>\n",
       "      <th>8</th>\n",
       "      <td>37</td>\n",
       "      <td>technician</td>\n",
       "      <td>married</td>\n",
       "      <td>secondary</td>\n",
       "      <td>no</td>\n",
       "      <td>1</td>\n",
       "      <td>yes</td>\n",
       "      <td>no</td>\n",
       "      <td>unknown</td>\n",
       "      <td>6</td>\n",
       "      <td>may</td>\n",
       "      <td>608</td>\n",
       "      <td>1</td>\n",
       "      <td>-1</td>\n",
       "      <td>0</td>\n",
       "      <td>unknown</td>\n",
       "      <td>yes</td>\n",
       "    </tr>\n",
       "    <tr>\n",
       "      <th>9</th>\n",
       "      <td>28</td>\n",
       "      <td>services</td>\n",
       "      <td>single</td>\n",
       "      <td>secondary</td>\n",
       "      <td>no</td>\n",
       "      <td>5090</td>\n",
       "      <td>yes</td>\n",
       "      <td>no</td>\n",
       "      <td>unknown</td>\n",
       "      <td>6</td>\n",
       "      <td>may</td>\n",
       "      <td>1297</td>\n",
       "      <td>3</td>\n",
       "      <td>-1</td>\n",
       "      <td>0</td>\n",
       "      <td>unknown</td>\n",
       "      <td>yes</td>\n",
       "    </tr>\n",
       "  </tbody>\n",
       "</table>\n",
       "</div>"
      ],
      "text/plain": [
       "   age         job   marital  education default  balance housing loan  \\\n",
       "0   59      admin.   married  secondary      no     2343     yes   no   \n",
       "1   56      admin.   married  secondary      no       45      no   no   \n",
       "2   41  technician   married  secondary      no     1270     yes   no   \n",
       "3   55    services   married  secondary      no     2476     yes   no   \n",
       "4   54      admin.   married   tertiary      no      184      no   no   \n",
       "5   42  management    single   tertiary      no        0     yes  yes   \n",
       "6   56  management   married   tertiary      no      830     yes  yes   \n",
       "7   60     retired  divorced  secondary      no      545     yes   no   \n",
       "8   37  technician   married  secondary      no        1     yes   no   \n",
       "9   28    services    single  secondary      no     5090     yes   no   \n",
       "\n",
       "   contact  day month  duration  campaign  pdays  previous poutcome deposit  \n",
       "0  unknown    5   may      1042         1     -1         0  unknown     yes  \n",
       "1  unknown    5   may      1467         1     -1         0  unknown     yes  \n",
       "2  unknown    5   may      1389         1     -1         0  unknown     yes  \n",
       "3  unknown    5   may       579         1     -1         0  unknown     yes  \n",
       "4  unknown    5   may       673         2     -1         0  unknown     yes  \n",
       "5  unknown    5   may       562         2     -1         0  unknown     yes  \n",
       "6  unknown    6   may      1201         1     -1         0  unknown     yes  \n",
       "7  unknown    6   may      1030         1     -1         0  unknown     yes  \n",
       "8  unknown    6   may       608         1     -1         0  unknown     yes  \n",
       "9  unknown    6   may      1297         3     -1         0  unknown     yes  "
      ]
     },
     "execution_count": 5,
     "metadata": {},
     "output_type": "execute_result"
    }
   ],
   "source": [
    "#tampilan data 10 teratas\n",
    "df.head(10)"
   ]
  },
  {
   "cell_type": "markdown",
   "metadata": {},
   "source": [
    "**Insight**: Data yang tertampil merupakan 10 data teratas dari dataset. Jika dilihat dari dataset yang ditampilkan, terdapat 17 kolom dataset Banking Marketing yang berisikan informasi yang berasal dari platform kaggle"
   ]
  },
  {
   "cell_type": "code",
   "execution_count": 6,
   "metadata": {},
   "outputs": [
    {
     "data": {
      "text/html": [
       "<div>\n",
       "<style scoped>\n",
       "    .dataframe tbody tr th:only-of-type {\n",
       "        vertical-align: middle;\n",
       "    }\n",
       "\n",
       "    .dataframe tbody tr th {\n",
       "        vertical-align: top;\n",
       "    }\n",
       "\n",
       "    .dataframe thead th {\n",
       "        text-align: right;\n",
       "    }\n",
       "</style>\n",
       "<table border=\"1\" class=\"dataframe\">\n",
       "  <thead>\n",
       "    <tr style=\"text-align: right;\">\n",
       "      <th></th>\n",
       "      <th>age</th>\n",
       "      <th>job</th>\n",
       "      <th>marital</th>\n",
       "      <th>education</th>\n",
       "      <th>default</th>\n",
       "      <th>balance</th>\n",
       "      <th>housing</th>\n",
       "      <th>loan</th>\n",
       "      <th>contact</th>\n",
       "      <th>day</th>\n",
       "      <th>month</th>\n",
       "      <th>duration</th>\n",
       "      <th>campaign</th>\n",
       "      <th>pdays</th>\n",
       "      <th>previous</th>\n",
       "      <th>poutcome</th>\n",
       "      <th>deposit</th>\n",
       "    </tr>\n",
       "  </thead>\n",
       "  <tbody>\n",
       "    <tr>\n",
       "      <th>11152</th>\n",
       "      <td>34</td>\n",
       "      <td>housemaid</td>\n",
       "      <td>married</td>\n",
       "      <td>secondary</td>\n",
       "      <td>no</td>\n",
       "      <td>390</td>\n",
       "      <td>yes</td>\n",
       "      <td>no</td>\n",
       "      <td>cellular</td>\n",
       "      <td>15</td>\n",
       "      <td>jul</td>\n",
       "      <td>659</td>\n",
       "      <td>3</td>\n",
       "      <td>-1</td>\n",
       "      <td>0</td>\n",
       "      <td>unknown</td>\n",
       "      <td>no</td>\n",
       "    </tr>\n",
       "    <tr>\n",
       "      <th>11153</th>\n",
       "      <td>43</td>\n",
       "      <td>admin.</td>\n",
       "      <td>single</td>\n",
       "      <td>secondary</td>\n",
       "      <td>no</td>\n",
       "      <td>35</td>\n",
       "      <td>no</td>\n",
       "      <td>no</td>\n",
       "      <td>telephone</td>\n",
       "      <td>9</td>\n",
       "      <td>nov</td>\n",
       "      <td>208</td>\n",
       "      <td>1</td>\n",
       "      <td>-1</td>\n",
       "      <td>0</td>\n",
       "      <td>unknown</td>\n",
       "      <td>no</td>\n",
       "    </tr>\n",
       "    <tr>\n",
       "      <th>11154</th>\n",
       "      <td>52</td>\n",
       "      <td>technician</td>\n",
       "      <td>married</td>\n",
       "      <td>tertiary</td>\n",
       "      <td>no</td>\n",
       "      <td>523</td>\n",
       "      <td>yes</td>\n",
       "      <td>yes</td>\n",
       "      <td>cellular</td>\n",
       "      <td>8</td>\n",
       "      <td>jul</td>\n",
       "      <td>113</td>\n",
       "      <td>1</td>\n",
       "      <td>-1</td>\n",
       "      <td>0</td>\n",
       "      <td>unknown</td>\n",
       "      <td>no</td>\n",
       "    </tr>\n",
       "    <tr>\n",
       "      <th>11155</th>\n",
       "      <td>35</td>\n",
       "      <td>blue-collar</td>\n",
       "      <td>married</td>\n",
       "      <td>secondary</td>\n",
       "      <td>no</td>\n",
       "      <td>80</td>\n",
       "      <td>yes</td>\n",
       "      <td>yes</td>\n",
       "      <td>cellular</td>\n",
       "      <td>21</td>\n",
       "      <td>nov</td>\n",
       "      <td>38</td>\n",
       "      <td>2</td>\n",
       "      <td>172</td>\n",
       "      <td>2</td>\n",
       "      <td>failure</td>\n",
       "      <td>no</td>\n",
       "    </tr>\n",
       "    <tr>\n",
       "      <th>11156</th>\n",
       "      <td>34</td>\n",
       "      <td>blue-collar</td>\n",
       "      <td>single</td>\n",
       "      <td>secondary</td>\n",
       "      <td>no</td>\n",
       "      <td>-72</td>\n",
       "      <td>yes</td>\n",
       "      <td>no</td>\n",
       "      <td>cellular</td>\n",
       "      <td>7</td>\n",
       "      <td>jul</td>\n",
       "      <td>273</td>\n",
       "      <td>5</td>\n",
       "      <td>-1</td>\n",
       "      <td>0</td>\n",
       "      <td>unknown</td>\n",
       "      <td>no</td>\n",
       "    </tr>\n",
       "    <tr>\n",
       "      <th>11157</th>\n",
       "      <td>33</td>\n",
       "      <td>blue-collar</td>\n",
       "      <td>single</td>\n",
       "      <td>primary</td>\n",
       "      <td>no</td>\n",
       "      <td>1</td>\n",
       "      <td>yes</td>\n",
       "      <td>no</td>\n",
       "      <td>cellular</td>\n",
       "      <td>20</td>\n",
       "      <td>apr</td>\n",
       "      <td>257</td>\n",
       "      <td>1</td>\n",
       "      <td>-1</td>\n",
       "      <td>0</td>\n",
       "      <td>unknown</td>\n",
       "      <td>no</td>\n",
       "    </tr>\n",
       "    <tr>\n",
       "      <th>11158</th>\n",
       "      <td>39</td>\n",
       "      <td>services</td>\n",
       "      <td>married</td>\n",
       "      <td>secondary</td>\n",
       "      <td>no</td>\n",
       "      <td>733</td>\n",
       "      <td>no</td>\n",
       "      <td>no</td>\n",
       "      <td>unknown</td>\n",
       "      <td>16</td>\n",
       "      <td>jun</td>\n",
       "      <td>83</td>\n",
       "      <td>4</td>\n",
       "      <td>-1</td>\n",
       "      <td>0</td>\n",
       "      <td>unknown</td>\n",
       "      <td>no</td>\n",
       "    </tr>\n",
       "    <tr>\n",
       "      <th>11159</th>\n",
       "      <td>32</td>\n",
       "      <td>technician</td>\n",
       "      <td>single</td>\n",
       "      <td>secondary</td>\n",
       "      <td>no</td>\n",
       "      <td>29</td>\n",
       "      <td>no</td>\n",
       "      <td>no</td>\n",
       "      <td>cellular</td>\n",
       "      <td>19</td>\n",
       "      <td>aug</td>\n",
       "      <td>156</td>\n",
       "      <td>2</td>\n",
       "      <td>-1</td>\n",
       "      <td>0</td>\n",
       "      <td>unknown</td>\n",
       "      <td>no</td>\n",
       "    </tr>\n",
       "    <tr>\n",
       "      <th>11160</th>\n",
       "      <td>43</td>\n",
       "      <td>technician</td>\n",
       "      <td>married</td>\n",
       "      <td>secondary</td>\n",
       "      <td>no</td>\n",
       "      <td>0</td>\n",
       "      <td>no</td>\n",
       "      <td>yes</td>\n",
       "      <td>cellular</td>\n",
       "      <td>8</td>\n",
       "      <td>may</td>\n",
       "      <td>9</td>\n",
       "      <td>2</td>\n",
       "      <td>172</td>\n",
       "      <td>5</td>\n",
       "      <td>failure</td>\n",
       "      <td>no</td>\n",
       "    </tr>\n",
       "    <tr>\n",
       "      <th>11161</th>\n",
       "      <td>34</td>\n",
       "      <td>technician</td>\n",
       "      <td>married</td>\n",
       "      <td>secondary</td>\n",
       "      <td>no</td>\n",
       "      <td>0</td>\n",
       "      <td>no</td>\n",
       "      <td>no</td>\n",
       "      <td>cellular</td>\n",
       "      <td>9</td>\n",
       "      <td>jul</td>\n",
       "      <td>628</td>\n",
       "      <td>1</td>\n",
       "      <td>-1</td>\n",
       "      <td>0</td>\n",
       "      <td>unknown</td>\n",
       "      <td>no</td>\n",
       "    </tr>\n",
       "  </tbody>\n",
       "</table>\n",
       "</div>"
      ],
      "text/plain": [
       "       age          job  marital  education default  balance housing loan  \\\n",
       "11152   34    housemaid  married  secondary      no      390     yes   no   \n",
       "11153   43       admin.   single  secondary      no       35      no   no   \n",
       "11154   52   technician  married   tertiary      no      523     yes  yes   \n",
       "11155   35  blue-collar  married  secondary      no       80     yes  yes   \n",
       "11156   34  blue-collar   single  secondary      no      -72     yes   no   \n",
       "11157   33  blue-collar   single    primary      no        1     yes   no   \n",
       "11158   39     services  married  secondary      no      733      no   no   \n",
       "11159   32   technician   single  secondary      no       29      no   no   \n",
       "11160   43   technician  married  secondary      no        0      no  yes   \n",
       "11161   34   technician  married  secondary      no        0      no   no   \n",
       "\n",
       "         contact  day month  duration  campaign  pdays  previous poutcome  \\\n",
       "11152   cellular   15   jul       659         3     -1         0  unknown   \n",
       "11153  telephone    9   nov       208         1     -1         0  unknown   \n",
       "11154   cellular    8   jul       113         1     -1         0  unknown   \n",
       "11155   cellular   21   nov        38         2    172         2  failure   \n",
       "11156   cellular    7   jul       273         5     -1         0  unknown   \n",
       "11157   cellular   20   apr       257         1     -1         0  unknown   \n",
       "11158    unknown   16   jun        83         4     -1         0  unknown   \n",
       "11159   cellular   19   aug       156         2     -1         0  unknown   \n",
       "11160   cellular    8   may         9         2    172         5  failure   \n",
       "11161   cellular    9   jul       628         1     -1         0  unknown   \n",
       "\n",
       "      deposit  \n",
       "11152      no  \n",
       "11153      no  \n",
       "11154      no  \n",
       "11155      no  \n",
       "11156      no  \n",
       "11157      no  \n",
       "11158      no  \n",
       "11159      no  \n",
       "11160      no  \n",
       "11161      no  "
      ]
     },
     "execution_count": 6,
     "metadata": {},
     "output_type": "execute_result"
    }
   ],
   "source": [
    "#tampilan data 10 terbawah\n",
    "df.tail(10) "
   ]
  },
  {
   "cell_type": "markdown",
   "metadata": {},
   "source": [
    "**Insight**: Data yang tertampil merupakan 10 data terbawah dari dataset. Jika dilihat dari dataset yang ditampilkan, terdapat 17 kolom dataset Banking Marketing yang berisikan informasi yang berasal dari platform kaggle"
   ]
  },
  {
   "cell_type": "code",
   "execution_count": 7,
   "metadata": {},
   "outputs": [
    {
     "data": {
      "text/plain": [
       "age          0\n",
       "job          0\n",
       "marital      0\n",
       "education    0\n",
       "default      0\n",
       "balance      0\n",
       "housing      0\n",
       "loan         0\n",
       "contact      0\n",
       "day          0\n",
       "month        0\n",
       "duration     0\n",
       "campaign     0\n",
       "pdays        0\n",
       "previous     0\n",
       "poutcome     0\n",
       "deposit      0\n",
       "dtype: int64"
      ]
     },
     "execution_count": 7,
     "metadata": {},
     "output_type": "execute_result"
    }
   ],
   "source": [
    "#pengecheckan data null yang terdapat pada dataset\n",
    "df.isnull().sum() "
   ]
  },
  {
   "cell_type": "markdown",
   "metadata": {},
   "source": [
    "**Insight**: tidak terdapat missing value dari dataset diatas."
   ]
  },
  {
   "cell_type": "code",
   "execution_count": 8,
   "metadata": {},
   "outputs": [
    {
     "data": {
      "text/plain": [
       "0"
      ]
     },
     "execution_count": 8,
     "metadata": {},
     "output_type": "execute_result"
    }
   ],
   "source": [
    "df.duplicated().sum()"
   ]
  },
  {
   "cell_type": "markdown",
   "metadata": {},
   "source": [
    "**Insight**: dari dataset diatas, t,idak terdapat data yang duplicate,maka lanjut ke proses selanjutnya."
   ]
  },
  {
   "cell_type": "markdown",
   "metadata": {},
   "source": [
    "## Exploratory Data Analysis (EDA)"
   ]
  },
  {
   "cell_type": "code",
   "execution_count": 9,
   "metadata": {},
   "outputs": [
    {
     "data": {
      "text/plain": [
       "Text(0.5, 1.0, 'Histogram of Age')"
      ]
     },
     "execution_count": 9,
     "metadata": {},
     "output_type": "execute_result"
    },
    {
     "data": {
      "image/png": "[encoded data removed]",
      "text/plain": [
       "<Figure size 1600x500 with 1 Axes>"
      ]
     },
     "metadata": {},
     "output_type": "display_data"
    }
   ],
   "source": [
    "plt.figure(figsize = (16,5))\n",
    "plt.subplot(1,2,1)\n",
    "sns.histplot(df['age'], kde = True, bins = 30)\n",
    "plt.title('Histogram of Age')"
   ]
  },
  {
   "cell_type": "code",
   "execution_count": 10,
   "metadata": {},
   "outputs": [
    {
     "data": {
      "text/plain": [
       "41.231947679627304"
      ]
     },
     "execution_count": 10,
     "metadata": {},
     "output_type": "execute_result"
    }
   ],
   "source": [
    "df['age'].mean()"
   ]
  },
  {
   "cell_type": "markdown",
   "metadata": {},
   "source": [
    "**Insight:** melihat sebaran data usia, menyimpulkan bahwa rata-rata usia campaign marketing ini adalah sekitar 41.23 tahun. Informasi ini memberikan gambaran umum tentang usia kelompok, dengan nilai rata-rata yang dapat dijadikan sebagai representasi tengah dari distribusi usia."
   ]
  },
  {
   "cell_type": "code",
   "execution_count": 12,
   "metadata": {},
   "outputs": [
    {
     "data": {
      "text/plain": [
       "[Text(0, 0, '223.13'), Text(0, 0, '537.29')]"
      ]
     },
     "execution_count": 12,
     "metadata": {},
     "output_type": "execute_result"
    },
    {
     "data": {
      "image/png": "[encoded data removed]",
      "text/plain": [
       "<Figure size 640x480 with 1 Axes>"
      ]
     },
     "metadata": {},
     "output_type": "display_data"
    }
   ],
   "source": [
    "ax =df.groupby('deposit')['duration'].mean().round(2).plot(kind='bar')\n",
    "ax.bar_label(ax.containers[0])"
   ]
  },
  {
   "cell_type": "markdown",
   "metadata": {},
   "source": [
    "**Insight** : Berikut adalah rata rata dari durasi kontak terakhir (`duration`), terhadap `deposit`. dapat disimpulkan bahwa nasabah yang melakukan deposit memiliki kontak durasi lebih besar di banding yang tiddak melakukan deposit. yang artinya semakin lama melakukan kontak bersama nasabah, kemungkinan besar semakin besar untuk nasabah berlangganan deposit. hitungan durasi kontak dalam waktu dihitung dalam hitungan detik."
   ]
  },
  {
   "cell_type": "code",
   "execution_count": 13,
   "metadata": {},
   "outputs": [
    {
     "data": {
      "text/plain": [
       "[Text(0, 0, '1371.84'), Text(0, 0, '1599.93'), Text(0, 0, '1457.26')]"
      ]
     },
     "execution_count": 13,
     "metadata": {},
     "output_type": "execute_result"
    },
    {
     "data": {
      "image/png": "[encoded data removed]",
      "text/plain": [
       "<Figure size 640x480 with 1 Axes>"
      ]
     },
     "metadata": {},
     "output_type": "display_data"
    }
   ],
   "source": [
    "ax =df.groupby('marital')['balance'].mean().round(2).plot(kind='bar')\n",
    "ax.bar_label(ax.containers[0])"
   ]
  },
  {
   "cell_type": "markdown",
   "metadata": {},
   "source": [
    "**Insight** : Berikut merukapan rata rata dari `balance` berdasarkan status pernikahan `marital`, dari data diatas status married mempunyai rata rata balance lebih besar dari pada lainnya sebesar `1599.33`. hal ini bisa menjadi tolak ukur untuk menjadi target nasabah untuk penawaran `deposito`."
   ]
  },
  {
   "cell_type": "code",
   "execution_count": 14,
   "metadata": {},
   "outputs": [
    {
     "data": {
      "image/png": "[encoded data removed]",
      "text/plain": [
       "<Figure size 600x500 with 1 Axes>"
      ]
     },
     "metadata": {},
     "output_type": "display_data"
    }
   ],
   "source": [
    "labels = ['Yes', 'No']\n",
    "size = df['loan'].value_counts()\n",
    "colors = ['lightgreen', 'orange']\n",
    "explode = [0.1, 0]\n",
    "\n",
    "fig, axes = plt.subplots(figsize=(6, 5))\n",
    "plt.pie(size, colors = colors, explode = explode,\n",
    "        labels = labels, shadow = True, startangle = 90, autopct = '%.2f%%')\n",
    "plt.title('Loan Status Gap', fontsize = 20)\n",
    "plt.legend()\n",
    "plt.show()"
   ]
  },
  {
   "cell_type": "markdown",
   "metadata": {},
   "source": [
    "**Insight** : Berdasarkan data diatas Loan dengan status `Yes` mendominasi daripada status `No` mencapai nilai `85.92%` dari total data keseluruhan. yang artinya sebanyak `85.92%`nasabah memiliki pinjaman secara pribadi. tapi hal ini tidak menjadi tolak ukur untuk menjadi apakah nasabah mengikuti program deposito atau tidak berdasarkan status loan"
   ]
  },
  {
   "cell_type": "code",
   "execution_count": 15,
   "metadata": {},
   "outputs": [
    {
     "data": {
      "image/png": "[encoded data removed]",
      "text/plain": [
       "<Figure size 600x500 with 1 Axes>"
      ]
     },
     "metadata": {},
     "output_type": "display_data"
    }
   ],
   "source": [
    "labels = ['Unknow', 'Failure', 'Success','Other']\n",
    "size = df['poutcome'].value_counts()\n",
    "colors = ['lightgreen', 'orange']\n",
    "explode = [0.1, 0.1 , 0.1 , 0.1]\n",
    "\n",
    "fig, axes = plt.subplots(figsize=(6, 5))\n",
    "plt.pie(size, colors = colors, explode = explode,\n",
    "        labels = labels, shadow = True, startangle = 90, autopct = '%.2f%%')\n",
    "plt.title('Previous Outcome', fontsize = 20)\n",
    "plt.legend()\n",
    "plt.show()"
   ]
  },
  {
   "cell_type": "markdown",
   "metadata": {},
   "source": [
    "**Insight** : data diatas merupakan hasil sebaran data dari hasil marketing campaign sebelumnya. sebagian besar, hasil marketing campaign sebelumnya tidak diketahui statusnya `Unknow` mencapai `74%`, sedangkan untuk status `Failuir` sebesar `11%` yang artinya hasil marketing campaign sebelumnya tidak berhasil / mengalami kegagalan. sedangkan untuk status `Success` sebesar `9.6%` yang artinya hasil marketing campaign sebelumnya mengalami keberhasilan sebesar `9.6%`. dan yang terakhir status dengan `Other` sebesar `4.8%` yang artinya hasil marketing campaign sebelumnya juga tidak diketahui berhasil atau tidaknya."
   ]
  },
  {
   "cell_type": "markdown",
   "metadata": {},
   "source": [
    "## Feature Engineering"
   ]
  },
  {
   "cell_type": "code",
   "execution_count": 16,
   "metadata": {},
   "outputs": [
    {
     "data": {
      "text/html": [
       "<div>\n",
       "<style scoped>\n",
       "    .dataframe tbody tr th:only-of-type {\n",
       "        vertical-align: middle;\n",
       "    }\n",
       "\n",
       "    .dataframe tbody tr th {\n",
       "        vertical-align: top;\n",
       "    }\n",
       "\n",
       "    .dataframe thead th {\n",
       "        text-align: right;\n",
       "    }\n",
       "</style>\n",
       "<table border=\"1\" class=\"dataframe\">\n",
       "  <thead>\n",
       "    <tr style=\"text-align: right;\">\n",
       "      <th></th>\n",
       "      <th>nama kolom</th>\n",
       "      <th>jumlah nilai unique</th>\n",
       "    </tr>\n",
       "  </thead>\n",
       "  <tbody>\n",
       "    <tr>\n",
       "      <th>0</th>\n",
       "      <td>age</td>\n",
       "      <td>76</td>\n",
       "    </tr>\n",
       "    <tr>\n",
       "      <th>1</th>\n",
       "      <td>balance</td>\n",
       "      <td>3805</td>\n",
       "    </tr>\n",
       "    <tr>\n",
       "      <th>2</th>\n",
       "      <td>day</td>\n",
       "      <td>31</td>\n",
       "    </tr>\n",
       "    <tr>\n",
       "      <th>3</th>\n",
       "      <td>duration</td>\n",
       "      <td>1428</td>\n",
       "    </tr>\n",
       "    <tr>\n",
       "      <th>4</th>\n",
       "      <td>campaign</td>\n",
       "      <td>36</td>\n",
       "    </tr>\n",
       "    <tr>\n",
       "      <th>5</th>\n",
       "      <td>pdays</td>\n",
       "      <td>472</td>\n",
       "    </tr>\n",
       "    <tr>\n",
       "      <th>6</th>\n",
       "      <td>previous</td>\n",
       "      <td>34</td>\n",
       "    </tr>\n",
       "  </tbody>\n",
       "</table>\n",
       "</div>"
      ],
      "text/plain": [
       "  nama kolom  jumlah nilai unique\n",
       "0        age                   76\n",
       "1    balance                 3805\n",
       "2        day                   31\n",
       "3   duration                 1428\n",
       "4   campaign                   36\n",
       "5      pdays                  472\n",
       "6   previous                   34"
      ]
     },
     "execution_count": 16,
     "metadata": {},
     "output_type": "execute_result"
    }
   ],
   "source": [
    "import pandas as pd\n",
    "\n",
    "pd.set_option('display.max_colwidth', None)\n",
    "\n",
    "cat_cols = (df.select_dtypes(include=['int64', 'float64']).columns)\n",
    "\n",
    "listItem = []\n",
    "for col in cat_cols:\n",
    "    listItem.append([col, df[col].nunique()])\n",
    "\n",
    "result_df = pd.DataFrame(listItem, columns=['nama kolom', 'jumlah nilai unique'])\n",
    "result_df\n"
   ]
  },
  {
   "cell_type": "markdown",
   "metadata": {},
   "source": [
    "**Insight** : pada kolom numerik, kita lebih fokus pada karakteristik statistik, tidak melibatkan pertimbangan cardinality seperti pada kolom kategorikal."
   ]
  },
  {
   "cell_type": "code",
   "execution_count": 17,
   "metadata": {},
   "outputs": [
    {
     "data": {
      "text/html": [
       "<div>\n",
       "<style scoped>\n",
       "    .dataframe tbody tr th:only-of-type {\n",
       "        vertical-align: middle;\n",
       "    }\n",
       "\n",
       "    .dataframe tbody tr th {\n",
       "        vertical-align: top;\n",
       "    }\n",
       "\n",
       "    .dataframe thead th {\n",
       "        text-align: right;\n",
       "    }\n",
       "</style>\n",
       "<table border=\"1\" class=\"dataframe\">\n",
       "  <thead>\n",
       "    <tr style=\"text-align: right;\">\n",
       "      <th></th>\n",
       "      <th>nama kolom</th>\n",
       "      <th>jumlah nilai unique</th>\n",
       "    </tr>\n",
       "  </thead>\n",
       "  <tbody>\n",
       "    <tr>\n",
       "      <th>0</th>\n",
       "      <td>job</td>\n",
       "      <td>12</td>\n",
       "    </tr>\n",
       "    <tr>\n",
       "      <th>1</th>\n",
       "      <td>marital</td>\n",
       "      <td>3</td>\n",
       "    </tr>\n",
       "    <tr>\n",
       "      <th>2</th>\n",
       "      <td>education</td>\n",
       "      <td>4</td>\n",
       "    </tr>\n",
       "    <tr>\n",
       "      <th>3</th>\n",
       "      <td>default</td>\n",
       "      <td>2</td>\n",
       "    </tr>\n",
       "    <tr>\n",
       "      <th>4</th>\n",
       "      <td>housing</td>\n",
       "      <td>2</td>\n",
       "    </tr>\n",
       "    <tr>\n",
       "      <th>5</th>\n",
       "      <td>loan</td>\n",
       "      <td>2</td>\n",
       "    </tr>\n",
       "    <tr>\n",
       "      <th>6</th>\n",
       "      <td>contact</td>\n",
       "      <td>3</td>\n",
       "    </tr>\n",
       "    <tr>\n",
       "      <th>7</th>\n",
       "      <td>month</td>\n",
       "      <td>12</td>\n",
       "    </tr>\n",
       "    <tr>\n",
       "      <th>8</th>\n",
       "      <td>poutcome</td>\n",
       "      <td>4</td>\n",
       "    </tr>\n",
       "    <tr>\n",
       "      <th>9</th>\n",
       "      <td>deposit</td>\n",
       "      <td>2</td>\n",
       "    </tr>\n",
       "  </tbody>\n",
       "</table>\n",
       "</div>"
      ],
      "text/plain": [
       "  nama kolom  jumlah nilai unique\n",
       "0        job                   12\n",
       "1    marital                    3\n",
       "2  education                    4\n",
       "3    default                    2\n",
       "4    housing                    2\n",
       "5       loan                    2\n",
       "6    contact                    3\n",
       "7      month                   12\n",
       "8   poutcome                    4\n",
       "9    deposit                    2"
      ]
     },
     "execution_count": 17,
     "metadata": {},
     "output_type": "execute_result"
    }
   ],
   "source": [
    "pd.set_option('display.max_colwidth', None)\n",
    "\n",
    "cat_cols = list(df.select_dtypes(include='object').columns)\n",
    "\n",
    "listItem = []\n",
    "for col in cat_cols:\n",
    "  listItem.append([col, df[col].nunique()])\n",
    "\n",
    "pd.DataFrame(columns=['nama kolom', 'jumlah nilai unique'], data=listItem)"
   ]
  },
  {
   "cell_type": "markdown",
   "metadata": {},
   "source": [
    "**Insight** : column yang memiliki high cardinality di drop agar memudahkan proses prediksi."
   ]
  },
  {
   "cell_type": "markdown",
   "metadata": {},
   "source": [
    "### Split between X (Features) and y (target)"
   ]
  },
  {
   "cell_type": "code",
   "execution_count": 18,
   "metadata": {},
   "outputs": [
    {
     "data": {
      "text/html": [
       "<div>\n",
       "<style scoped>\n",
       "    .dataframe tbody tr th:only-of-type {\n",
       "        vertical-align: middle;\n",
       "    }\n",
       "\n",
       "    .dataframe tbody tr th {\n",
       "        vertical-align: top;\n",
       "    }\n",
       "\n",
       "    .dataframe thead th {\n",
       "        text-align: right;\n",
       "    }\n",
       "</style>\n",
       "<table border=\"1\" class=\"dataframe\">\n",
       "  <thead>\n",
       "    <tr style=\"text-align: right;\">\n",
       "      <th></th>\n",
       "      <th>age</th>\n",
       "      <th>job</th>\n",
       "      <th>marital</th>\n",
       "      <th>education</th>\n",
       "      <th>default</th>\n",
       "      <th>balance</th>\n",
       "      <th>housing</th>\n",
       "      <th>loan</th>\n",
       "      <th>contact</th>\n",
       "      <th>day</th>\n",
       "      <th>month</th>\n",
       "      <th>duration</th>\n",
       "      <th>campaign</th>\n",
       "      <th>pdays</th>\n",
       "      <th>previous</th>\n",
       "      <th>poutcome</th>\n",
       "    </tr>\n",
       "  </thead>\n",
       "  <tbody>\n",
       "    <tr>\n",
       "      <th>0</th>\n",
       "      <td>59</td>\n",
       "      <td>admin.</td>\n",
       "      <td>married</td>\n",
       "      <td>secondary</td>\n",
       "      <td>no</td>\n",
       "      <td>2343</td>\n",
       "      <td>yes</td>\n",
       "      <td>no</td>\n",
       "      <td>unknown</td>\n",
       "      <td>5</td>\n",
       "      <td>may</td>\n",
       "      <td>1042</td>\n",
       "      <td>1</td>\n",
       "      <td>-1</td>\n",
       "      <td>0</td>\n",
       "      <td>unknown</td>\n",
       "    </tr>\n",
       "    <tr>\n",
       "      <th>1</th>\n",
       "      <td>56</td>\n",
       "      <td>admin.</td>\n",
       "      <td>married</td>\n",
       "      <td>secondary</td>\n",
       "      <td>no</td>\n",
       "      <td>45</td>\n",
       "      <td>no</td>\n",
       "      <td>no</td>\n",
       "      <td>unknown</td>\n",
       "      <td>5</td>\n",
       "      <td>may</td>\n",
       "      <td>1467</td>\n",
       "      <td>1</td>\n",
       "      <td>-1</td>\n",
       "      <td>0</td>\n",
       "      <td>unknown</td>\n",
       "    </tr>\n",
       "    <tr>\n",
       "      <th>2</th>\n",
       "      <td>41</td>\n",
       "      <td>technician</td>\n",
       "      <td>married</td>\n",
       "      <td>secondary</td>\n",
       "      <td>no</td>\n",
       "      <td>1270</td>\n",
       "      <td>yes</td>\n",
       "      <td>no</td>\n",
       "      <td>unknown</td>\n",
       "      <td>5</td>\n",
       "      <td>may</td>\n",
       "      <td>1389</td>\n",
       "      <td>1</td>\n",
       "      <td>-1</td>\n",
       "      <td>0</td>\n",
       "      <td>unknown</td>\n",
       "    </tr>\n",
       "    <tr>\n",
       "      <th>3</th>\n",
       "      <td>55</td>\n",
       "      <td>services</td>\n",
       "      <td>married</td>\n",
       "      <td>secondary</td>\n",
       "      <td>no</td>\n",
       "      <td>2476</td>\n",
       "      <td>yes</td>\n",
       "      <td>no</td>\n",
       "      <td>unknown</td>\n",
       "      <td>5</td>\n",
       "      <td>may</td>\n",
       "      <td>579</td>\n",
       "      <td>1</td>\n",
       "      <td>-1</td>\n",
       "      <td>0</td>\n",
       "      <td>unknown</td>\n",
       "    </tr>\n",
       "    <tr>\n",
       "      <th>4</th>\n",
       "      <td>54</td>\n",
       "      <td>admin.</td>\n",
       "      <td>married</td>\n",
       "      <td>tertiary</td>\n",
       "      <td>no</td>\n",
       "      <td>184</td>\n",
       "      <td>no</td>\n",
       "      <td>no</td>\n",
       "      <td>unknown</td>\n",
       "      <td>5</td>\n",
       "      <td>may</td>\n",
       "      <td>673</td>\n",
       "      <td>2</td>\n",
       "      <td>-1</td>\n",
       "      <td>0</td>\n",
       "      <td>unknown</td>\n",
       "    </tr>\n",
       "    <tr>\n",
       "      <th>...</th>\n",
       "      <td>...</td>\n",
       "      <td>...</td>\n",
       "      <td>...</td>\n",
       "      <td>...</td>\n",
       "      <td>...</td>\n",
       "      <td>...</td>\n",
       "      <td>...</td>\n",
       "      <td>...</td>\n",
       "      <td>...</td>\n",
       "      <td>...</td>\n",
       "      <td>...</td>\n",
       "      <td>...</td>\n",
       "      <td>...</td>\n",
       "      <td>...</td>\n",
       "      <td>...</td>\n",
       "      <td>...</td>\n",
       "    </tr>\n",
       "    <tr>\n",
       "      <th>11157</th>\n",
       "      <td>33</td>\n",
       "      <td>blue-collar</td>\n",
       "      <td>single</td>\n",
       "      <td>primary</td>\n",
       "      <td>no</td>\n",
       "      <td>1</td>\n",
       "      <td>yes</td>\n",
       "      <td>no</td>\n",
       "      <td>cellular</td>\n",
       "      <td>20</td>\n",
       "      <td>apr</td>\n",
       "      <td>257</td>\n",
       "      <td>1</td>\n",
       "      <td>-1</td>\n",
       "      <td>0</td>\n",
       "      <td>unknown</td>\n",
       "    </tr>\n",
       "    <tr>\n",
       "      <th>11158</th>\n",
       "      <td>39</td>\n",
       "      <td>services</td>\n",
       "      <td>married</td>\n",
       "      <td>secondary</td>\n",
       "      <td>no</td>\n",
       "      <td>733</td>\n",
       "      <td>no</td>\n",
       "      <td>no</td>\n",
       "      <td>unknown</td>\n",
       "      <td>16</td>\n",
       "      <td>jun</td>\n",
       "      <td>83</td>\n",
       "      <td>4</td>\n",
       "      <td>-1</td>\n",
       "      <td>0</td>\n",
       "      <td>unknown</td>\n",
       "    </tr>\n",
       "    <tr>\n",
       "      <th>11159</th>\n",
       "      <td>32</td>\n",
       "      <td>technician</td>\n",
       "      <td>single</td>\n",
       "      <td>secondary</td>\n",
       "      <td>no</td>\n",
       "      <td>29</td>\n",
       "      <td>no</td>\n",
       "      <td>no</td>\n",
       "      <td>cellular</td>\n",
       "      <td>19</td>\n",
       "      <td>aug</td>\n",
       "      <td>156</td>\n",
       "      <td>2</td>\n",
       "      <td>-1</td>\n",
       "      <td>0</td>\n",
       "      <td>unknown</td>\n",
       "    </tr>\n",
       "    <tr>\n",
       "      <th>11160</th>\n",
       "      <td>43</td>\n",
       "      <td>technician</td>\n",
       "      <td>married</td>\n",
       "      <td>secondary</td>\n",
       "      <td>no</td>\n",
       "      <td>0</td>\n",
       "      <td>no</td>\n",
       "      <td>yes</td>\n",
       "      <td>cellular</td>\n",
       "      <td>8</td>\n",
       "      <td>may</td>\n",
       "      <td>9</td>\n",
       "      <td>2</td>\n",
       "      <td>172</td>\n",
       "      <td>5</td>\n",
       "      <td>failure</td>\n",
       "    </tr>\n",
       "    <tr>\n",
       "      <th>11161</th>\n",
       "      <td>34</td>\n",
       "      <td>technician</td>\n",
       "      <td>married</td>\n",
       "      <td>secondary</td>\n",
       "      <td>no</td>\n",
       "      <td>0</td>\n",
       "      <td>no</td>\n",
       "      <td>no</td>\n",
       "      <td>cellular</td>\n",
       "      <td>9</td>\n",
       "      <td>jul</td>\n",
       "      <td>628</td>\n",
       "      <td>1</td>\n",
       "      <td>-1</td>\n",
       "      <td>0</td>\n",
       "      <td>unknown</td>\n",
       "    </tr>\n",
       "  </tbody>\n",
       "</table>\n",
       "<p>11162 rows × 16 columns</p>\n",
       "</div>"
      ],
      "text/plain": [
       "       age          job  marital  education default  balance housing loan  \\\n",
       "0       59       admin.  married  secondary      no     2343     yes   no   \n",
       "1       56       admin.  married  secondary      no       45      no   no   \n",
       "2       41   technician  married  secondary      no     1270     yes   no   \n",
       "3       55     services  married  secondary      no     2476     yes   no   \n",
       "4       54       admin.  married   tertiary      no      184      no   no   \n",
       "...    ...          ...      ...        ...     ...      ...     ...  ...   \n",
       "11157   33  blue-collar   single    primary      no        1     yes   no   \n",
       "11158   39     services  married  secondary      no      733      no   no   \n",
       "11159   32   technician   single  secondary      no       29      no   no   \n",
       "11160   43   technician  married  secondary      no        0      no  yes   \n",
       "11161   34   technician  married  secondary      no        0      no   no   \n",
       "\n",
       "        contact  day month  duration  campaign  pdays  previous poutcome  \n",
       "0       unknown    5   may      1042         1     -1         0  unknown  \n",
       "1       unknown    5   may      1467         1     -1         0  unknown  \n",
       "2       unknown    5   may      1389         1     -1         0  unknown  \n",
       "3       unknown    5   may       579         1     -1         0  unknown  \n",
       "4       unknown    5   may       673         2     -1         0  unknown  \n",
       "...         ...  ...   ...       ...       ...    ...       ...      ...  \n",
       "11157  cellular   20   apr       257         1     -1         0  unknown  \n",
       "11158   unknown   16   jun        83         4     -1         0  unknown  \n",
       "11159  cellular   19   aug       156         2     -1         0  unknown  \n",
       "11160  cellular    8   may         9         2    172         5  failure  \n",
       "11161  cellular    9   jul       628         1     -1         0  unknown  \n",
       "\n",
       "[11162 rows x 16 columns]"
      ]
     },
     "execution_count": 18,
     "metadata": {},
     "output_type": "execute_result"
    }
   ],
   "source": [
    "#Splitting between 'X' and 'y'\n",
    "\n",
    "X = df.drop(['deposit'], axis = 1)\n",
    "y = df['deposit']\n",
    "X"
   ]
  },
  {
   "cell_type": "markdown",
   "metadata": {},
   "source": [
    "**Insight:** memisahkan fitur (X) dan target (y). Target (y) dalam konteks ini adalah kolom deposit, karena kita berfokus pada prediksi apakah nasabah melakukan deposit atau tidak."
   ]
  },
  {
   "cell_type": "code",
   "execution_count": 19,
   "metadata": {},
   "outputs": [
    {
     "name": "stdout",
     "output_type": "stream",
     "text": [
      "x Train Size:  (8929, 16)\n",
      "x Test Size:  (2233, 16)\n",
      "y Train Size:  (8929,)\n",
      "y Test Size:  (2233,)\n"
     ]
    }
   ],
   "source": [
    "#Splitting between train and test\n",
    "\n",
    "X_train, X_test, y_train, y_test = train_test_split(X, y, test_size = 0.2, random_state = 40, stratify=y)\n",
    "print('x Train Size: ', X_train.shape)\n",
    "print('x Test Size: ', X_test.shape)\n",
    "print('y Train Size: ', y_train.shape)\n",
    "print('y Test Size: ', y_test.shape)"
   ]
  },
  {
   "cell_type": "markdown",
   "metadata": {},
   "source": [
    "**Insight:**  :\n",
    "Jumlah entri atau baris data pada dataset (Train) adalah sebanyak 8929, sementara pada dataset (Test) terdapat 2233 entri. Informasi ini memberikan gambaran tentang seberapa besar sampel data yang digunakan untuk melatih dan menguji model prediksi.\n",
    "`test_size=0.2` data uji akan menjadi 20% dari total dataset, `random_state=40` bertujuan untuk menentukan nilai seed atau inisialisasi acak pada proses pembagian dataset, dan `stratify=y` digunakan untuk memastikan bahwa pembagian kelas target (label) dalam data uji dan data latih tetap mengikuti proporsi yang ada pada dataset asli. "
   ]
  },
  {
   "cell_type": "code",
   "execution_count": 20,
   "metadata": {},
   "outputs": [
    {
     "name": "stdout",
     "output_type": "stream",
     "text": [
      "Numeric Columns:  ['age', 'balance', 'day', 'duration', 'campaign', 'pdays', 'previous']\n",
      "Categorical Columns:  ['job', 'marital', 'education', 'default', 'housing', 'loan', 'contact', 'month', 'poutcome']\n"
     ]
    }
   ],
   "source": [
    "#get numeric and categorical column\n",
    "\n",
    "num_columns = X_train.select_dtypes(include = np.number).columns.tolist()\n",
    "cat_columns = X_train.select_dtypes(include = ['object']).columns.tolist()\n",
    "\n",
    "print('Numeric Columns: ', num_columns)\n",
    "print('Categorical Columns: ', cat_columns)"
   ]
  },
  {
   "cell_type": "markdown",
   "metadata": {},
   "source": [
    "**Insight:** :  Pada dataset ini, terdapat column numerik dan kategorikal. column numerik terdiri dari age, balance, day, duration, campaign, pdays, previous. dan column kategorikal terdiri dari job, marital, education, default, housing, loan, contact."
   ]
  },
  {
   "cell_type": "code",
   "execution_count": 21,
   "metadata": {},
   "outputs": [
    {
     "data": {
      "text/html": [
       "<div>\n",
       "<style scoped>\n",
       "    .dataframe tbody tr th:only-of-type {\n",
       "        vertical-align: middle;\n",
       "    }\n",
       "\n",
       "    .dataframe tbody tr th {\n",
       "        vertical-align: top;\n",
       "    }\n",
       "\n",
       "    .dataframe thead th {\n",
       "        text-align: right;\n",
       "    }\n",
       "</style>\n",
       "<table border=\"1\" class=\"dataframe\">\n",
       "  <thead>\n",
       "    <tr style=\"text-align: right;\">\n",
       "      <th></th>\n",
       "      <th>age</th>\n",
       "      <th>balance</th>\n",
       "      <th>day</th>\n",
       "      <th>duration</th>\n",
       "      <th>campaign</th>\n",
       "      <th>pdays</th>\n",
       "      <th>previous</th>\n",
       "    </tr>\n",
       "  </thead>\n",
       "  <tbody>\n",
       "    <tr>\n",
       "      <th>3810</th>\n",
       "      <td>42</td>\n",
       "      <td>372</td>\n",
       "      <td>3</td>\n",
       "      <td>654</td>\n",
       "      <td>2</td>\n",
       "      <td>-1</td>\n",
       "      <td>0</td>\n",
       "    </tr>\n",
       "    <tr>\n",
       "      <th>2099</th>\n",
       "      <td>39</td>\n",
       "      <td>116</td>\n",
       "      <td>22</td>\n",
       "      <td>554</td>\n",
       "      <td>2</td>\n",
       "      <td>-1</td>\n",
       "      <td>0</td>\n",
       "    </tr>\n",
       "    <tr>\n",
       "      <th>6728</th>\n",
       "      <td>49</td>\n",
       "      <td>1807</td>\n",
       "      <td>2</td>\n",
       "      <td>225</td>\n",
       "      <td>1</td>\n",
       "      <td>82</td>\n",
       "      <td>1</td>\n",
       "    </tr>\n",
       "    <tr>\n",
       "      <th>10002</th>\n",
       "      <td>65</td>\n",
       "      <td>493</td>\n",
       "      <td>16</td>\n",
       "      <td>622</td>\n",
       "      <td>1</td>\n",
       "      <td>182</td>\n",
       "      <td>1</td>\n",
       "    </tr>\n",
       "    <tr>\n",
       "      <th>9837</th>\n",
       "      <td>48</td>\n",
       "      <td>3756</td>\n",
       "      <td>14</td>\n",
       "      <td>65</td>\n",
       "      <td>10</td>\n",
       "      <td>-1</td>\n",
       "      <td>0</td>\n",
       "    </tr>\n",
       "    <tr>\n",
       "      <th>...</th>\n",
       "      <td>...</td>\n",
       "      <td>...</td>\n",
       "      <td>...</td>\n",
       "      <td>...</td>\n",
       "      <td>...</td>\n",
       "      <td>...</td>\n",
       "      <td>...</td>\n",
       "    </tr>\n",
       "    <tr>\n",
       "      <th>5862</th>\n",
       "      <td>36</td>\n",
       "      <td>243</td>\n",
       "      <td>7</td>\n",
       "      <td>160</td>\n",
       "      <td>2</td>\n",
       "      <td>360</td>\n",
       "      <td>3</td>\n",
       "    </tr>\n",
       "    <tr>\n",
       "      <th>812</th>\n",
       "      <td>46</td>\n",
       "      <td>4414</td>\n",
       "      <td>18</td>\n",
       "      <td>504</td>\n",
       "      <td>7</td>\n",
       "      <td>-1</td>\n",
       "      <td>0</td>\n",
       "    </tr>\n",
       "    <tr>\n",
       "      <th>9388</th>\n",
       "      <td>50</td>\n",
       "      <td>280</td>\n",
       "      <td>18</td>\n",
       "      <td>61</td>\n",
       "      <td>23</td>\n",
       "      <td>-1</td>\n",
       "      <td>0</td>\n",
       "    </tr>\n",
       "    <tr>\n",
       "      <th>8856</th>\n",
       "      <td>40</td>\n",
       "      <td>737</td>\n",
       "      <td>12</td>\n",
       "      <td>102</td>\n",
       "      <td>1</td>\n",
       "      <td>-1</td>\n",
       "      <td>0</td>\n",
       "    </tr>\n",
       "    <tr>\n",
       "      <th>1037</th>\n",
       "      <td>35</td>\n",
       "      <td>5639</td>\n",
       "      <td>20</td>\n",
       "      <td>945</td>\n",
       "      <td>2</td>\n",
       "      <td>-1</td>\n",
       "      <td>0</td>\n",
       "    </tr>\n",
       "  </tbody>\n",
       "</table>\n",
       "<p>8929 rows × 7 columns</p>\n",
       "</div>"
      ],
      "text/plain": [
       "       age  balance  day  duration  campaign  pdays  previous\n",
       "3810    42      372    3       654         2     -1         0\n",
       "2099    39      116   22       554         2     -1         0\n",
       "6728    49     1807    2       225         1     82         1\n",
       "10002   65      493   16       622         1    182         1\n",
       "9837    48     3756   14        65        10     -1         0\n",
       "...    ...      ...  ...       ...       ...    ...       ...\n",
       "5862    36      243    7       160         2    360         3\n",
       "812     46     4414   18       504         7     -1         0\n",
       "9388    50      280   18        61        23     -1         0\n",
       "8856    40      737   12       102         1     -1         0\n",
       "1037    35     5639   20       945         2     -1         0\n",
       "\n",
       "[8929 rows x 7 columns]"
      ]
     },
     "execution_count": 21,
     "metadata": {},
     "output_type": "execute_result"
    }
   ],
   "source": [
    "# Split numerical columns and categorical columns\n",
    "\n",
    "X_train_num = X_train[num_columns]\n",
    "X_train_cat = X_train[cat_columns]\n",
    "\n",
    "X_test_num = X_test[num_columns]\n",
    "X_test_cat = X_test[cat_columns]\n",
    "\n",
    "X_train_num"
   ]
  },
  {
   "cell_type": "markdown",
   "metadata": {},
   "source": [
    "**Insight:** : Dataset train dan test untuk kolom numerik telah dipisahkan. Langkah ini diambil untuk melakukan uji korelasi terhadap setiap fitur, dengan tujuan melihat apakah terdapat hubungan korelasi antara fitur-fitur tersebut dengan target."
   ]
  },
  {
   "cell_type": "code",
   "execution_count": 22,
   "metadata": {},
   "outputs": [],
   "source": [
    "le = LabelEncoder()\n",
    "y_train = le.fit_transform(y_train)\n",
    "y_test = le.fit_transform(y_test)"
   ]
  },
  {
   "cell_type": "markdown",
   "metadata": {},
   "source": [
    "**Insight** : menggunakan LabelEncoder dari scikit-learn untuk mengubah nilai-nilai kategorikal dalam variabel target (y_train dan y_test) menjadi nilai numerik. "
   ]
  },
  {
   "cell_type": "markdown",
   "metadata": {},
   "source": [
    "### Uji Korelasi"
   ]
  },
  {
   "cell_type": "code",
   "execution_count": 23,
   "metadata": {},
   "outputs": [
    {
     "data": {
      "text/html": [
       "<div>\n",
       "<style scoped>\n",
       "    .dataframe tbody tr th:only-of-type {\n",
       "        vertical-align: middle;\n",
       "    }\n",
       "\n",
       "    .dataframe tbody tr th {\n",
       "        vertical-align: top;\n",
       "    }\n",
       "\n",
       "    .dataframe thead th {\n",
       "        text-align: right;\n",
       "    }\n",
       "</style>\n",
       "<table border=\"1\" class=\"dataframe\">\n",
       "  <thead>\n",
       "    <tr style=\"text-align: right;\">\n",
       "      <th></th>\n",
       "      <th>nama kolom</th>\n",
       "      <th>hasil</th>\n",
       "    </tr>\n",
       "  </thead>\n",
       "  <tbody>\n",
       "    <tr>\n",
       "      <th>0</th>\n",
       "      <td>age</td>\n",
       "      <td>ada korelasi</td>\n",
       "    </tr>\n",
       "    <tr>\n",
       "      <th>1</th>\n",
       "      <td>balance</td>\n",
       "      <td>ada korelasi</td>\n",
       "    </tr>\n",
       "    <tr>\n",
       "      <th>2</th>\n",
       "      <td>day</td>\n",
       "      <td>ada korelasi</td>\n",
       "    </tr>\n",
       "    <tr>\n",
       "      <th>3</th>\n",
       "      <td>duration</td>\n",
       "      <td>ada korelasi</td>\n",
       "    </tr>\n",
       "    <tr>\n",
       "      <th>4</th>\n",
       "      <td>campaign</td>\n",
       "      <td>ada korelasi</td>\n",
       "    </tr>\n",
       "    <tr>\n",
       "      <th>5</th>\n",
       "      <td>pdays</td>\n",
       "      <td>ada korelasi</td>\n",
       "    </tr>\n",
       "    <tr>\n",
       "      <th>6</th>\n",
       "      <td>previous</td>\n",
       "      <td>ada korelasi</td>\n",
       "    </tr>\n",
       "  </tbody>\n",
       "</table>\n",
       "</div>"
      ],
      "text/plain": [
       "  nama kolom         hasil\n",
       "0        age  ada korelasi\n",
       "1    balance  ada korelasi\n",
       "2        day  ada korelasi\n",
       "3   duration  ada korelasi\n",
       "4   campaign  ada korelasi\n",
       "5      pdays  ada korelasi\n",
       "6   previous  ada korelasi"
      ]
     },
     "execution_count": 23,
     "metadata": {},
     "output_type": "execute_result"
    }
   ],
   "source": [
    "# Feature selection Numerical columns\n",
    "p_values = []\n",
    "interpretasi = []\n",
    "cols = []\n",
    "\n",
    "for col in X_train_num.columns:\n",
    "  corr_coef, p_value = pearsonr(X_train_num[col], y_train)\n",
    "\n",
    "  p_values.append(p_value)\n",
    "  cols.append(col)\n",
    "\n",
    "  if p_value < 0.05:\n",
    "    interpretasi.append('ada korelasi')\n",
    "  else :\n",
    "    interpretasi.append('ga ada korelasi')\n",
    "\n",
    "pd.DataFrame({'nama kolom':cols,\n",
    "              'hasil': interpretasi})\n"
   ]
  },
  {
   "cell_type": "markdown",
   "metadata": {},
   "source": [
    "**Insight** : Ditemukan bahwa semua column numerik menunjukkan korelasi yang signifikan dengan variabel target. Ketika tidak terdapat korelasi antara suatu fitur dan variabel target, hal tersebut mengindikasikan bahwa fitur tersebut mungkin tidak memberikan informasi yang cukup signifikan untuk memprediksi atau menjelaskan variabel target.``"
   ]
  },
  {
   "cell_type": "code",
   "execution_count": 24,
   "metadata": {},
   "outputs": [
    {
     "data": {
      "text/html": [
       "<div>\n",
       "<style scoped>\n",
       "    .dataframe tbody tr th:only-of-type {\n",
       "        vertical-align: middle;\n",
       "    }\n",
       "\n",
       "    .dataframe tbody tr th {\n",
       "        vertical-align: top;\n",
       "    }\n",
       "\n",
       "    .dataframe thead th {\n",
       "        text-align: right;\n",
       "    }\n",
       "</style>\n",
       "<table border=\"1\" class=\"dataframe\">\n",
       "  <thead>\n",
       "    <tr style=\"text-align: right;\">\n",
       "      <th></th>\n",
       "      <th>nama kolom</th>\n",
       "      <th>hasil</th>\n",
       "    </tr>\n",
       "  </thead>\n",
       "  <tbody>\n",
       "    <tr>\n",
       "      <th>0</th>\n",
       "      <td>job</td>\n",
       "      <td>ada korelasi</td>\n",
       "    </tr>\n",
       "    <tr>\n",
       "      <th>1</th>\n",
       "      <td>marital</td>\n",
       "      <td>ada korelasi</td>\n",
       "    </tr>\n",
       "    <tr>\n",
       "      <th>2</th>\n",
       "      <td>education</td>\n",
       "      <td>ada korelasi</td>\n",
       "    </tr>\n",
       "    <tr>\n",
       "      <th>3</th>\n",
       "      <td>default</td>\n",
       "      <td>ada korelasi</td>\n",
       "    </tr>\n",
       "    <tr>\n",
       "      <th>4</th>\n",
       "      <td>housing</td>\n",
       "      <td>ada korelasi</td>\n",
       "    </tr>\n",
       "    <tr>\n",
       "      <th>5</th>\n",
       "      <td>loan</td>\n",
       "      <td>ada korelasi</td>\n",
       "    </tr>\n",
       "    <tr>\n",
       "      <th>6</th>\n",
       "      <td>contact</td>\n",
       "      <td>ada korelasi</td>\n",
       "    </tr>\n",
       "    <tr>\n",
       "      <th>7</th>\n",
       "      <td>month</td>\n",
       "      <td>ada korelasi</td>\n",
       "    </tr>\n",
       "    <tr>\n",
       "      <th>8</th>\n",
       "      <td>poutcome</td>\n",
       "      <td>ada korelasi</td>\n",
       "    </tr>\n",
       "  </tbody>\n",
       "</table>\n",
       "</div>"
      ],
      "text/plain": [
       "  nama kolom         hasil\n",
       "0        job  ada korelasi\n",
       "1    marital  ada korelasi\n",
       "2  education  ada korelasi\n",
       "3    default  ada korelasi\n",
       "4    housing  ada korelasi\n",
       "5       loan  ada korelasi\n",
       "6    contact  ada korelasi\n",
       "7      month  ada korelasi\n",
       "8   poutcome  ada korelasi"
      ]
     },
     "execution_count": 24,
     "metadata": {},
     "output_type": "execute_result"
    }
   ],
   "source": [
    "# Feature selection Kategorical columns\n",
    "p_values = []\n",
    "interpretasi = []\n",
    "cols = []\n",
    "\n",
    "for col in X_train_cat.columns:\n",
    "  corr_coef, p_value = kendalltau(X_train_cat[col], y_train)\n",
    "\n",
    "  p_values.append(p_value)\n",
    "  cols.append(col)\n",
    "\n",
    "  if p_value < 0.05:\n",
    "    interpretasi.append('ada korelasi')\n",
    "  else :\n",
    "    interpretasi.append('ga ada korelasi')\n",
    "\n",
    "pd.DataFrame({'nama kolom':cols,\n",
    "              'hasil': interpretasi})\n"
   ]
  },
  {
   "cell_type": "markdown",
   "metadata": {},
   "source": [
    "**Insight** : Ditemukan bahwa semua column kategorikal menunjukkan korelasi yang signifikan dengan variabel target. Ketika tidak terdapat korelasi antara suatu fitur dan variabel target, hal tersebut mengindikasikan bahwa fitur tersebut mungkin tidak memberikan informasi yang cukup signifikan untuk memprediksi atau menjelaskan variabel target."
   ]
  },
  {
   "cell_type": "markdown",
   "metadata": {},
   "source": [
    "### Handling Outlier"
   ]
  },
  {
   "cell_type": "code",
   "execution_count": 25,
   "metadata": {},
   "outputs": [
    {
     "name": "stdout",
     "output_type": "stream",
     "text": [
      "Column age outliers = 1.65%\n",
      "Column balance outliers = 9.25%\n",
      "Column day outliers = 0.00%\n",
      "Column duration outliers = 5.77%\n",
      "Column campaign outliers = 7.91%\n",
      "Column pdays outliers = 24.77%\n",
      "Column previous outliers = 11.03%\n"
     ]
    }
   ],
   "source": [
    "num_train = X_train._get_numeric_data()\n",
    "for k, v in num_train.items():\n",
    "  q1 = v.quantile(0.25)\n",
    "  q3 = v.quantile(0.75)\n",
    "  iqr = q3 - q1\n",
    "  v_col = v[(v <= q1 - 1.5 * iqr) | (v >= q3 + 1.5 * iqr)]\n",
    "  perc = np.shape(v_col)[0] * 100.0 / np.shape(num_train)[0]\n",
    "  print(\"Column %s outliers = %.2f%%\" % (k, perc))"
   ]
  },
  {
   "cell_type": "code",
   "execution_count": 26,
   "metadata": {},
   "outputs": [],
   "source": [
    "winsoriser = Winsorizer(capping_method='iqr',\n",
    "                            tail='both',\n",
    "                            fold=1,\n",
    "                            variables=['day','balance','duration','campaign','pdays','previous'\n",
    "                                       ],\n",
    "                            missing_values='ignore')\n",
    "\n",
    "winsoriser.fit(X_train)\n",
    "\n",
    "X_train = winsoriser.transform(X_train)"
   ]
  },
  {
   "cell_type": "markdown",
   "metadata": {},
   "source": [
    "**Insight:** : Untuk menangani outliers pada data yang memiliki distribusi (skewed), digunakan metode IQR dengan fold sebanyak 1. Melihat nilai skewness yang dihasilkan, terdapat banyak data yang mengalami skewness ekstrem, oleh karena itu dipilih fold 1 untuk mengatasi situasi tersebut. "
   ]
  },
  {
   "cell_type": "code",
   "execution_count": 27,
   "metadata": {},
   "outputs": [
    {
     "name": "stdout",
     "output_type": "stream",
     "text": [
      "Column age outliers = 1.93%\n",
      "Column balance outliers = 9.72%\n",
      "Column day outliers = 0.00%\n",
      "Column duration outliers = 5.46%\n",
      "Column campaign outliers = 7.17%\n",
      "Column pdays outliers = 9.49%\n",
      "Column previous outliers = 12.23%\n"
     ]
    }
   ],
   "source": [
    "num_test = X_test._get_numeric_data()\n",
    "for k, v in num_test.items():\n",
    "  q1 = v.quantile(0.25)\n",
    "  q3 = v.quantile(0.75)\n",
    "  iqr = q3 - q1\n",
    "  v_col = v[(v <= q1 - 1.5 * iqr) | (v >= q3 + 1.5 * iqr)]\n",
    "  perc = np.shape(v_col)[0] * 100.0 / np.shape(num_test)[0]\n",
    "  print(\"Column %s outliers = %.2f%%\" % (k, perc))"
   ]
  },
  {
   "cell_type": "code",
   "execution_count": 28,
   "metadata": {},
   "outputs": [],
   "source": [
    "X_test = winsoriser.transform(X_test)"
   ]
  },
  {
   "cell_type": "markdown",
   "metadata": {},
   "source": [
    "### Concate"
   ]
  },
  {
   "cell_type": "code",
   "execution_count": 29,
   "metadata": {},
   "outputs": [
    {
     "data": {
      "text/plain": [
       "array([[42, 372, 3, ..., 'cellular', 'aug', 'unknown'],\n",
       "       [39, 116, 22, ..., 'cellular', 'may', 'unknown'],\n",
       "       [49, 1807, 2, ..., 'cellular', 'jun', 'success'],\n",
       "       ...,\n",
       "       [50, 280, 18, ..., 'unknown', 'jun', 'unknown'],\n",
       "       [40, 737, 12, ..., 'unknown', 'may', 'unknown'],\n",
       "       [35, 5639, 20, ..., 'cellular', 'nov', 'unknown']], dtype=object)"
      ]
     },
     "execution_count": 29,
     "metadata": {},
     "output_type": "execute_result"
    }
   ],
   "source": [
    "X_train_final = np.concatenate([X_train_num, X_train_cat], axis = 1)\n",
    "X_test_final = np.concatenate([X_test_num, X_test_cat], axis = 1)\n",
    "\n",
    "X_train_final"
   ]
  },
  {
   "cell_type": "markdown",
   "metadata": {},
   "source": [
    "**Insight** : \n",
    "Kode tersebut melakukan penggabungan dua jenis data, yaitu data numerik dan data kategorikal, untuk persiapan dalam analisis data atau pembelajaran mesin. Data numerik disimpan dalam variabel `X_train_num` dan `X_test_num`, sedangkan data kategorikal disimpan dalam variabel `X_train_cat` dan `X_test_cat`. Penggabungan dilakukan secara horizontal `(axis = 1)`, menyatukan informasi numerik dan kategorikal dari setiap baris data. Hasilnya, kita mendapatkan dua set data baru: `X_train_final` untuk pelatihan dan `X_test_final` untuk pengujian, yang siap digunakan dalam proses berikutnya."
   ]
  },
  {
   "cell_type": "code",
   "execution_count": 30,
   "metadata": {},
   "outputs": [
    {
     "data": {
      "text/html": [
       "<div>\n",
       "<style scoped>\n",
       "    .dataframe tbody tr th:only-of-type {\n",
       "        vertical-align: middle;\n",
       "    }\n",
       "\n",
       "    .dataframe tbody tr th {\n",
       "        vertical-align: top;\n",
       "    }\n",
       "\n",
       "    .dataframe thead th {\n",
       "        text-align: right;\n",
       "    }\n",
       "</style>\n",
       "<table border=\"1\" class=\"dataframe\">\n",
       "  <thead>\n",
       "    <tr style=\"text-align: right;\">\n",
       "      <th></th>\n",
       "      <th>age</th>\n",
       "      <th>balance</th>\n",
       "      <th>day</th>\n",
       "      <th>duration</th>\n",
       "      <th>campaign</th>\n",
       "      <th>pdays</th>\n",
       "      <th>previous</th>\n",
       "      <th>job</th>\n",
       "      <th>marital</th>\n",
       "      <th>education</th>\n",
       "      <th>default</th>\n",
       "      <th>housing</th>\n",
       "      <th>loan</th>\n",
       "      <th>contact</th>\n",
       "      <th>month</th>\n",
       "      <th>poutcome</th>\n",
       "    </tr>\n",
       "  </thead>\n",
       "  <tbody>\n",
       "    <tr>\n",
       "      <th>0</th>\n",
       "      <td>42</td>\n",
       "      <td>372</td>\n",
       "      <td>3</td>\n",
       "      <td>654</td>\n",
       "      <td>2</td>\n",
       "      <td>-1</td>\n",
       "      <td>0</td>\n",
       "      <td>management</td>\n",
       "      <td>married</td>\n",
       "      <td>tertiary</td>\n",
       "      <td>no</td>\n",
       "      <td>yes</td>\n",
       "      <td>no</td>\n",
       "      <td>cellular</td>\n",
       "      <td>aug</td>\n",
       "      <td>unknown</td>\n",
       "    </tr>\n",
       "    <tr>\n",
       "      <th>1</th>\n",
       "      <td>39</td>\n",
       "      <td>116</td>\n",
       "      <td>22</td>\n",
       "      <td>554</td>\n",
       "      <td>2</td>\n",
       "      <td>-1</td>\n",
       "      <td>0</td>\n",
       "      <td>technician</td>\n",
       "      <td>married</td>\n",
       "      <td>secondary</td>\n",
       "      <td>no</td>\n",
       "      <td>no</td>\n",
       "      <td>no</td>\n",
       "      <td>cellular</td>\n",
       "      <td>may</td>\n",
       "      <td>unknown</td>\n",
       "    </tr>\n",
       "    <tr>\n",
       "      <th>2</th>\n",
       "      <td>49</td>\n",
       "      <td>1807</td>\n",
       "      <td>2</td>\n",
       "      <td>225</td>\n",
       "      <td>1</td>\n",
       "      <td>82</td>\n",
       "      <td>1</td>\n",
       "      <td>technician</td>\n",
       "      <td>divorced</td>\n",
       "      <td>tertiary</td>\n",
       "      <td>no</td>\n",
       "      <td>yes</td>\n",
       "      <td>no</td>\n",
       "      <td>cellular</td>\n",
       "      <td>jun</td>\n",
       "      <td>success</td>\n",
       "    </tr>\n",
       "    <tr>\n",
       "      <th>3</th>\n",
       "      <td>65</td>\n",
       "      <td>493</td>\n",
       "      <td>16</td>\n",
       "      <td>622</td>\n",
       "      <td>1</td>\n",
       "      <td>182</td>\n",
       "      <td>1</td>\n",
       "      <td>retired</td>\n",
       "      <td>married</td>\n",
       "      <td>primary</td>\n",
       "      <td>no</td>\n",
       "      <td>no</td>\n",
       "      <td>no</td>\n",
       "      <td>cellular</td>\n",
       "      <td>oct</td>\n",
       "      <td>failure</td>\n",
       "    </tr>\n",
       "    <tr>\n",
       "      <th>4</th>\n",
       "      <td>48</td>\n",
       "      <td>3756</td>\n",
       "      <td>14</td>\n",
       "      <td>65</td>\n",
       "      <td>10</td>\n",
       "      <td>-1</td>\n",
       "      <td>0</td>\n",
       "      <td>admin.</td>\n",
       "      <td>married</td>\n",
       "      <td>unknown</td>\n",
       "      <td>no</td>\n",
       "      <td>no</td>\n",
       "      <td>no</td>\n",
       "      <td>cellular</td>\n",
       "      <td>aug</td>\n",
       "      <td>unknown</td>\n",
       "    </tr>\n",
       "    <tr>\n",
       "      <th>...</th>\n",
       "      <td>...</td>\n",
       "      <td>...</td>\n",
       "      <td>...</td>\n",
       "      <td>...</td>\n",
       "      <td>...</td>\n",
       "      <td>...</td>\n",
       "      <td>...</td>\n",
       "      <td>...</td>\n",
       "      <td>...</td>\n",
       "      <td>...</td>\n",
       "      <td>...</td>\n",
       "      <td>...</td>\n",
       "      <td>...</td>\n",
       "      <td>...</td>\n",
       "      <td>...</td>\n",
       "      <td>...</td>\n",
       "    </tr>\n",
       "    <tr>\n",
       "      <th>8924</th>\n",
       "      <td>36</td>\n",
       "      <td>243</td>\n",
       "      <td>7</td>\n",
       "      <td>160</td>\n",
       "      <td>2</td>\n",
       "      <td>360</td>\n",
       "      <td>3</td>\n",
       "      <td>management</td>\n",
       "      <td>single</td>\n",
       "      <td>tertiary</td>\n",
       "      <td>no</td>\n",
       "      <td>yes</td>\n",
       "      <td>no</td>\n",
       "      <td>cellular</td>\n",
       "      <td>may</td>\n",
       "      <td>failure</td>\n",
       "    </tr>\n",
       "    <tr>\n",
       "      <th>8925</th>\n",
       "      <td>46</td>\n",
       "      <td>4414</td>\n",
       "      <td>18</td>\n",
       "      <td>504</td>\n",
       "      <td>7</td>\n",
       "      <td>-1</td>\n",
       "      <td>0</td>\n",
       "      <td>technician</td>\n",
       "      <td>single</td>\n",
       "      <td>tertiary</td>\n",
       "      <td>no</td>\n",
       "      <td>no</td>\n",
       "      <td>no</td>\n",
       "      <td>cellular</td>\n",
       "      <td>aug</td>\n",
       "      <td>unknown</td>\n",
       "    </tr>\n",
       "    <tr>\n",
       "      <th>8926</th>\n",
       "      <td>50</td>\n",
       "      <td>280</td>\n",
       "      <td>18</td>\n",
       "      <td>61</td>\n",
       "      <td>23</td>\n",
       "      <td>-1</td>\n",
       "      <td>0</td>\n",
       "      <td>blue-collar</td>\n",
       "      <td>married</td>\n",
       "      <td>primary</td>\n",
       "      <td>no</td>\n",
       "      <td>yes</td>\n",
       "      <td>no</td>\n",
       "      <td>unknown</td>\n",
       "      <td>jun</td>\n",
       "      <td>unknown</td>\n",
       "    </tr>\n",
       "    <tr>\n",
       "      <th>8927</th>\n",
       "      <td>40</td>\n",
       "      <td>737</td>\n",
       "      <td>12</td>\n",
       "      <td>102</td>\n",
       "      <td>1</td>\n",
       "      <td>-1</td>\n",
       "      <td>0</td>\n",
       "      <td>blue-collar</td>\n",
       "      <td>divorced</td>\n",
       "      <td>primary</td>\n",
       "      <td>no</td>\n",
       "      <td>yes</td>\n",
       "      <td>yes</td>\n",
       "      <td>unknown</td>\n",
       "      <td>may</td>\n",
       "      <td>unknown</td>\n",
       "    </tr>\n",
       "    <tr>\n",
       "      <th>8928</th>\n",
       "      <td>35</td>\n",
       "      <td>5639</td>\n",
       "      <td>20</td>\n",
       "      <td>945</td>\n",
       "      <td>2</td>\n",
       "      <td>-1</td>\n",
       "      <td>0</td>\n",
       "      <td>blue-collar</td>\n",
       "      <td>married</td>\n",
       "      <td>secondary</td>\n",
       "      <td>no</td>\n",
       "      <td>yes</td>\n",
       "      <td>no</td>\n",
       "      <td>cellular</td>\n",
       "      <td>nov</td>\n",
       "      <td>unknown</td>\n",
       "    </tr>\n",
       "  </tbody>\n",
       "</table>\n",
       "<p>8929 rows × 16 columns</p>\n",
       "</div>"
      ],
      "text/plain": [
       "     age balance day duration campaign pdays previous          job   marital  \\\n",
       "0     42     372   3      654        2    -1        0   management   married   \n",
       "1     39     116  22      554        2    -1        0   technician   married   \n",
       "2     49    1807   2      225        1    82        1   technician  divorced   \n",
       "3     65     493  16      622        1   182        1      retired   married   \n",
       "4     48    3756  14       65       10    -1        0       admin.   married   \n",
       "...   ..     ...  ..      ...      ...   ...      ...          ...       ...   \n",
       "8924  36     243   7      160        2   360        3   management    single   \n",
       "8925  46    4414  18      504        7    -1        0   technician    single   \n",
       "8926  50     280  18       61       23    -1        0  blue-collar   married   \n",
       "8927  40     737  12      102        1    -1        0  blue-collar  divorced   \n",
       "8928  35    5639  20      945        2    -1        0  blue-collar   married   \n",
       "\n",
       "      education default housing loan   contact month poutcome  \n",
       "0      tertiary      no     yes   no  cellular   aug  unknown  \n",
       "1     secondary      no      no   no  cellular   may  unknown  \n",
       "2      tertiary      no     yes   no  cellular   jun  success  \n",
       "3       primary      no      no   no  cellular   oct  failure  \n",
       "4       unknown      no      no   no  cellular   aug  unknown  \n",
       "...         ...     ...     ...  ...       ...   ...      ...  \n",
       "8924   tertiary      no     yes   no  cellular   may  failure  \n",
       "8925   tertiary      no      no   no  cellular   aug  unknown  \n",
       "8926    primary      no     yes   no   unknown   jun  unknown  \n",
       "8927    primary      no     yes  yes   unknown   may  unknown  \n",
       "8928  secondary      no     yes   no  cellular   nov  unknown  \n",
       "\n",
       "[8929 rows x 16 columns]"
      ]
     },
     "execution_count": 30,
     "metadata": {},
     "output_type": "execute_result"
    }
   ],
   "source": [
    "X_train_final_df = pd.DataFrame(X_train_final,columns=np.concatenate([X_train_num.columns, X_train_cat.columns]))\n",
    "X_train_final_df"
   ]
  },
  {
   "cell_type": "markdown",
   "metadata": {},
   "source": [
    "**Insight** : mengubah hasil penggabungan data `(X_train_final)` menjadi sebuah DataFrame menggunakan pandas. "
   ]
  },
  {
   "cell_type": "code",
   "execution_count": 31,
   "metadata": {},
   "outputs": [
    {
     "data": {
      "text/html": [
       "<div>\n",
       "<style scoped>\n",
       "    .dataframe tbody tr th:only-of-type {\n",
       "        vertical-align: middle;\n",
       "    }\n",
       "\n",
       "    .dataframe tbody tr th {\n",
       "        vertical-align: top;\n",
       "    }\n",
       "\n",
       "    .dataframe thead th {\n",
       "        text-align: right;\n",
       "    }\n",
       "</style>\n",
       "<table border=\"1\" class=\"dataframe\">\n",
       "  <thead>\n",
       "    <tr style=\"text-align: right;\">\n",
       "      <th></th>\n",
       "      <th>age</th>\n",
       "      <th>balance</th>\n",
       "      <th>day</th>\n",
       "      <th>duration</th>\n",
       "      <th>campaign</th>\n",
       "      <th>pdays</th>\n",
       "      <th>previous</th>\n",
       "      <th>job</th>\n",
       "      <th>marital</th>\n",
       "      <th>education</th>\n",
       "      <th>default</th>\n",
       "      <th>housing</th>\n",
       "      <th>loan</th>\n",
       "      <th>contact</th>\n",
       "      <th>month</th>\n",
       "      <th>poutcome</th>\n",
       "    </tr>\n",
       "  </thead>\n",
       "  <tbody>\n",
       "    <tr>\n",
       "      <th>0</th>\n",
       "      <td>30</td>\n",
       "      <td>233</td>\n",
       "      <td>14</td>\n",
       "      <td>382</td>\n",
       "      <td>10</td>\n",
       "      <td>-1</td>\n",
       "      <td>0</td>\n",
       "      <td>management</td>\n",
       "      <td>married</td>\n",
       "      <td>tertiary</td>\n",
       "      <td>no</td>\n",
       "      <td>yes</td>\n",
       "      <td>no</td>\n",
       "      <td>unknown</td>\n",
       "      <td>may</td>\n",
       "      <td>unknown</td>\n",
       "    </tr>\n",
       "    <tr>\n",
       "      <th>1</th>\n",
       "      <td>28</td>\n",
       "      <td>866</td>\n",
       "      <td>23</td>\n",
       "      <td>191</td>\n",
       "      <td>2</td>\n",
       "      <td>-1</td>\n",
       "      <td>0</td>\n",
       "      <td>management</td>\n",
       "      <td>single</td>\n",
       "      <td>tertiary</td>\n",
       "      <td>no</td>\n",
       "      <td>no</td>\n",
       "      <td>no</td>\n",
       "      <td>cellular</td>\n",
       "      <td>mar</td>\n",
       "      <td>unknown</td>\n",
       "    </tr>\n",
       "    <tr>\n",
       "      <th>2</th>\n",
       "      <td>25</td>\n",
       "      <td>469</td>\n",
       "      <td>24</td>\n",
       "      <td>524</td>\n",
       "      <td>1</td>\n",
       "      <td>187</td>\n",
       "      <td>2</td>\n",
       "      <td>student</td>\n",
       "      <td>single</td>\n",
       "      <td>secondary</td>\n",
       "      <td>no</td>\n",
       "      <td>no</td>\n",
       "      <td>no</td>\n",
       "      <td>cellular</td>\n",
       "      <td>feb</td>\n",
       "      <td>success</td>\n",
       "    </tr>\n",
       "    <tr>\n",
       "      <th>3</th>\n",
       "      <td>35</td>\n",
       "      <td>6659</td>\n",
       "      <td>21</td>\n",
       "      <td>83</td>\n",
       "      <td>1</td>\n",
       "      <td>-1</td>\n",
       "      <td>0</td>\n",
       "      <td>management</td>\n",
       "      <td>single</td>\n",
       "      <td>tertiary</td>\n",
       "      <td>no</td>\n",
       "      <td>yes</td>\n",
       "      <td>no</td>\n",
       "      <td>unknown</td>\n",
       "      <td>may</td>\n",
       "      <td>unknown</td>\n",
       "    </tr>\n",
       "    <tr>\n",
       "      <th>4</th>\n",
       "      <td>20</td>\n",
       "      <td>153</td>\n",
       "      <td>21</td>\n",
       "      <td>100</td>\n",
       "      <td>1</td>\n",
       "      <td>-1</td>\n",
       "      <td>0</td>\n",
       "      <td>student</td>\n",
       "      <td>single</td>\n",
       "      <td>secondary</td>\n",
       "      <td>no</td>\n",
       "      <td>no</td>\n",
       "      <td>no</td>\n",
       "      <td>unknown</td>\n",
       "      <td>jun</td>\n",
       "      <td>unknown</td>\n",
       "    </tr>\n",
       "    <tr>\n",
       "      <th>...</th>\n",
       "      <td>...</td>\n",
       "      <td>...</td>\n",
       "      <td>...</td>\n",
       "      <td>...</td>\n",
       "      <td>...</td>\n",
       "      <td>...</td>\n",
       "      <td>...</td>\n",
       "      <td>...</td>\n",
       "      <td>...</td>\n",
       "      <td>...</td>\n",
       "      <td>...</td>\n",
       "      <td>...</td>\n",
       "      <td>...</td>\n",
       "      <td>...</td>\n",
       "      <td>...</td>\n",
       "      <td>...</td>\n",
       "    </tr>\n",
       "    <tr>\n",
       "      <th>2228</th>\n",
       "      <td>38</td>\n",
       "      <td>217</td>\n",
       "      <td>9</td>\n",
       "      <td>491</td>\n",
       "      <td>6</td>\n",
       "      <td>-1</td>\n",
       "      <td>0</td>\n",
       "      <td>technician</td>\n",
       "      <td>married</td>\n",
       "      <td>primary</td>\n",
       "      <td>no</td>\n",
       "      <td>yes</td>\n",
       "      <td>no</td>\n",
       "      <td>unknown</td>\n",
       "      <td>jun</td>\n",
       "      <td>unknown</td>\n",
       "    </tr>\n",
       "    <tr>\n",
       "      <th>2229</th>\n",
       "      <td>41</td>\n",
       "      <td>732</td>\n",
       "      <td>16</td>\n",
       "      <td>25</td>\n",
       "      <td>1</td>\n",
       "      <td>-1</td>\n",
       "      <td>0</td>\n",
       "      <td>blue-collar</td>\n",
       "      <td>married</td>\n",
       "      <td>unknown</td>\n",
       "      <td>no</td>\n",
       "      <td>yes</td>\n",
       "      <td>no</td>\n",
       "      <td>unknown</td>\n",
       "      <td>may</td>\n",
       "      <td>unknown</td>\n",
       "    </tr>\n",
       "    <tr>\n",
       "      <th>2230</th>\n",
       "      <td>34</td>\n",
       "      <td>883</td>\n",
       "      <td>3</td>\n",
       "      <td>166</td>\n",
       "      <td>2</td>\n",
       "      <td>173</td>\n",
       "      <td>3</td>\n",
       "      <td>technician</td>\n",
       "      <td>married</td>\n",
       "      <td>secondary</td>\n",
       "      <td>no</td>\n",
       "      <td>no</td>\n",
       "      <td>no</td>\n",
       "      <td>telephone</td>\n",
       "      <td>feb</td>\n",
       "      <td>failure</td>\n",
       "    </tr>\n",
       "    <tr>\n",
       "      <th>2231</th>\n",
       "      <td>35</td>\n",
       "      <td>-367</td>\n",
       "      <td>11</td>\n",
       "      <td>77</td>\n",
       "      <td>1</td>\n",
       "      <td>350</td>\n",
       "      <td>1</td>\n",
       "      <td>blue-collar</td>\n",
       "      <td>married</td>\n",
       "      <td>primary</td>\n",
       "      <td>no</td>\n",
       "      <td>yes</td>\n",
       "      <td>no</td>\n",
       "      <td>cellular</td>\n",
       "      <td>may</td>\n",
       "      <td>failure</td>\n",
       "    </tr>\n",
       "    <tr>\n",
       "      <th>2232</th>\n",
       "      <td>38</td>\n",
       "      <td>61</td>\n",
       "      <td>28</td>\n",
       "      <td>170</td>\n",
       "      <td>5</td>\n",
       "      <td>-1</td>\n",
       "      <td>0</td>\n",
       "      <td>entrepreneur</td>\n",
       "      <td>married</td>\n",
       "      <td>secondary</td>\n",
       "      <td>no</td>\n",
       "      <td>yes</td>\n",
       "      <td>yes</td>\n",
       "      <td>unknown</td>\n",
       "      <td>may</td>\n",
       "      <td>unknown</td>\n",
       "    </tr>\n",
       "  </tbody>\n",
       "</table>\n",
       "<p>2233 rows × 16 columns</p>\n",
       "</div>"
      ],
      "text/plain": [
       "     age balance day duration campaign pdays previous           job  marital  \\\n",
       "0     30     233  14      382       10    -1        0    management  married   \n",
       "1     28     866  23      191        2    -1        0    management   single   \n",
       "2     25     469  24      524        1   187        2       student   single   \n",
       "3     35    6659  21       83        1    -1        0    management   single   \n",
       "4     20     153  21      100        1    -1        0       student   single   \n",
       "...   ..     ...  ..      ...      ...   ...      ...           ...      ...   \n",
       "2228  38     217   9      491        6    -1        0    technician  married   \n",
       "2229  41     732  16       25        1    -1        0   blue-collar  married   \n",
       "2230  34     883   3      166        2   173        3    technician  married   \n",
       "2231  35    -367  11       77        1   350        1   blue-collar  married   \n",
       "2232  38      61  28      170        5    -1        0  entrepreneur  married   \n",
       "\n",
       "      education default housing loan    contact month poutcome  \n",
       "0      tertiary      no     yes   no    unknown   may  unknown  \n",
       "1      tertiary      no      no   no   cellular   mar  unknown  \n",
       "2     secondary      no      no   no   cellular   feb  success  \n",
       "3      tertiary      no     yes   no    unknown   may  unknown  \n",
       "4     secondary      no      no   no    unknown   jun  unknown  \n",
       "...         ...     ...     ...  ...        ...   ...      ...  \n",
       "2228    primary      no     yes   no    unknown   jun  unknown  \n",
       "2229    unknown      no     yes   no    unknown   may  unknown  \n",
       "2230  secondary      no      no   no  telephone   feb  failure  \n",
       "2231    primary      no     yes   no   cellular   may  failure  \n",
       "2232  secondary      no     yes  yes    unknown   may  unknown  \n",
       "\n",
       "[2233 rows x 16 columns]"
      ]
     },
     "execution_count": 31,
     "metadata": {},
     "output_type": "execute_result"
    }
   ],
   "source": [
    "X_test_final_df = pd.DataFrame(X_test_final,columns=np.concatenate([X_test_num.columns, X_test_cat.columns]))\n",
    "X_test_final_df"
   ]
  },
  {
   "cell_type": "markdown",
   "metadata": {},
   "source": [
    "**Insight** : mengubah hasil penggabungan data `(X_test_final)` menjadi sebuah DataFrame menggunakan pandas. "
   ]
  },
  {
   "cell_type": "markdown",
   "metadata": {},
   "source": [
    "## Model Definition"
   ]
  },
  {
   "cell_type": "code",
   "execution_count": 32,
   "metadata": {},
   "outputs": [],
   "source": [
    "#Making column transformer for preprocessing\n",
    "transformer = ColumnTransformer([\n",
    "('scaler', StandardScaler(), selector(dtype_exclude='object')),\n",
    "('encoding', OrdinalEncoder(), selector(dtype_include='object'))\n",
    "])\n",
    "\n",
    "#Making pipeline for Decision Tree\n",
    "pipe_dt = Pipeline([\n",
    "('transformer', transformer),\n",
    "('classifier', DecisionTreeClassifier())\n",
    "])\n",
    "\n",
    "#Making pipeline for Random Forest\n",
    "pipe_rf = Pipeline([\n",
    "('transformer', transformer),\n",
    "('classifier', RandomForestClassifier())\n",
    "])\n",
    "\n",
    "#Making pipeline for XGBoost\n",
    "pipe_xgb = Pipeline([\n",
    "('transformer', transformer),\n",
    "('classifier', XGBClassifier())\n",
    "\n",
    "])\n",
    "\n",
    "#making pipeline for SVM\n",
    "pipe_svm = Pipeline([\n",
    "('transformer', transformer),\n",
    "('classifier', SVC(kernel='rbf', gamma=0.1))\n",
    "])\n",
    "\n",
    "#making pipeline for KNN\n",
    "pipe_knn = Pipeline([\n",
    "('transformer', transformer),\n",
    "('classifier', KNeighborsClassifier())\n",
    "])"
   ]
  },
  {
   "cell_type": "markdown",
   "metadata": {},
   "source": [
    "**Insight**\n",
    "- Pemrosesan data menggunakan ColumnTransformer. Tujuannya adalah untuk mengubah fitur-fitur numerik dalam dataset dengan melakukan penskalaan menggunakan StandardScaler. Penskalaan ini membantu agar model dapat mengatasi perbedaan skala antar fitur serta encoding menggunakan OrdinalEncoder untuk fitur kategorikal.\n",
    "- penggunaan pipeline, Pipeline ini membantu mempermudah proses pengembangan model dan memastikan bahwa langkah-langkah pemrosesan data konsisten diterapkan pada setiap model.\n",
    "- untuk penggunaan  Pada pipeline untuk model Support Vector Machine (SVM), bisa menggunakan kernel radial basis function (RBF). Parameter gamma dan kernel ditentukan untuk optimalitas model. sedangkan untuk pipeline untuk model K-Nearest Neighbors (KNN), Model ini memanfaatkan informasi terdekat untuk melakukan klasifikasi. Dalam kodingan ini, tidak ada parameter khusus yang diatur. pada Decision Tree Pipeline untuk memepermudah memisahkan data ke dalam keputusan yang bersifat hierarkis berdasarkan fitur-fitur dari data tersebut. pada Random Forest Pipeline digunakan untuk meningkatkan performa dan mengurangi overfitting yang mungkin terjadi, dan pada XGBoost Pipeline metode ensemble yang memperkuat kinerja model dengan menggabungkan beberapa model lemah menjadi satu model yang kuat."
   ]
  },
  {
   "cell_type": "markdown",
   "metadata": {},
   "source": [
    "## Base Model Training"
   ]
  },
  {
   "cell_type": "markdown",
   "metadata": {},
   "source": [
    "#### KNN"
   ]
  },
  {
   "cell_type": "code",
   "execution_count": 33,
   "metadata": {},
   "outputs": [
    {
     "name": "stdout",
     "output_type": "stream",
     "text": [
      "Training Score:  0.8714\n",
      "Testing Score:  0.8137\n"
     ]
    }
   ],
   "source": [
    "pipe_knn.fit(X_train, y_train)\n",
    "print('Training Score: ',round(pipe_knn.score(X_train, y_train),4))\n",
    "print('Testing Score: ', round(pipe_knn.score(X_test, y_test),4))"
   ]
  },
  {
   "cell_type": "markdown",
   "metadata": {},
   "source": [
    "**Insight** :\n",
    "- Skor ini memberikan indikasi sejauh mana model K-Nearest Neighbors Classifier (KNN) mampu mempelajari pola dari data train. Skor ini berkisar antara 0 dan 1, di mana 1 menunjukkan kinerja yang sempurna.\n",
    "- Hasil output yang dicetak menunjukkan skor train sebesar 87% dan skor testing sebesar 81%. Skor testing yang tinggi menunjukkan bahwa model memiliki kemampuan yang baik untuk menggeneralisasi ke data baru, dan ini merupakan indikasi positif tentang kinerja model tersebut\n",
    "- Model ini mengalami overvit karena perbedaan sangat signifikan antara Training Score dan Testing Score"
   ]
  },
  {
   "cell_type": "code",
   "execution_count": 34,
   "metadata": {},
   "outputs": [
    {
     "data": {
      "text/plain": [
       "array([0, 1, 1, ..., 0, 0, 0])"
      ]
     },
     "execution_count": 34,
     "metadata": {},
     "output_type": "execute_result"
    }
   ],
   "source": [
    "y_knn_pred = pipe_knn.predict(X_test)\n",
    "y_knn_pred"
   ]
  },
  {
   "cell_type": "markdown",
   "metadata": {},
   "source": [
    "**Insight**\n",
    "-  model K-Nearest Neighbors Classifier (KNN) digunakan untuk melakukan prediksi terhadap data pengujian X_test. Hasil prediksi disimpan dalam variabel y_knn_pred.\n",
    "- y_knn_pred ini befungsi untuk membandingkan prediksi model dengan nilai sebenarnya y_test dan mengevaluasi sejauh mana model dapat menggeneralisasi ke data yang tidak pernah dilihat sebelumnya."
   ]
  },
  {
   "cell_type": "code",
   "execution_count": 35,
   "metadata": {},
   "outputs": [
    {
     "name": "stdout",
     "output_type": "stream",
     "text": [
      "              precision    recall  f1-score   support\n",
      "\n",
      "         yes       0.82      0.83      0.82      1175\n",
      "          no       0.81      0.80      0.80      1058\n",
      "\n",
      "    accuracy                           0.81      2233\n",
      "   macro avg       0.81      0.81      0.81      2233\n",
      "weighted avg       0.81      0.81      0.81      2233\n",
      "\n"
     ]
    }
   ],
   "source": [
    "target = ['yes', 'no']\n",
    "print(classification_report(y_test, y_knn_pred, target_names = target))"
   ]
  },
  {
   "cell_type": "markdown",
   "metadata": {},
   "source": [
    "`**Insight**\n",
    "- `precision` : Model ini cukup baik dalam mengidentifikasi data kelas `yes` (1), dengan prediksi `82%` dari `1175` sampel data.bisa dibilang kemampuannya sama dalam mengidentifikasi kelas `no` (0), dengan prediksi `81%` prediksi dari `1058` sampel data.\n",
    "- `recall` : Model dapat dengan baik mengenali sebagian besar data kelas `yes` (1) sebesar `83%` dari `1175` sampel data, kinerja yang hampir mirip dalam mengenali kelas 0,dapat mengenali `80%` dari data kelas `no` (0) dari 1058 sampe data.\n",
    "- `f1-score` : Skor F1 adalah rata-rata harmonik dari presisi dan recall. Semakin tinggi skor F1, semakin baik keseimbangan antara kemampuan model mengidentifikasi kedua kelas. dalam case ini terlihat bahwa F1-score memiliki variasi yang hampir sama terpaut tipis antara kelas 0 `no` dan kelas 1 `yes`. untuk kelas 0 `no` memiliki f1-score sebesar `80%` dari 1058 sampel data, sedangkan kelas 1 memiliki `82%` f1-score dari sampel data sebesar `1175`.\n",
    "- `accuracy` : Model ini memiliki tingkat akurasi sebesar `81%` dari jumlah sample data `2233`, yang berarti `81%` dari semua prediksi yang dibuat oleh model adalah benar.\n",
    "- `Macro Avg` : adalah rata-rata aritmatika dari metrik evaluasi (precision, recall, dan F1-score) dihitung untuk setiap kelas. Jadi, nilai pada macro avg adalah `81%` untuk precision, `81%` untuk recall, dan `81%` untuk F1-score dari jumlah sample data sebesar `2233` tanpa mempertimbangkan ketidakseimbangan kelas.\n",
    "- `weighted avg` : adalah rata-rata tertimbang dari metrik evaluasi (precision, recall, dan F1-score) dihitung untuk setiap kelas. Jadi, nilai pada weighted avg adalah sekitar `81%` untuk precision, `81%` untuk recall, dan `81%` untuk F1-score.`"
   ]
  },
  {
   "cell_type": "code",
   "execution_count": 36,
   "metadata": {},
   "outputs": [
    {
     "name": "stdout",
     "output_type": "stream",
     "text": [
      "F1 Score - All - Cross Validation  :  [0.81075028 0.80851064 0.81970885 0.80795073 0.80280112]\n",
      "F1 Score - Mean - Cross Validation :  0.8099443226338687\n",
      "F1 Score - Std - Cross Validation  :  0.005532643192121494\n",
      "F1 Score - Range of Test-Set       :  0.8044116794417472 - 0.8154769658259903\n"
     ]
    }
   ],
   "source": [
    "f1_train_cross_val = cross_val_score(pipe_knn,\n",
    "                                     X_train,\n",
    "                                     y_train,\n",
    "                                     cv=5,\n",
    "                                     error_score='raise')\n",
    "\n",
    "print('F1 Score - All - Cross Validation  : ', f1_train_cross_val)\n",
    "print('F1 Score - Mean - Cross Validation : ', f1_train_cross_val.mean())\n",
    "print('F1 Score - Std - Cross Validation  : ', f1_train_cross_val.std())\n",
    "print('F1 Score - Range of Test-Set       : ', (f1_train_cross_val.mean() - f1_train_cross_val.std()), '-', (f1_train_cross_val.mean() + f1_train_cross_val.std()))\n"
   ]
  },
  {
   "cell_type": "markdown",
   "metadata": {},
   "source": [
    "**Insight** :\n",
    "implementasi Cross Validation untuk evaluasi model K-Nearest Neighbors Classifier (KNN), dimana  cross_val_score digunakan untuk melakukan Cross Validation pada model Support Vectore Machine (pipe_knn). cv = 5, menunjukkan bahwa kita menggunakan 5-fold Cross Validation, di mana dataset dibagi menjadi 5 bagian, dan model dilatih dan diuji 5 kali. Scoring=\"f1\" menunjukkan bahwa kita menggunakan F1 Score sebagai metrik evaluasi.\n",
    "- F1 Score - All - Cross Validation : F1 Score untuk setiap fold dari Cross Validation `[0.81075028 0.80851064 0.81970885 0.80795073 0.80280112]`\n",
    "- F1 Score - Mean - Cross Validation : rata rata f1 score dari semua fold Cross Validation adalah `0.8099443226338687`\n",
    "- F1 Score - Std - Cross Validation: standar deviasi dari F1 Score adalah `0.005532643192121494`\n",
    "- F1 Score - Range of Test-Set :selisih antara nilai mean dan satu deviasi standar adalah `0.8044116794417472 - 0.8154769658259903`\n"
   ]
  },
  {
   "cell_type": "markdown",
   "metadata": {},
   "source": [
    "#### SVM"
   ]
  },
  {
   "cell_type": "code",
   "execution_count": 37,
   "metadata": {},
   "outputs": [
    {
     "name": "stdout",
     "output_type": "stream",
     "text": [
      "Training Score:  0.8756\n",
      "Testing Score:  0.8334\n"
     ]
    }
   ],
   "source": [
    "pipe_svm.fit(X_train, y_train)\n",
    "print('Training Score: ',round(pipe_svm.score(X_train, y_train),4))\n",
    "print('Testing Score: ', round(pipe_svm.score(X_test, y_test),4))"
   ]
  },
  {
   "cell_type": "markdown",
   "metadata": {},
   "source": [
    "**Insight** :\n",
    "- Skor ini memberikan indikasi sejauh mana model Support Vectore Machine Classfier (SVM) mampu mempelajari pola dari data train. Skor ini berkisar antara 0 dan 1, di mana 1 menunjukkan kinerja yang sempurna.\n",
    "- Hasil output yang dicetak menunjukkan skor train sebesar `87%` dan skor testing sebesar `83%`. Skor testing yang tinggi menunjukkan bahwa model memiliki kemampuan yang baik untuk menggeneralisasi ke data baru, dan ini merupakan indikasi positif tentang kinerja model tersebut\n",
    "- Model ini mengalami overvit karena perbedaan sangat signifikan antara Training Score dan Testing Score"
   ]
  },
  {
   "cell_type": "code",
   "execution_count": 38,
   "metadata": {},
   "outputs": [
    {
     "data": {
      "text/plain": [
       "array([0, 1, 1, ..., 0, 0, 0])"
      ]
     },
     "execution_count": 38,
     "metadata": {},
     "output_type": "execute_result"
    }
   ],
   "source": [
    "y_svm_pred = pipe_svm.predict(X_test)\n",
    "y_svm_pred"
   ]
  },
  {
   "cell_type": "markdown",
   "metadata": {},
   "source": [
    "**Insight**\n",
    "-  model Support Vectore Machine Classfier (SVM) digunakan untuk melakukan prediksi terhadap data pengujian X_test. Hasil prediksi disimpan dalam variabel y_svm_pred.\n",
    "- y_svm_pred ini befungsi untuk membandingkan prediksi model dengan nilai sebenarnya y_test dan mengevaluasi sejauh mana model dapat menggeneralisasi ke data yang tidak pernah dilihat sebelumnya."
   ]
  },
  {
   "cell_type": "code",
   "execution_count": 39,
   "metadata": {},
   "outputs": [
    {
     "name": "stdout",
     "output_type": "stream",
     "text": [
      "              precision    recall  f1-score   support\n",
      "\n",
      "         yes       0.87      0.80      0.84      1175\n",
      "          no       0.80      0.87      0.83      1058\n",
      "\n",
      "    accuracy                           0.83      2233\n",
      "   macro avg       0.83      0.84      0.83      2233\n",
      "weighted avg       0.84      0.83      0.83      2233\n",
      "\n"
     ]
    }
   ],
   "source": [
    "target = ['yes', 'no']\n",
    "print(classification_report(y_test, y_svm_pred, target_names = target))"
   ]
  },
  {
   "cell_type": "markdown",
   "metadata": {},
   "source": [
    "`**Insight**\n",
    "- `precision` : Model ini cukup baik dalam mengidentifikasi data kelas `yes` (1), dengan prediksi `87%` dari `1175` sampel data.bisa dibilang kemampuannya sama dalam mengidentifikasi kelas `no` (0), dengan prediksi `80%` prediksi dari `1058` sampel data.\n",
    "- `recall` : Model dapat dengan baik mengenali sebagian besar data kelas `yes` (1) sebesar `80%` dari `1175` sampel data, kinerja yang hampir mirip dalam mengenali kelas 0,dapat mengenali `87%` dari data kelas `no` (0) dari 1058 sampe data.\n",
    "- `f1-score` : Skor F1 adalah rata-rata harmonik dari presisi dan recall. Semakin tinggi skor F1, semakin baik keseimbangan antara kemampuan model mengidentifikasi kedua kelas. dalam case ini terlihat bahwa F1-score memiliki variasi yang hampir sama terpaut tipis antara kelas 0 `no` dan kelas 1 `yes`. untuk kelas 0 `no` memiliki f1-score sebesar `84%` dari 1058 sampel data, sedangkan kelas 1 memiliki `83%` f1-score dari sampel data sebesar `1175`.\n",
    "- `accuracy` : Model ini memiliki tingkat akurasi sebesar `83%` dari jumlah sample data `2233`, yang berarti `83%` dari semua prediksi yang dibuat oleh model adalah benar.\n",
    "- `Macro Avg` : adalah rata-rata aritmatika dari metrik evaluasi (precision, recall, dan F1-score) dihitung untuk setiap kelas. Jadi, nilai pada macro avg adalah `83%` untuk precision, `84%` untuk recall, dan `83%` untuk F1-score dari jumlah sample data sebesar `2233` tanpa mempertimbangkan ketidakseimbangan kelas.\n",
    "- `weighted avg` : adalah rata-rata tertimbang dari metrik evaluasi (precision, recall, dan F1-score) dihitung untuk setiap kelas. Jadi, nilai pada weighted avg adalah sekitar `84%` untuk precision, `83%` untuk recall, dan `83%` untuk F1-score.`"
   ]
  },
  {
   "cell_type": "code",
   "execution_count": 40,
   "metadata": {},
   "outputs": [
    {
     "name": "stdout",
     "output_type": "stream",
     "text": [
      "F1 Score - All - Cross Validation  :  [0.83930571 0.82138858 0.83650616 0.84098544 0.82352941]\n",
      "F1 Score - Mean - Cross Validation :  0.8323430604044528\n",
      "F1 Score - Std - Cross Validation  :  0.008224132182305437\n",
      "F1 Score - Range of Test-Set       :  0.8241189282221474 - 0.8405671925867583\n"
     ]
    }
   ],
   "source": [
    "# Use the custom scorer in cross_val_score\n",
    "f1_train_cross_val = cross_val_score(pipe_svm,\n",
    "                                     X_train,\n",
    "                                     y_train,\n",
    "                                     cv=5,\n",
    "                                     error_score='raise')\n",
    "\n",
    "print('F1 Score - All - Cross Validation  : ', f1_train_cross_val)\n",
    "print('F1 Score - Mean - Cross Validation : ', f1_train_cross_val.mean())\n",
    "print('F1 Score - Std - Cross Validation  : ', f1_train_cross_val.std())\n",
    "print('F1 Score - Range of Test-Set       : ', (f1_train_cross_val.mean() - f1_train_cross_val.std()), '-', (f1_train_cross_val.mean() + f1_train_cross_val.std()))\n"
   ]
  },
  {
   "cell_type": "markdown",
   "metadata": {},
   "source": [
    "**Insight** :\n",
    "implementasi Cross Validation untuk evaluasi model Support Vectore Machine, dimana  cross_val_score digunakan untuk melakukan Cross Validation pada model Support Vectore Machine (pipe_knn). cv = 5, menunjukkan bahwa kita menggunakan 5-fold Cross Validation, di mana dataset dibagi menjadi 5 bagian, dan model dilatih dan diuji 5 kali. Scoring=\"f1\" menunjukkan bahwa kita menggunakan F1 Score sebagai metrik evaluasi.\n",
    "- F1 Score - All - Cross Validation : F1 Score untuk setiap fold dari Cross Validation `[0.83930571 0.82138858 0.83650616 0.84098544 0.82352941]`\n",
    "- F1 Score - Mean - Cross Validation : rata rata f1 score dari semua fold Cross Validation adalah `0.8323430604044528`\n",
    "- F1 Score - Std - Cross Validation: standar deviasi dari F1 Score adalah `0.008224132182305437`\n",
    "- F1 Score - Range of Test-Set :selisih antara nilai mean dan satu deviasi standar adalah `0.8241189282221474 - 0.8405671925867583`\n"
   ]
  },
  {
   "cell_type": "markdown",
   "metadata": {},
   "source": [
    "#### Random Forest"
   ]
  },
  {
   "cell_type": "code",
   "execution_count": 41,
   "metadata": {},
   "outputs": [
    {
     "name": "stdout",
     "output_type": "stream",
     "text": [
      "Training Score:  1.0\n",
      "Testing Score:  0.8406\n"
     ]
    }
   ],
   "source": [
    "pipe_rf.fit(X_train, y_train)\n",
    "print('Training Score: ',round(pipe_rf.score(X_train, y_train),4))\n",
    "print('Testing Score: ', round(pipe_rf.score(X_test, y_test),4))"
   ]
  },
  {
   "cell_type": "markdown",
   "metadata": {},
   "source": [
    "**Insight** :\n",
    "- Skor ini memberikan indikasi sejauh mana model Random Forest Classfier mampu mempelajari pola dari data train. Skor ini berkisar antara 0 dan 1, di mana 1 menunjukkan kinerja yang sempurna.\n",
    "- Hasil output yang dicetak menunjukkan skor train sebesar `100%` dan skor testing sebesar `83%`. Skor testing yang tinggi menunjukkan bahwa model memiliki kemampuan yang baik untuk menggeneralisasi ke data baru, dan ini merupakan indikasi positif tentang kinerja model tersebut\n",
    "- Model ini mengalami overvit karena perbedaan sangat signifikan antara Training Score dan Testing Score"
   ]
  },
  {
   "cell_type": "code",
   "execution_count": 42,
   "metadata": {},
   "outputs": [
    {
     "data": {
      "text/plain": [
       "array([0, 1, 1, ..., 1, 0, 0])"
      ]
     },
     "execution_count": 42,
     "metadata": {},
     "output_type": "execute_result"
    }
   ],
   "source": [
    "y_rf_pred = pipe_rf.predict(X_test)\n",
    "y_rf_pred"
   ]
  },
  {
   "cell_type": "markdown",
   "metadata": {},
   "source": [
    "**Insight**\n",
    "-  model Random Forest digunakan untuk melakukan prediksi terhadap data pengujian X_test. Hasil prediksi disimpan dalam variabel y_rf_pred.\n",
    "- y_rf_pred ini befungsi untuk membandingkan prediksi model dengan nilai sebenarnya y_test dan mengevaluasi sejauh mana model dapat menggeneralisasi ke data yang tidak pernah dilihat sebelumnya."
   ]
  },
  {
   "cell_type": "code",
   "execution_count": 43,
   "metadata": {},
   "outputs": [
    {
     "name": "stdout",
     "output_type": "stream",
     "text": [
      "              precision    recall  f1-score   support\n",
      "\n",
      "         yes       0.88      0.81      0.84      1175\n",
      "          no       0.81      0.87      0.84      1058\n",
      "\n",
      "    accuracy                           0.84      2233\n",
      "   macro avg       0.84      0.84      0.84      2233\n",
      "weighted avg       0.84      0.84      0.84      2233\n",
      "\n"
     ]
    }
   ],
   "source": [
    "target = ['yes', 'no']\n",
    "print(classification_report(y_test, y_rf_pred, target_names = target))"
   ]
  },
  {
   "cell_type": "markdown",
   "metadata": {},
   "source": [
    "`**Insight**\n",
    "- `precision` : Model ini cukup baik dalam mengidentifikasi data kelas `yes` (1), dengan prediksi `87%` dari `1175` sampel data.bisa dibilang kemampuannya sama dalam mengidentifikasi kelas `no` (0), dengan prediksi `80%` prediksi dari `1058` sampel data.\n",
    "- `recall` : Model dapat dengan baik mengenali sebagian besar data kelas `yes` (1) sebesar `81%` dari `1175` sampel data, kinerja yang hampir mirip dalam mengenali kelas 0,dapat mengenali `87%` dari data kelas `no` (0) dari 1058 sampe data.\n",
    "- `f1-score` : Skor F1 adalah rata-rata harmonik dari presisi dan recall. Semakin tinggi skor F1, semakin baik keseimbangan antara kemampuan model mengidentifikasi kedua kelas. dalam case ini terlihat bahwa F1-score memiliki variasi yang hampir sama terpaut tipis antara kelas 0 `no` dan kelas 1 `yes`. untuk kelas 0 `no` memiliki f1-score sebesar `84%` dari 1058 sampel data, sedangkan kelas 1 memiliki `84%` f1-score dari sampel data sebesar `1175`.\n",
    "- `accuracy` : Model ini memiliki tingkat akurasi sebesar `84%` dari jumlah sample data `2233`, yang berarti `84%` dari semua prediksi yang dibuat oleh model adalah benar.\n",
    "- `Macro Avg` : adalah rata-rata aritmatika dari metrik evaluasi (precision, recall, dan F1-score) dihitung untuk setiap kelas. Jadi, nilai pada macro avg adalah `84%` untuk precision, `84%` untuk recall, dan `84%` untuk F1-score dari jumlah sample data sebesar `2233` tanpa mempertimbangkan ketidakseimbangan kelas.\n",
    "- `weighted avg` : adalah rata-rata tertimbang dari metrik evaluasi (precision, recall, dan F1-score) dihitung untuk setiap kelas. Jadi, nilai pada weighted avg adalah sekitar `84%` untuk precision, `84%` untuk recall, dan `84%` untuk F1-score.`"
   ]
  },
  {
   "cell_type": "code",
   "execution_count": 44,
   "metadata": {},
   "outputs": [
    {
     "name": "stdout",
     "output_type": "stream",
     "text": [
      "F1 Score - All - Cross Validation  :  [0.84770437 0.84210526 0.84882419 0.85722284 0.84257703]\n",
      "F1 Score - Mean - Cross Validation :  0.8476867387492512\n",
      "F1 Score - Std - Cross Validation  :  0.005467968485067072\n",
      "F1 Score - Range of Test-Set       :  0.8422187702641841 - 0.8531547072343182\n"
     ]
    }
   ],
   "source": [
    "# Use the custom scorer in cross_val_score\n",
    "f1_train_cross_val = cross_val_score(pipe_rf,\n",
    "                                     X_train,\n",
    "                                     y_train,\n",
    "                                     cv=5,\n",
    "                                      error_score='raise')\n",
    "\n",
    "print('F1 Score - All - Cross Validation  : ', f1_train_cross_val)\n",
    "print('F1 Score - Mean - Cross Validation : ', f1_train_cross_val.mean())\n",
    "print('F1 Score - Std - Cross Validation  : ', f1_train_cross_val.std())\n",
    "print('F1 Score - Range of Test-Set       : ', (f1_train_cross_val.mean() - f1_train_cross_val.std()), '-', (f1_train_cross_val.mean() + f1_train_cross_val.std()))\n"
   ]
  },
  {
   "cell_type": "markdown",
   "metadata": {},
   "source": [
    "**Insight** :\n",
    "implementasi Cross Validation untuk evaluasi model Random Forest Classifier, dimana  cross_val_score digunakan untuk melakukan Cross Validation pada model Random Forest Classfier  (pipe_dt). cv = 5, menunjukkan bahwa kita menggunakan 5-fold Cross Validation, di mana dataset dibagi menjadi 5 bagian, dan model dilatih dan diuji 5 kali. Scoring=\"f1\" menunjukkan bahwa kita menggunakan F1 Score sebagai metrik evaluasi.\n",
    "- F1 Score - All - Cross Validation : F1 Score untuk setiap fold dari Cross Validation `[0.85162374 0.84378499 0.84826428 0.84770437 0.84201681]`\n",
    "- F1 Score - Mean - Cross Validation : rata rata f1 score dari semua fold Cross Validation adalah `0.8466788372683901`\n",
    "- F1 Score - Std - Cross Validation: standar deviasi dari F1 Score adalah `0.0034095821922677173`\n",
    "- F1 Score - Range of Test-Set :selisih antara nilai mean dan satu deviasi standar adalah `0.8432692550761224 - 0.8500884194606578`\n"
   ]
  },
  {
   "cell_type": "markdown",
   "metadata": {},
   "source": [
    "#### Decision Tree Classifier"
   ]
  },
  {
   "cell_type": "code",
   "execution_count": 45,
   "metadata": {},
   "outputs": [
    {
     "name": "stdout",
     "output_type": "stream",
     "text": [
      "Training Score:  1.0\n",
      "Testing Score:  0.7644\n"
     ]
    }
   ],
   "source": [
    "pipe_dt.fit(X_train, y_train)\n",
    "print('Training Score: ',round(pipe_dt.score(X_train, y_train),4))\n",
    "print('Testing Score: ', round(pipe_dt.score(X_test, y_test),4))"
   ]
  },
  {
   "cell_type": "markdown",
   "metadata": {},
   "source": [
    "**Insight** :\n",
    "- Skor ini memberikan indikasi sejauh mana model Decision Tree Classfier mampu mempelajari pola dari data train. Skor ini berkisar antara 0 dan 1, di mana 1 menunjukkan kinerja yang sempurna.\n",
    "- Hasil output yang dicetak menunjukkan skor train sebesar `100%` dan skor testing sebesar `76%`. Skor testing yang tinggi menunjukkan bahwa model memiliki kemampuan yang baik untuk menggeneralisasi ke data baru, dan ini merupakan indikasi positif tentang kinerja model tersebut\n",
    "- Model ini mengalami overvit karena perbedaan sangat signifikan antara Training Score dan Testing Score"
   ]
  },
  {
   "cell_type": "code",
   "execution_count": 46,
   "metadata": {},
   "outputs": [
    {
     "data": {
      "text/plain": [
       "array([0, 1, 1, ..., 1, 0, 0])"
      ]
     },
     "execution_count": 46,
     "metadata": {},
     "output_type": "execute_result"
    }
   ],
   "source": [
    "y_dt_pred = pipe_dt.predict(X_test)\n",
    "y_dt_pred"
   ]
  },
  {
   "cell_type": "markdown",
   "metadata": {},
   "source": [
    "**Insight**\n",
    "-  model Decision Tree Classifier digunakan untuk melakukan prediksi terhadap data pengujian X_test. Hasil prediksi disimpan dalam variabel y_dt_pred.\n",
    "- y_dt_pred ini befungsi untuk membandingkan prediksi model dengan nilai sebenarnya y_test dan mengevaluasi sejauh mana model dapat menggeneralisasi ke data yang tidak pernah dilihat sebelumnya."
   ]
  },
  {
   "cell_type": "code",
   "execution_count": 47,
   "metadata": {},
   "outputs": [
    {
     "name": "stdout",
     "output_type": "stream",
     "text": [
      "              precision    recall  f1-score   support\n",
      "\n",
      "         yes       0.77      0.78      0.78      1175\n",
      "          no       0.75      0.74      0.75      1058\n",
      "\n",
      "    accuracy                           0.76      2233\n",
      "   macro avg       0.76      0.76      0.76      2233\n",
      "weighted avg       0.76      0.76      0.76      2233\n",
      "\n"
     ]
    }
   ],
   "source": [
    "target = ['yes', 'no']\n",
    "print(classification_report(y_test, y_dt_pred,target_names = target))"
   ]
  },
  {
   "cell_type": "markdown",
   "metadata": {},
   "source": [
    "`**Insight**\n",
    "- `precision` : Model ini cukup baik dalam mengidentifikasi data kelas `yes` (1), dengan prediksi `77%` dari `1175` sampel data.bisa dibilang kemampuannya sama dalam mengidentifikasi kelas `no` (0), dengan prediksi `76%` prediksi dari `1058` sampel data.\n",
    "- `recall` : Model dapat dengan baik mengenali sebagian besar data kelas `yes` (1) sebesar `79%` dari `1175` sampel data, kinerja yang hampir mirip dalam mengenali kelas 0,dapat mengenali `74%` dari data kelas `no` (0) dari 1058 sampe data.\n",
    "- `f1-score` : Skor F1 adalah rata-rata harmonik dari presisi dan recall. Semakin tinggi skor F1, semakin baik keseimbangan antara kemampuan model mengidentifikasi kedua kelas. dalam case ini terlihat bahwa F1-score memiliki variasi yang hampir sama terpaut tipis antara kelas 0 `no` dan kelas 1 `yes`. untuk kelas 0 `no` memiliki f1-score sebesar `78%` dari `1058` sampel data, sedangkan kelas 1 memiliki `75%` f1-score dari sampel data sebesar `1175`.\n",
    "- `accuracy` : Model ini memiliki tingkat akurasi sebesar `77%` dari jumlah sample data `2233`, yang berarti `77%` dari semua prediksi yang dibuat oleh model adalah benar.\n",
    "- `Macro Avg` : adalah rata-rata aritmatika dari metrik evaluasi (precision, recall, dan F1-score) dihitung untuk setiap kelas. Jadi, nilai pada macro avg adalah `77%` untuk precision, `77%` untuk recall, dan `77%` untuk F1-score dari jumlah sample data sebesar `2233` tanpa mempertimbangkan ketidakseimbangan kelas.\n",
    "- `weighted avg` : adalah rata-rata tertimbang dari metrik evaluasi (precision, recall, dan F1-score) dihitung untuk setiap kelas. Jadi, nilai pada weighted avg adalah sekitar `77%` untuk precision, `77%` untuk recall, dan `77%` untuk F1-score.`"
   ]
  },
  {
   "cell_type": "code",
   "execution_count": 48,
   "metadata": {},
   "outputs": [
    {
     "name": "stdout",
     "output_type": "stream",
     "text": [
      "F1 Score - All - Cross Validation  :  [0.768757   0.76763718 0.75979843 0.78331467 0.77535014]\n",
      "F1 Score - Mean - Cross Validation :  0.7709714837782817\n",
      "F1 Score - Std - Cross Validation  :  0.007904245527705266\n",
      "F1 Score - Range of Test-Set       :  0.7630672382505764 - 0.778875729305987\n"
     ]
    }
   ],
   "source": [
    "# Use the custom scorer in cross_val_score\n",
    "f1_train_cross_val = cross_val_score(pipe_dt,\n",
    "                                     X_train,\n",
    "                                     y_train,\n",
    "                                     cv=5,\n",
    "                                      error_score='raise')\n",
    "\n",
    "print('F1 Score - All - Cross Validation  : ', f1_train_cross_val)\n",
    "print('F1 Score - Mean - Cross Validation : ', f1_train_cross_val.mean())\n",
    "print('F1 Score - Std - Cross Validation  : ', f1_train_cross_val.std())\n",
    "print('F1 Score - Range of Test-Set       : ', (f1_train_cross_val.mean() - f1_train_cross_val.std()), '-', (f1_train_cross_val.mean() + f1_train_cross_val.std()))\n"
   ]
  },
  {
   "cell_type": "markdown",
   "metadata": {},
   "source": [
    "**Insight** :\n",
    "implementasi Cross Validation untuk evaluasi model Decision Tree Classifier, dimana  cross_val_score digunakan untuk melakukan Cross Validation pada model Decision Tree (pipe_dt). cv = 5, menunjukkan bahwa kita menggunakan 5-fold Cross Validation, di mana dataset dibagi menjadi 5 bagian, dan model dilatih dan diuji 5 kali. Scoring=\"f1\" menunjukkan bahwa kita menggunakan F1 Score sebagai metrik evaluasi.\n",
    "- F1 Score - All - Cross Validation : F1 Score untuk setiap fold dari Cross Validation `[0.77603583 0.77043673 0.76371781 0.78835386 0.77310924]`\n",
    "- F1 Score - Mean - Cross Validation : rata rata f1 score dari semua fold Cross Validation adalah `0.7743306953240422`\n",
    "- F1 Score - Std - Cross Validation: standar deviasi dari F1 Score adalah `0.008109809961692029`\n",
    "- F1 Score - Range of Test-Set :selisih antara nilai mean dan satu deviasi standar adalah `0.7662208853623501 - 0.7824405052857343`\n"
   ]
  },
  {
   "cell_type": "markdown",
   "metadata": {},
   "source": [
    "#### XGBOOST"
   ]
  },
  {
   "cell_type": "code",
   "execution_count": 49,
   "metadata": {},
   "outputs": [
    {
     "name": "stdout",
     "output_type": "stream",
     "text": [
      "Training Score:  0.9652\n",
      "Testing Score:  0.8451\n"
     ]
    }
   ],
   "source": [
    "pipe_xgb.fit(X_train, y_train)\n",
    "print('Training Score: ', round(pipe_xgb.score(X_train, y_train), 4))\n",
    "print('Testing Score: ', round(pipe_xgb.score(X_test, y_test), 4))"
   ]
  },
  {
   "cell_type": "markdown",
   "metadata": {},
   "source": [
    "**Insight** :\n",
    "- Skor ini memberikan indikasi sejauh mana model XGBOOST Classfier mampu mempelajari pola dari data train. Skor ini berkisar antara 0 dan 1, di mana 1 menunjukkan kinerja yang sempurna.\n",
    "- Hasil output yang dicetak menunjukkan skor train sebesar `96%` dan skor testing sebesar `84%`. Skor testing yang tinggi menunjukkan bahwa model memiliki kemampuan yang baik untuk menggeneralisasi ke data baru, dan ini merupakan indikasi positif tentang kinerja model tersebut\n",
    "- Model ini mengalami overvit karena perbedaan sangat signifikan antara Training Score dan Testing Score"
   ]
  },
  {
   "cell_type": "code",
   "execution_count": 50,
   "metadata": {},
   "outputs": [
    {
     "data": {
      "text/plain": [
       "array([0, 1, 1, ..., 0, 0, 0])"
      ]
     },
     "execution_count": 50,
     "metadata": {},
     "output_type": "execute_result"
    }
   ],
   "source": [
    "y_xgb_pred = pipe_xgb.predict(X_test)\n",
    "y_xgb_pred"
   ]
  },
  {
   "cell_type": "markdown",
   "metadata": {},
   "source": [
    "**Insight**\n",
    "-  model XGBOOST Classifier digunakan untuk melakukan prediksi terhadap data pengujian X_test. Hasil prediksi disimpan dalam variabel y_xgb_pred.\n",
    "- y_xgb_pred ini befungsi untuk membandingkan prediksi model dengan nilai sebenarnya y_test dan mengevaluasi sejauh mana model dapat menggeneralisasi ke data yang tidak pernah dilihat sebelumnya."
   ]
  },
  {
   "cell_type": "code",
   "execution_count": 51,
   "metadata": {},
   "outputs": [
    {
     "name": "stdout",
     "output_type": "stream",
     "text": [
      "              precision    recall  f1-score   support\n",
      "\n",
      "         yes       0.88      0.81      0.85      1175\n",
      "          no       0.81      0.88      0.84      1058\n",
      "\n",
      "    accuracy                           0.85      2233\n",
      "   macro avg       0.85      0.85      0.85      2233\n",
      "weighted avg       0.85      0.85      0.85      2233\n",
      "\n"
     ]
    }
   ],
   "source": [
    "target = ['yes', 'no']\n",
    "print(classification_report(y_test, y_xgb_pred, target_names = target))"
   ]
  },
  {
   "cell_type": "markdown",
   "metadata": {},
   "source": [
    "`**Insight**\n",
    "- `precision` : Model ini cukup baik dalam mengidentifikasi data kelas `yes` (1), dengan prediksi `88%` dari `1175` sampel data.bisa dibilang kemampuannya sama dalam mengidentifikasi kelas `no` (0), dengan prediksi `81%` prediksi dari `1058` sampel data.\n",
    "- `recall` : Model dapat dengan baik mengenali sebagian besar data kelas `yes` (1) sebesar `81%` dari `1175` sampel data, kinerja yang hampir mirip dalam mengenali kelas 0,dapat mengenali `88%` dari data kelas `no` (0) dari `1058` sampe data.\n",
    "- `f1-score` : Skor F1 adalah rata-rata harmonik dari presisi dan recall. Semakin tinggi skor F1, semakin baik keseimbangan antara kemampuan model mengidentifikasi kedua kelas. dalam case ini terlihat bahwa F1-score memiliki variasi yang hampir sama terpaut tipis antara kelas 0 `no` dan kelas 1 `yes`. untuk kelas 0 `no` memiliki f1-score sebesar `84%` dari `1058` sampel data, sedangkan kelas 1 memiliki `85%` f1-score dari sampel data sebesar `1175`.\n",
    "- `accuracy` : Model ini memiliki tingkat akurasi sebesar `77%` dari jumlah sample data `2233`, yang berarti `77%` dari semua prediksi yang dibuat oleh model adalah benar.\n",
    "- `Macro Avg` : adalah rata-rata aritmatika dari metrik evaluasi (precision, recall, dan F1-score) dihitung untuk setiap kelas. Jadi, nilai pada macro avg adalah `85%` untuk precision, `85%` untuk recall, dan `85%` untuk F1-score dari jumlah sample data sebesar `2233` tanpa mempertimbangkan ketidakseimbangan kelas.\n",
    "- `weighted avg` : adalah rata-rata tertimbang dari metrik evaluasi (precision, recall, dan F1-score) dihitung untuk setiap kelas. Jadi, nilai pada weighted avg adalah sekitar `85%` untuk precision, `85%` untuk recall, dan `85%` untuk F1-score.`"
   ]
  },
  {
   "cell_type": "code",
   "execution_count": 52,
   "metadata": {},
   "outputs": [
    {
     "name": "stdout",
     "output_type": "stream",
     "text": [
      "F1 Score - All - Cross Validation  :  [0.86226204 0.84882419 0.86058231 0.84994401 0.85378151]\n",
      "F1 Score - Mean - Cross Validation :  0.8550788109196648\n",
      "F1 Score - Std - Cross Validation  :  0.005459976189208092\n",
      "F1 Score - Range of Test-Set       :  0.8496188347304566 - 0.8605387871088729\n"
     ]
    }
   ],
   "source": [
    "# Use the custom scorer in cross_val_score\n",
    "f1_train_cross_val = cross_val_score(pipe_xgb,\n",
    "                                     X_train,\n",
    "                                     y_train,\n",
    "                                     cv=5,\n",
    "                                      error_score='raise')\n",
    "\n",
    "print('F1 Score - All - Cross Validation  : ', f1_train_cross_val)\n",
    "print('F1 Score - Mean - Cross Validation : ', f1_train_cross_val.mean())\n",
    "print('F1 Score - Std - Cross Validation  : ', f1_train_cross_val.std())\n",
    "print('F1 Score - Range of Test-Set       : ', (f1_train_cross_val.mean() - f1_train_cross_val.std()), '-', (f1_train_cross_val.mean() + f1_train_cross_val.std()))\n"
   ]
  },
  {
   "cell_type": "markdown",
   "metadata": {},
   "source": [
    "**Insight** :\n",
    "implementasi Cross Validation untuk evaluasi model XGBOOST Classifier, dimana  cross_val_score digunakan untuk melakukan Cross Validation pada model XGBOOST (pipe_xgb). cv = 5, menunjukkan bahwa kita menggunakan 5-fold Cross Validation, di mana dataset dibagi menjadi 5 bagian, dan model dilatih dan diuji 5 kali. Scoring=\"f1\" menunjukkan bahwa kita menggunakan F1 Score sebagai metrik evaluasi.\n",
    "- F1 Score - All - Cross Validation : F1 Score untuk setiap fold dari Cross Validation `[0.86226204 0.84882419 0.86058231 0.84994401 0.85378151]`\n",
    "- F1 Score - Mean - Cross Validation : rata rata f1 score dari semua fold Cross Validation adalah `0.8550788109196648`\n",
    "- F1 Score - Std - Cross Validation: standar deviasi dari F1 Score adalah `0.005459976189208092`\n",
    "- F1 Score - Range of Test-Set :selisih antara nilai mean dan satu deviasi standar adalah `0.8496188347304566 - 0.8605387871088729`\n"
   ]
  },
  {
   "cell_type": "markdown",
   "metadata": {},
   "source": [
    "### Base Model Comparison"
   ]
  },
  {
   "cell_type": "code",
   "execution_count": 53,
   "metadata": {},
   "outputs": [],
   "source": [
    "models = {\n",
    "    'SVM' : pipe_svm,\n",
    "    'KNN' : pipe_knn,\n",
    "    'Decision Tree' : pipe_dt,\n",
    "    'Random Forest' : pipe_rf,\n",
    "    'XGBoost' : pipe_xgb\n",
    "}\n",
    "\n",
    "metrics = {\n",
    "    'Accuracy' : accuracy_score,\n",
    "    'F1-Score' : f1_score,\n",
    "}\n",
    "\n",
    "df_model = pd.DataFrame(columns = models.keys(), index=['Accuracy', 'F1-Score'])\n",
    "\n",
    "for metric in metrics.keys():\n",
    "  for model in models.keys():\n",
    "    df_model.loc[metric, model] = metrics[metric](y_test, models[model].predict(X_test))"
   ]
  },
  {
   "cell_type": "markdown",
   "metadata": {},
   "source": [
    "**Insight** : membandingkan kinerja 5 model machine learning, yaitu  SVM, KNN, Decision Tree, Random Forest, dan XGBOOST. dengan menggunakan dua metrik evaluasi, yaitu akurasi (Accuracy) dan F1-score yang disimpan ke dalam df_model untuk mempermudah membandingkan kinerja terbaik diantara ketiga model"
   ]
  },
  {
   "cell_type": "code",
   "execution_count": 54,
   "metadata": {},
   "outputs": [],
   "source": [
    "models = {\n",
    "    'SVM' : pipe_svm,\n",
    "    'KNN' : pipe_knn,\n",
    "    'Decision Tree' : pipe_dt,\n",
    "    'Random Forest' : pipe_rf,\n",
    "    'XGBoost' : pipe_xgb\n",
    "}\n",
    "\n",
    "metrics = {\n",
    "    'Mean' : cross_val_score(models[model], X_train, y_train, cv=5, scoring='f1').mean(),\n",
    "    'Std' : cross_val_score(models[model], X_train, y_train, cv=5, scoring='f1').std()\n",
    "}\n",
    "\n",
    "df_cross_val = pd.DataFrame(columns = models.keys(), index = ['Mean', 'Std'])\n",
    "\n",
    "for i in metrics.keys():\n",
    "  for j in models.keys():\n",
    "    df_cross_val.loc[i, j] = metrics[i]"
   ]
  },
  {
   "cell_type": "markdown",
   "metadata": {},
   "source": [
    "**Insight** : membandingkan kinerja 5 model machine learning, yaitu SVM, KNN, Decision Tree, Random Forest, dan XGBOOST menjalankan cross-validation untuk setiap model dan menghitung rata-rata (Mean) serta deviasi standar (Std) dari F1-score untuk masing-masing model"
   ]
  },
  {
   "cell_type": "code",
   "execution_count": 55,
   "metadata": {},
   "outputs": [
    {
     "data": {
      "text/html": [
       "<div>\n",
       "<style scoped>\n",
       "    .dataframe tbody tr th:only-of-type {\n",
       "        vertical-align: middle;\n",
       "    }\n",
       "\n",
       "    .dataframe tbody tr th {\n",
       "        vertical-align: top;\n",
       "    }\n",
       "\n",
       "    .dataframe thead th {\n",
       "        text-align: right;\n",
       "    }\n",
       "</style>\n",
       "<table border=\"1\" class=\"dataframe\">\n",
       "  <thead>\n",
       "    <tr style=\"text-align: right;\">\n",
       "      <th></th>\n",
       "      <th>SVM</th>\n",
       "      <th>KNN</th>\n",
       "      <th>Decision Tree</th>\n",
       "      <th>Random Forest</th>\n",
       "      <th>XGBoost</th>\n",
       "    </tr>\n",
       "  </thead>\n",
       "  <tbody>\n",
       "    <tr>\n",
       "      <th>Accuracy</th>\n",
       "      <td>0.833408</td>\n",
       "      <td>0.813704</td>\n",
       "      <td>0.764442</td>\n",
       "      <td>0.840573</td>\n",
       "      <td>0.845052</td>\n",
       "    </tr>\n",
       "    <tr>\n",
       "      <th>F1-Score</th>\n",
       "      <td>0.831369</td>\n",
       "      <td>0.802657</td>\n",
       "      <td>0.749762</td>\n",
       "      <td>0.838622</td>\n",
       "      <td>0.843439</td>\n",
       "    </tr>\n",
       "  </tbody>\n",
       "</table>\n",
       "</div>"
      ],
      "text/plain": [
       "               SVM       KNN Decision Tree Random Forest   XGBoost\n",
       "Accuracy  0.833408  0.813704      0.764442      0.840573  0.845052\n",
       "F1-Score  0.831369  0.802657      0.749762      0.838622  0.843439"
      ]
     },
     "execution_count": 55,
     "metadata": {},
     "output_type": "execute_result"
    }
   ],
   "source": [
    "df_model"
   ]
  },
  {
   "cell_type": "markdown",
   "metadata": {},
   "source": [
    "**Insight** : Berikut merupakan hasil dari perbandingan dari ketiga model \tLogistic Regression,SVM, KNN, menggunaakan dua metrik evaluasi, yaitu Accuracy dan F1-score. \n",
    "- Model XGBoost menunjukkan performa terbaik berdasarkan kedua metrik evaluasi yang digunakan (akurasi dan F1-score)\n",
    "- model XGBoost memberikan performa terbaik. XGBoost memiliki akurasi sekitar 84.33% dan F1-score sekitar 84.72%, mengungguli model lainnya."
   ]
  },
  {
   "cell_type": "code",
   "execution_count": 56,
   "metadata": {},
   "outputs": [
    {
     "data": {
      "text/html": [
       "<div>\n",
       "<style scoped>\n",
       "    .dataframe tbody tr th:only-of-type {\n",
       "        vertical-align: middle;\n",
       "    }\n",
       "\n",
       "    .dataframe tbody tr th {\n",
       "        vertical-align: top;\n",
       "    }\n",
       "\n",
       "    .dataframe thead th {\n",
       "        text-align: right;\n",
       "    }\n",
       "</style>\n",
       "<table border=\"1\" class=\"dataframe\">\n",
       "  <thead>\n",
       "    <tr style=\"text-align: right;\">\n",
       "      <th></th>\n",
       "      <th>SVM</th>\n",
       "      <th>KNN</th>\n",
       "      <th>Decision Tree</th>\n",
       "      <th>Random Forest</th>\n",
       "      <th>XGBoost</th>\n",
       "    </tr>\n",
       "  </thead>\n",
       "  <tbody>\n",
       "    <tr>\n",
       "      <th>Mean</th>\n",
       "      <td>0.850597</td>\n",
       "      <td>0.850597</td>\n",
       "      <td>0.850597</td>\n",
       "      <td>0.850597</td>\n",
       "      <td>0.850597</td>\n",
       "    </tr>\n",
       "    <tr>\n",
       "      <th>Std</th>\n",
       "      <td>0.005926</td>\n",
       "      <td>0.005926</td>\n",
       "      <td>0.005926</td>\n",
       "      <td>0.005926</td>\n",
       "      <td>0.005926</td>\n",
       "    </tr>\n",
       "  </tbody>\n",
       "</table>\n",
       "</div>"
      ],
      "text/plain": [
       "           SVM       KNN Decision Tree Random Forest   XGBoost\n",
       "Mean  0.850597  0.850597      0.850597      0.850597  0.850597\n",
       "Std   0.005926  0.005926      0.005926      0.005926  0.005926"
      ]
     },
     "execution_count": 56,
     "metadata": {},
     "output_type": "execute_result"
    }
   ],
   "source": [
    "df_cross_val"
   ]
  },
  {
   "cell_type": "markdown",
   "metadata": {},
   "source": [
    "**Insight** dari data diatas, nilai mean F1-score untuk 5 model machine learning, yaitu SVM, KNN, Decision Tree, Random Forest, dan XGBOOST adalah sama, yaitu sebesar 85%, begitu pun dengan nilai std, yaitu 0.005926."
   ]
  },
  {
   "cell_type": "markdown",
   "metadata": {},
   "source": [
    "## Model Evaluation"
   ]
  },
  {
   "cell_type": "markdown",
   "metadata": {},
   "source": [
    "**Parameter Tunning**"
   ]
  },
  {
   "cell_type": "code",
   "execution_count": 57,
   "metadata": {},
   "outputs": [],
   "source": [
    "\n",
    "\n",
    "param_svm = {\n",
    "    'transformer__scaler' : [StandardScaler(), MinMaxScaler()],\n",
    "    'classifier__C': [1, 10, 100],  \n",
    "    'classifier__gamma': [0.1, 1, 10],  \n",
    "}\n",
    "param_knn = {\n",
    "    'transformer__scaler': [StandardScaler(), MinMaxScaler()],\n",
    "    'classifier__n_neighbors': [3, 5, 7], \n",
    "    'classifier__weights': ['uniform', 'distance'],  \n",
    "}\n",
    "param_dt = {\n",
    "    'transformer__scaler': [StandardScaler(),MinMaxScaler()],\n",
    "    'classifier__ccp_alpha': [0.0, 0.1, 0.2],\n",
    "    'classifier__class_weight': [None, 'balanced'],\n",
    "    'classifier__criterion': ['gini', 'entropy'],\n",
    "    'classifier__max_depth': [None, 5, 10, 15],\n",
    "    'classifier__random_state': [42],\n",
    "}\n",
    "param_rf = {\n",
    "    'transformer__scaler': [StandardScaler(), MinMaxScaler()],\n",
    "    'classifier__n_estimators': np.arange(200, 401, 100),\n",
    "    'classifier__max_depth': np.arange(4, 8, 2),\n",
    "}\n",
    "param_xgb = {\n",
    "    'transformer__scaler': [StandardScaler(), MinMaxScaler()],\n",
    "    'classifier__max_depth': [3, 5, 7],\n",
    "    'classifier__n_estimators': [50, 100, 150],\n",
    "    'classifier__learning_rate': [0.1, 0.01, 0.001],\n",
    "    'transformer__verbose': [0],\n",
    "}\n",
    "\n",
    "\n"
   ]
  },
  {
   "cell_type": "markdown",
   "metadata": {},
   "source": [
    "**Insight** :  Proses tuning pada tiga jenis model machine learning: SVM (Support Vector Machine), KNN (K-Nearest Neighbors), Decision Tree, Random Forest, dan XGBOOST.\n",
    "- SVM (Support Vector Machine): \n",
    "    - `transformer__scaler`: Ini Menentukan cara menyesuaikan skala data agar sesuai dengan  model SV antara StandardScaler dan MinMaxScaler\n",
    "    - `classifier__C`: Parameter yang membantu mengontrol seberapa keras model SVM berusaha menyesuaikan data pelatihan. Nilai yang lebih tinggi berarti model lebih cenderung menyesuaikan data secara detail.\n",
    "    - `classifier__gamma`: Parameter yang mengontrol seberapa jauh pengaruh satu titik data dapat mencapai. Nilai yang lebih tinggi berarti pengaruhnya lebih terlokalisasi.\n",
    "- KNN (K-Nearest Neighbors):\n",
    "    - `transformer__scaler`: Menentukan cara menyesuaikan skala data agar sesuai dengan  model SV antara StandardScaler dan MinMaxScaler\n",
    "    - `classifier__n_neighbors`: Titik data terdekat dalam ruang fitur. yang akan diperhatikan ketika memprediksi kelas suatu titik data.\n",
    "    - `classifier__weights`: Parameter yang menentukan bagaimana \"bobot\" atau tingkat pengaruh pada tiap titik terdekat yang diberikan ketika melakukan prediksi. `uniform`: Setiap titik terdekat mendapatkan bobot yang sama. Dalam hal ini, semua titik terdekat diperlakukan dengan tingkat pengaruh yang setara ketika model KNN melakukan prediksi. `distance`: Bobot diberikan berdasarkan invers jarak dari titik yang akan diprediksi. Artinya, titik yang lebih dekat akan memiliki pengaruh yang lebih besar dibandingkan dengan titik yang lebih jauh. \n",
    "- Decision Tree :\n",
    "    - `transformer__scaler` : Menentukan cara menyesuaikan skala data agar sesuai dengan  model SV antara StandardScaler dan MinMaxScaler\n",
    "    - `classifier__ccp_alpha` :mengendalikan seberapa banyak pemotongan yang terjadi pada decision tree.\n",
    "    - `classifier__class_weight` :Bobot kelas untuk mengatasi ketidakseimbangan kelas, 'balanced' memberikan bobot otomatis berdasarkan jumlah sampel.\n",
    "    - `classifier__criterion` : Kriteria pengukuran kualitas split dalam pembentukan tree, bisa berupa 'gini' atau 'entropy'.\n",
    "    - `classifier__max_depth` : Jumlah maksimum tingkat (depth) dari decision tree.\n",
    "    - `classifier__random_state` : Seed untuk hasil yang dapat direproduksi.\n",
    "- Random Forest :\n",
    "    - `transformer__scaler` :Menentukan cara menyesuaikan skala data agar sesuai dengan  model SV antara StandardScaler dan MinMaxScaler\n",
    "    - `classifier__n_estimators` : Jumlah pohon dalam ensemble, mencoba nilai antara 200 hingga 400 dengan kelipatan 100.\n",
    "    - `classifier__max_depth` : Jumlah maksimum tingkat dari setiap pohon dalam ensemble, mencoba nilai antara 4 hingga 8 dengan kelipatan 2.\n",
    "- XGBOOST :\n",
    "    - `transformer__scaler` : Menentukan cara menyesuaikan skala data agar sesuai dengan  model SV antara StandardScaler dan MinMaxScaler\n",
    "    - `classifier__max_depth` : Maksimum tingkat dari setiap pohon dalam ensemble.\n",
    "    - `classifier__n_estimators` : Jumlah pohon dalam ensemble.\n",
    "    - `classifier__learning_rate` : Tingkat pembelajaran untuk kontrol kontribusi dari setiap pohon.\n",
    "    - `transformer__verbose` : Kontrol verbosity dari transformer."
   ]
  },
  {
   "cell_type": "markdown",
   "metadata": {},
   "source": [
    "**MODEL SVM**"
   ]
  },
  {
   "cell_type": "code",
   "execution_count": 58,
   "metadata": {},
   "outputs": [],
   "source": [
    "grid_svm = GridSearchCV(pipe_svm, param_svm, cv=5).fit(X_train, y_train)  "
   ]
  },
  {
   "cell_type": "markdown",
   "metadata": {},
   "source": [
    "**Insight** : Menyetel parameter model Support Vector Machine (SVM) dengan menggunakan metode` Grid Search Cross-Validation` untuk mencari kombinasi parameter terbaik untuk meningkatkan performa model SVM. Proses ini melibatkan pembagian dataset menjadi 5 bagian (`cv=5`) untuk evaluasi dan memilih parameter terbaik yang memberikan hasil optimal."
   ]
  },
  {
   "cell_type": "markdown",
   "metadata": {},
   "source": [
    "**Model Random Forest**"
   ]
  },
  {
   "cell_type": "code",
   "execution_count": 59,
   "metadata": {},
   "outputs": [],
   "source": [
    "grid_rf = GridSearchCV(pipe_rf, param_rf, cv=5).fit(X_train, y_train)"
   ]
  },
  {
   "cell_type": "markdown",
   "metadata": {},
   "source": [
    "**Insight** : Menyetel parameter model Random Forest dengan menggunakan metode` Grid Search Cross-Validation` untuk mencari kombinasi parameter terbaik untuk meningkatkan performa model Random Forest. Proses ini melibatkan pembagian dataset menjadi 5 bagian (`cv=5`) untuk evaluasi dan memilih parameter terbaik yang memberikan hasil optimal."
   ]
  },
  {
   "cell_type": "markdown",
   "metadata": {},
   "source": [
    "**Model Decision Tree**"
   ]
  },
  {
   "cell_type": "code",
   "execution_count": 60,
   "metadata": {},
   "outputs": [],
   "source": [
    "grid_dt = GridSearchCV(pipe_dt,param_dt, cv=5).fit(X_train, y_train)"
   ]
  },
  {
   "cell_type": "markdown",
   "metadata": {},
   "source": [
    "**Insight** : Menyetel parameter model Decision Tree dengan menggunakan metode` Grid Search Cross-Validation` untuk mencari kombinasi parameter terbaik untuk meningkatkan performa model Decision Tree. Proses ini melibatkan pembagian dataset menjadi 5 bagian (`cv=5`) untuk evaluasi dan memilih parameter terbaik yang memberikan hasil optimal."
   ]
  },
  {
   "cell_type": "markdown",
   "metadata": {},
   "source": [
    "**Model KNN**"
   ]
  },
  {
   "cell_type": "code",
   "execution_count": 61,
   "metadata": {},
   "outputs": [],
   "source": [
    "grid_knn = GridSearchCV(pipe_knn, param_knn, cv=5).fit(X_train, y_train)"
   ]
  },
  {
   "cell_type": "markdown",
   "metadata": {},
   "source": [
    "**Insight** : Menyetel parameter model KNN dengan menggunakan metode` Grid Search Cross-Validation` untuk mencari kombinasi parameter terbaik untuk meningkatkan performa model KNN. Proses ini melibatkan pembagian dataset menjadi 5 bagian (`cv=5`) untuk evaluasi dan memilih parameter terbaik yang memberikan hasil optimal."
   ]
  },
  {
   "cell_type": "markdown",
   "metadata": {},
   "source": [
    "**Model XGSBOOST**"
   ]
  },
  {
   "cell_type": "code",
   "execution_count": 62,
   "metadata": {},
   "outputs": [],
   "source": [
    "grid_xgb = GridSearchCV(pipe_xgb, param_xgb, cv=5).fit(X_train, y_train)"
   ]
  },
  {
   "cell_type": "markdown",
   "metadata": {},
   "source": [
    "**Insight** : Menyetel parameter model XGBOOST dengan menggunakan metode` Grid Search Cross-Validation` untuk mencari kombinasi parameter terbaik untuk meningkatkan performa model XGBOOST. Proses ini melibatkan pembagian dataset menjadi 5 bagian (`cv=5`) untuk evaluasi dan memilih parameter terbaik yang memberikan hasil optimal."
   ]
  },
  {
   "cell_type": "code",
   "execution_count": 63,
   "metadata": {},
   "outputs": [
    {
     "name": "stdout",
     "output_type": "stream",
     "text": [
      "Model SVM\n",
      "Train Set Score :  0.8755739724493224\n",
      "Test Set Score :  0.8334079713390058\n",
      "Model KNN\n",
      "Train Set Score :  1.0\n",
      "Test Set Score :  0.8132557098074339\n",
      "Model Decision Tree\n",
      "Train Set Score :  0.877365886437451\n",
      "Test Set Score :  0.812807881773399\n",
      "Model Random Forest\n",
      "Train Set Score :  0.8368238324560421\n",
      "Test Set Score :  0.8275862068965517\n",
      "Model XGboost\n",
      "Train Set Score :  0.9011087467801545\n",
      "Test Set Score :  0.8557993730407524\n"
     ]
    }
   ],
   "source": [
    "print('Model SVM')\n",
    "print('Train Set Score : ', grid_svm.score(X_train, y_train))\n",
    "print('Test Set Score : ', grid_svm.score(X_test, y_test))\n",
    "print('Model KNN')\n",
    "print('Train Set Score : ', grid_knn.score(X_train, y_train))\n",
    "print('Test Set Score : ', grid_knn.score(X_test, y_test))\n",
    "print('Model Decision Tree')\n",
    "print('Train Set Score : ', grid_dt.score(X_train, y_train))\n",
    "print('Test Set Score : ', grid_dt.score(X_test, y_test))\n",
    "print('Model Random Forest')\n",
    "print('Train Set Score : ', grid_rf.score(X_train, y_train))\n",
    "print('Test Set Score : ', grid_rf.score(X_test, y_test))\n",
    "print('Model XGboost')\n",
    "print('Train Set Score : ', grid_xgb.score(X_train, y_train))\n",
    "print('Test Set Score : ', grid_xgb.score(X_test, y_test))"
   ]
  },
  {
   "cell_type": "markdown",
   "metadata": {},
   "source": [
    "**Insight** : Kodingan di atas memberikan hasil score dari 5 model machine learning SVM, Random Forest, Decision Tree, XGBOOST dan KNN pada kedua set data, yaitu Train Set dan Test Set.\n",
    "- Dari perbandingan tersebut, dapat dilihat bahwa model KNN dan XGBOOST memiliki kinerja yang baik pada train set, namun pada test set memiliki kinerja yang jauh dibanding test set, hal ini disebut Overvit. \n",
    "- Model yang tidak mengalami overfit adalah Random Forest, walaupun random forest ini tidak memiliki nilai train set yang besar seperti KNN dan XGBOOOS. tapi random forest ini memiliki nilai yang tidak overfit."
   ]
  },
  {
   "cell_type": "markdown",
   "metadata": {},
   "source": [
    "**MODEL SVM**"
   ]
  },
  {
   "cell_type": "code",
   "execution_count": 64,
   "metadata": {},
   "outputs": [
    {
     "name": "stdout",
     "output_type": "stream",
     "text": [
      "{'classifier__C': 1, 'classifier__gamma': 0.1, 'transformer__scaler': StandardScaler()}\n",
      "\n",
      "\n",
      "Pipeline(steps=[('transformer',\n",
      "                 ColumnTransformer(transformers=[('scaler', StandardScaler(),\n",
      "                                                  <sklearn.compose._column_transformer.make_column_selector object at 0x00000135C26628A0>),\n",
      "                                                 ('encoding', OrdinalEncoder(),\n",
      "                                                  <sklearn.compose._column_transformer.make_column_selector object at 0x00000135C2660770>)])),\n",
      "                ('classifier', SVC(C=1, gamma=0.1))])\n",
      "\n",
      "\n",
      "Index(['mean_fit_time', 'std_fit_time', 'mean_score_time', 'std_score_time',\n",
      "       'param_classifier__C', 'param_classifier__gamma',\n",
      "       'param_transformer__scaler', 'params', 'split0_test_score',\n",
      "       'split1_test_score', 'split2_test_score', 'split3_test_score',\n",
      "       'split4_test_score', 'mean_test_score', 'std_test_score',\n",
      "       'rank_test_score'],\n",
      "      dtype='object')\n"
     ]
    }
   ],
   "source": [
    "best_param_svm = grid_svm.best_params_\n",
    "print(best_param_svm)\n",
    "print('\\n')\n",
    "best_pipe_svm = grid_svm.best_estimator_\n",
    "print(best_pipe_svm)\n",
    "print('\\n')\n",
    "result_df_svm = pd.DataFrame.from_dict(grid_svm.cv_results_, orient='columns')\n",
    "print(result_df_svm.columns)"
   ]
  },
  {
   "cell_type": "markdown",
   "metadata": {},
   "source": [
    "**Insight** : Mendapatkan parameter terbaik dari hasil grid search pada model SVM \n",
    "- `best_param_svm` : Parameter terbaik untuk model SVM - C: 1, gamma: 0.1, menggunakan StandardScaler.``\n",
    "- `best_pipe_svm` : Model SVM terbaik dengan parameter yang optimal dan menggunakan StandardScaler.\n",
    "- `result_df_svm` : DataFrame yang berisi hasil lengkap dari grid search pada model SVM"
   ]
  },
  {
   "cell_type": "markdown",
   "metadata": {},
   "source": [
    "**MODEL KNN**"
   ]
  },
  {
   "cell_type": "code",
   "execution_count": 65,
   "metadata": {},
   "outputs": [
    {
     "name": "stdout",
     "output_type": "stream",
     "text": [
      "{'classifier__n_neighbors': 7, 'classifier__weights': 'distance', 'transformer__scaler': StandardScaler()}\n",
      "\n",
      "\n",
      "Pipeline(steps=[('transformer',\n",
      "                 ColumnTransformer(transformers=[('scaler', StandardScaler(),\n",
      "                                                  <sklearn.compose._column_transformer.make_column_selector object at 0x00000135C24F1280>),\n",
      "                                                 ('encoding', OrdinalEncoder(),\n",
      "                                                  <sklearn.compose._column_transformer.make_column_selector object at 0x00000135C24F0F80>)])),\n",
      "                ('classifier',\n",
      "                 KNeighborsClassifier(n_neighbors=7, weights='distance'))])\n",
      "\n",
      "\n",
      "Index(['mean_fit_time', 'std_fit_time', 'mean_score_time', 'std_score_time',\n",
      "       'param_classifier__n_neighbors', 'param_classifier__weights',\n",
      "       'param_transformer__scaler', 'params', 'split0_test_score',\n",
      "       'split1_test_score', 'split2_test_score', 'split3_test_score',\n",
      "       'split4_test_score', 'mean_test_score', 'std_test_score',\n",
      "       'rank_test_score'],\n",
      "      dtype='object')\n"
     ]
    }
   ],
   "source": [
    "best_param_knn = grid_knn.best_params_\n",
    "print(best_param_knn)\n",
    "print('\\n')\n",
    "best_pipe_knn = grid_knn.best_estimator_\n",
    "print(best_pipe_knn)\n",
    "print('\\n')\n",
    "result_df_knn = pd.DataFrame.from_dict(grid_knn.cv_results_, orient='columns')\n",
    "print(result_df_knn.columns)"
   ]
  },
  {
   "cell_type": "markdown",
   "metadata": {},
   "source": [
    "**Insight** : Mendapatkan parameter terbaik dari hasil grid search pada model K-Nearest Neighbors.\n",
    "- `best_param_knn`: Parameter terbaik untuk model K-Nearest Neighbors adalah - K: 7, weights: distance, menggunakan StandardScaler.\n",
    "- `best_pipe_knn`: Model K-Nearest Neighbors terbaik dengan parameter yang optimal dan menggunakan StandardScaler.\n",
    "- `result_df_knn`: DataFrame yang berisi hasil lengkap dari grid search pada model Logistic Regression"
   ]
  },
  {
   "cell_type": "markdown",
   "metadata": {},
   "source": [
    "**MODEL DECISION TREE**"
   ]
  },
  {
   "cell_type": "code",
   "execution_count": 66,
   "metadata": {},
   "outputs": [
    {
     "name": "stdout",
     "output_type": "stream",
     "text": [
      "{'classifier__ccp_alpha': 0.0, 'classifier__class_weight': 'balanced', 'classifier__criterion': 'entropy', 'classifier__max_depth': 10, 'classifier__random_state': 42, 'transformer__scaler': MinMaxScaler()}\n",
      "\n",
      "\n",
      "Pipeline(steps=[('transformer',\n",
      "                 ColumnTransformer(transformers=[('scaler', MinMaxScaler(),\n",
      "                                                  <sklearn.compose._column_transformer.make_column_selector object at 0x00000135C24A0470>),\n",
      "                                                 ('encoding', OrdinalEncoder(),\n",
      "                                                  <sklearn.compose._column_transformer.make_column_selector object at 0x00000135C2E27110>)])),\n",
      "                ('classifier',\n",
      "                 DecisionTreeClassifier(class_weight='balanced',\n",
      "                                        criterion='entropy', max_depth=10,\n",
      "                                        random_state=42))])\n",
      "\n",
      "\n",
      "Index(['mean_fit_time', 'std_fit_time', 'mean_score_time', 'std_score_time',\n",
      "       'param_classifier__ccp_alpha', 'param_classifier__class_weight',\n",
      "       'param_classifier__criterion', 'param_classifier__max_depth',\n",
      "       'param_classifier__random_state', 'param_transformer__scaler', 'params',\n",
      "       'split0_test_score', 'split1_test_score', 'split2_test_score',\n",
      "       'split3_test_score', 'split4_test_score', 'mean_test_score',\n",
      "       'std_test_score', 'rank_test_score'],\n",
      "      dtype='object')\n"
     ]
    }
   ],
   "source": [
    "best_param_dt = grid_dt.best_params_\n",
    "print(best_param_dt)\n",
    "print('\\n')\n",
    "best_pipe_dt = grid_dt.best_estimator_\n",
    "print(best_pipe_dt)\n",
    "print('\\n')\n",
    "result_df_dt = pd.DataFrame.from_dict(grid_dt.cv_results_, orient='columns')\n",
    "print(result_df_dt.columns)"
   ]
  },
  {
   "cell_type": "markdown",
   "metadata": {},
   "source": [
    "**Insight** : Mendapatkan parameter terbaik dari hasil grid search pada model Decision Tree.\n",
    "- `best_param_dt`: Parameter terbaik untuk model Decision Tree adalah classifier__ccp_alpha: 0.0, classifier__class_weight: balanced, 'classifier__criterion': entropy , classifier__max_depth: 10, classifier__random_state: 42, dan transformer__scaler: MinMaxScaler()\n",
    "- `best_pipe_dt`: Model  terbaik dengan parameter yang optimal dan menggunakan MinMaxScaler dan Ordinal Encoding untuk Encode   .\n",
    "- `result_df_dt`: DataFrame menampilkan hasil pencarian parameter, termasuk skor uji untuk setiap kombinasi parameter."
   ]
  },
  {
   "cell_type": "markdown",
   "metadata": {},
   "source": [
    "**MODEL Random Forest**"
   ]
  },
  {
   "cell_type": "code",
   "execution_count": 67,
   "metadata": {},
   "outputs": [
    {
     "name": "stdout",
     "output_type": "stream",
     "text": [
      "{'classifier__max_depth': 6, 'classifier__n_estimators': 400, 'transformer__scaler': StandardScaler()}\n",
      "\n",
      "\n",
      "Pipeline(steps=[('transformer',\n",
      "                 ColumnTransformer(transformers=[('scaler', StandardScaler(),\n",
      "                                                  <sklearn.compose._column_transformer.make_column_selector object at 0x00000135C24B36E0>),\n",
      "                                                 ('encoding', OrdinalEncoder(),\n",
      "                                                  <sklearn.compose._column_transformer.make_column_selector object at 0x00000135C24B2EA0>)])),\n",
      "                ('classifier',\n",
      "                 RandomForestClassifier(max_depth=6, n_estimators=400))])\n",
      "\n",
      "\n",
      "Index(['mean_fit_time', 'std_fit_time', 'mean_score_time', 'std_score_time',\n",
      "       'param_classifier__max_depth', 'param_classifier__n_estimators',\n",
      "       'param_transformer__scaler', 'params', 'split0_test_score',\n",
      "       'split1_test_score', 'split2_test_score', 'split3_test_score',\n",
      "       'split4_test_score', 'mean_test_score', 'std_test_score',\n",
      "       'rank_test_score'],\n",
      "      dtype='object')\n"
     ]
    }
   ],
   "source": [
    "best_param_rf = grid_rf.best_params_\n",
    "print(best_param_rf)\n",
    "print('\\n')\n",
    "best_pipe_rf = grid_rf.best_estimator_\n",
    "print(best_pipe_rf)\n",
    "print('\\n')\n",
    "result_df_rf = pd.DataFrame.from_dict(grid_rf.cv_results_, orient='columns')\n",
    "print(result_df_rf.columns)"
   ]
  },
  {
   "cell_type": "markdown",
   "metadata": {},
   "source": [
    "**Insight** : Mendapatkan parameter terbaik dari hasil grid search pada model Random Forest.\n",
    "- `best_param_rf`: Parameter terbaik untuk model Random Forest adalah classifier__max_depth': 6 , 'classifier__n_estimators': 200, 'transformer__scaler': MinMaxScaler()\n",
    "- `best_pipe_rf`: Model Random Forest terbaik dengan parameter yang optimal dan menggunakan MinMaxScaler dan Ordinal Encoding untuk encode.\n",
    "- `result_df_rf`: DataFrame yang berisi hasil lengkap dari grid search pada model Random Forest"
   ]
  },
  {
   "cell_type": "markdown",
   "metadata": {},
   "source": [
    "**MODEL XGBOOST**"
   ]
  },
  {
   "cell_type": "code",
   "execution_count": 68,
   "metadata": {},
   "outputs": [
    {
     "name": "stdout",
     "output_type": "stream",
     "text": [
      "{'classifier__learning_rate': 0.1, 'classifier__max_depth': 5, 'classifier__n_estimators': 150, 'transformer__scaler': StandardScaler(), 'transformer__verbose': 0}\n",
      "\n",
      "\n",
      "Pipeline(steps=[('transformer',\n",
      "                 ColumnTransformer(transformers=[('scaler', StandardScaler(),\n",
      "                                                  <sklearn.compose._column_transformer.make_column_selector object at 0x00000135C25BDBB0>),\n",
      "                                                 ('encoding', OrdinalEncoder(),\n",
      "                                                  <sklearn.compose._column_transformer.make_column_selector object at 0x00000135C2985610>)],\n",
      "                                   verbose=0)),\n",
      "                ('classifier',\n",
      "                 XGBClassifier(base_score=None, bo...\n",
      "                               feature_types=None, gamma=None, grow_policy=None,\n",
      "                               importance_type=None,\n",
      "                               interaction_constraints=None, learning_rate=0.1,\n",
      "                               max_bin=None, max_cat_threshold=None,\n",
      "                               max_cat_to_onehot=None, max_delta_step=None,\n",
      "                               max_depth=5, max_leaves=None,\n",
      "                               min_child_weight=None, missing=nan,\n",
      "                               monotone_constraints=None, multi_strategy=None,\n",
      "                               n_estimators=150, n_jobs=None,\n",
      "                               num_parallel_tree=None, random_state=None, ...))])\n",
      "\n",
      "\n",
      "Index(['mean_fit_time', 'std_fit_time', 'mean_score_time', 'std_score_time',\n",
      "       'param_classifier__learning_rate', 'param_classifier__max_depth',\n",
      "       'param_classifier__n_estimators', 'param_transformer__scaler',\n",
      "       'param_transformer__verbose', 'params', 'split0_test_score',\n",
      "       'split1_test_score', 'split2_test_score', 'split3_test_score',\n",
      "       'split4_test_score', 'mean_test_score', 'std_test_score',\n",
      "       'rank_test_score'],\n",
      "      dtype='object')\n"
     ]
    }
   ],
   "source": [
    "best_param_xgb = grid_xgb.best_params_\n",
    "print(best_param_xgb)\n",
    "print('\\n')\n",
    "best_pipe_xgb = grid_xgb.best_estimator_\n",
    "print(best_pipe_xgb)\n",
    "print('\\n')\n",
    "result_df_xgb = pd.DataFrame.from_dict(grid_xgb.cv_results_, orient='columns')\n",
    "print(result_df_xgb.columns)"
   ]
  },
  {
   "cell_type": "markdown",
   "metadata": {},
   "source": [
    "**Insight** : Mendapatkan parameter terbaik dari hasil grid search pada model Random Forest.\n",
    "- `best_param_rf`: Parameter terbaik untuk model XGBOOST adalah classifier__learning_rate': 0.1, 'classifier__max_depth': 5, 'classifier__n_estimators': 150, 'transformer__scaler': StandardScaler(), 'transformer__verbose': 0\n",
    "- `best_pipe_rf`: Model XGBOOST terbaik dengan parameter yang optimal dan menggunakan StandardScaler dan Ordinal Encoding untuk encode.\n",
    "- `result_df_rf`: DataFrame yang berisi hasil lengkap dari grid search pada model XGBOOST"
   ]
  },
  {
   "cell_type": "code",
   "execution_count": 69,
   "metadata": {},
   "outputs": [
    {
     "name": "stdout",
     "output_type": "stream",
     "text": [
      "Model SVM\n"
     ]
    },
    {
     "name": "stdout",
     "output_type": "stream",
     "text": [
      "              precision    recall  f1-score   support\n",
      "\n",
      "           0       0.87      0.80      0.84      1175\n",
      "           1       0.80      0.87      0.83      1058\n",
      "\n",
      "    accuracy                           0.83      2233\n",
      "   macro avg       0.83      0.84      0.83      2233\n",
      "weighted avg       0.84      0.83      0.83      2233\n",
      "\n",
      "Model KNN\n",
      "              precision    recall  f1-score   support\n",
      "\n",
      "           0       0.82      0.83      0.82      1175\n",
      "           1       0.80      0.80      0.80      1058\n",
      "\n",
      "    accuracy                           0.81      2233\n",
      "   macro avg       0.81      0.81      0.81      2233\n",
      "weighted avg       0.81      0.81      0.81      2233\n",
      "\n",
      "Model Decision Tree\n",
      "              precision    recall  f1-score   support\n",
      "\n",
      "           0       0.86      0.77      0.81      1175\n",
      "           1       0.77      0.86      0.81      1058\n",
      "\n",
      "    accuracy                           0.81      2233\n",
      "   macro avg       0.82      0.82      0.81      2233\n",
      "weighted avg       0.82      0.81      0.81      2233\n",
      "\n",
      "Model Random Forest\n",
      "              precision    recall  f1-score   support\n",
      "\n",
      "           0       0.86      0.81      0.83      1175\n",
      "           1       0.80      0.85      0.82      1058\n",
      "\n",
      "    accuracy                           0.83      2233\n",
      "   macro avg       0.83      0.83      0.83      2233\n",
      "weighted avg       0.83      0.83      0.83      2233\n",
      "\n",
      "Model XGBoost\n",
      "              precision    recall  f1-score   support\n",
      "\n",
      "           0       0.90      0.82      0.86      1175\n",
      "           1       0.82      0.89      0.85      1058\n",
      "\n",
      "    accuracy                           0.86      2233\n",
      "   macro avg       0.86      0.86      0.86      2233\n",
      "weighted avg       0.86      0.86      0.86      2233\n",
      "\n"
     ]
    }
   ],
   "source": [
    "print('Model SVM')\n",
    "print(classification_report(y_test, best_pipe_svm.predict(X_test)))\n",
    "print('Model KNN')\n",
    "print(classification_report(y_test, best_pipe_knn.predict(X_test)))\n",
    "print('Model Decision Tree')\n",
    "print(classification_report(y_test, best_pipe_dt.predict(X_test)))\n",
    "print('Model Random Forest')\n",
    "print(classification_report(y_test, best_pipe_rf.predict(X_test)))\n",
    "print('Model XGBoost')\n",
    "print(classification_report(y_test, best_pipe_xgb.predict(X_test)))"
   ]
  },
  {
   "cell_type": "markdown",
   "metadata": {},
   "source": [
    " **Model After Tuning Comparison**"
   ]
  },
  {
   "cell_type": "code",
   "execution_count": 70,
   "metadata": {},
   "outputs": [],
   "source": [
    "models = {\n",
    "    'SVM' : best_pipe_svm,\n",
    "    'KNN' : best_pipe_knn,\n",
    "    'Decision Tree' : best_pipe_dt,\n",
    "    'Random Forest' : best_pipe_rf,\n",
    "    'XGBoost' : best_pipe_xgb\n",
    "}\n",
    "\n",
    "metrics = {\n",
    "    'Accuracy' : accuracy_score,\n",
    "    'F1-Score' : f1_score,\n",
    "}\n",
    "\n",
    "model_tuning = pd.DataFrame(columns = models.keys(), index=['Accuracy', 'F1-Score'])\n",
    "\n",
    "for metric in metrics.keys():\n",
    "  for model in models.keys():\n",
    "    model_tuning.loc[metric, model] = metrics[metric](y_test, models[model].predict(X_test))"
   ]
  },
  {
   "cell_type": "markdown",
   "metadata": {},
   "source": [
    "**Insight** : membandingkan model after tuning dari kinerja 5 model machine learning, yaitu RF, SVM,DT,XGBOOST dan KNN, dengan menggunakan dua metrik evaluasi, yaitu akurasi (Accuracy) dan F1-score yang disimpan ke dalam df_model untuk mempermudah membandingkan kinerja terbaik diantara ketiga model"
   ]
  },
  {
   "cell_type": "code",
   "execution_count": 71,
   "metadata": {},
   "outputs": [
    {
     "data": {
      "text/html": [
       "<div>\n",
       "<style scoped>\n",
       "    .dataframe tbody tr th:only-of-type {\n",
       "        vertical-align: middle;\n",
       "    }\n",
       "\n",
       "    .dataframe tbody tr th {\n",
       "        vertical-align: top;\n",
       "    }\n",
       "\n",
       "    .dataframe thead th {\n",
       "        text-align: right;\n",
       "    }\n",
       "</style>\n",
       "<table border=\"1\" class=\"dataframe\">\n",
       "  <thead>\n",
       "    <tr style=\"text-align: right;\">\n",
       "      <th></th>\n",
       "      <th>SVM</th>\n",
       "      <th>KNN</th>\n",
       "      <th>Decision Tree</th>\n",
       "      <th>Random Forest</th>\n",
       "      <th>XGBoost</th>\n",
       "    </tr>\n",
       "  </thead>\n",
       "  <tbody>\n",
       "    <tr>\n",
       "      <th>Accuracy</th>\n",
       "      <td>0.833408</td>\n",
       "      <td>0.813704</td>\n",
       "      <td>0.764442</td>\n",
       "      <td>0.840573</td>\n",
       "      <td>0.845052</td>\n",
       "    </tr>\n",
       "    <tr>\n",
       "      <th>F1-Score</th>\n",
       "      <td>0.831369</td>\n",
       "      <td>0.802657</td>\n",
       "      <td>0.749762</td>\n",
       "      <td>0.838622</td>\n",
       "      <td>0.843439</td>\n",
       "    </tr>\n",
       "  </tbody>\n",
       "</table>\n",
       "</div>"
      ],
      "text/plain": [
       "               SVM       KNN Decision Tree Random Forest   XGBoost\n",
       "Accuracy  0.833408  0.813704      0.764442      0.840573  0.845052\n",
       "F1-Score  0.831369  0.802657      0.749762      0.838622  0.843439"
      ]
     },
     "execution_count": 71,
     "metadata": {},
     "output_type": "execute_result"
    }
   ],
   "source": [
    "df_model"
   ]
  },
  {
   "cell_type": "code",
   "execution_count": 72,
   "metadata": {},
   "outputs": [
    {
     "data": {
      "text/html": [
       "<div>\n",
       "<style scoped>\n",
       "    .dataframe tbody tr th:only-of-type {\n",
       "        vertical-align: middle;\n",
       "    }\n",
       "\n",
       "    .dataframe tbody tr th {\n",
       "        vertical-align: top;\n",
       "    }\n",
       "\n",
       "    .dataframe thead th {\n",
       "        text-align: right;\n",
       "    }\n",
       "</style>\n",
       "<table border=\"1\" class=\"dataframe\">\n",
       "  <thead>\n",
       "    <tr style=\"text-align: right;\">\n",
       "      <th></th>\n",
       "      <th>SVM</th>\n",
       "      <th>KNN</th>\n",
       "      <th>Decision Tree</th>\n",
       "      <th>Random Forest</th>\n",
       "      <th>XGBoost</th>\n",
       "    </tr>\n",
       "  </thead>\n",
       "  <tbody>\n",
       "    <tr>\n",
       "      <th>Accuracy</th>\n",
       "      <td>0.833408</td>\n",
       "      <td>0.813256</td>\n",
       "      <td>0.812808</td>\n",
       "      <td>0.827586</td>\n",
       "      <td>0.855799</td>\n",
       "    </tr>\n",
       "    <tr>\n",
       "      <th>F1-Score</th>\n",
       "      <td>0.831369</td>\n",
       "      <td>0.802276</td>\n",
       "      <td>0.813393</td>\n",
       "      <td>0.824121</td>\n",
       "      <td>0.85443</td>\n",
       "    </tr>\n",
       "  </tbody>\n",
       "</table>\n",
       "</div>"
      ],
      "text/plain": [
       "               SVM       KNN Decision Tree Random Forest   XGBoost\n",
       "Accuracy  0.833408  0.813256      0.812808      0.827586  0.855799\n",
       "F1-Score  0.831369  0.802276      0.813393      0.824121   0.85443"
      ]
     },
     "execution_count": 72,
     "metadata": {},
     "output_type": "execute_result"
    }
   ],
   "source": [
    "model_tuning"
   ]
  },
  {
   "cell_type": "markdown",
   "metadata": {},
   "source": [
    "**Insight** : Dari hasil model_tuning bisa disimpulakn :\n",
    "1. `Accuracy`:\n",
    "\n",
    "    - SVM mencapai akurasi sekitar 83%.\n",
    "    - KNN memiliki akurasi lebih tinggi, yakni sekitar 81%.\n",
    "    - Decision Tree memiliki akurasi sekitar 81%.\n",
    "    - Random Forest memiliki akurasi sekitar 82%.\n",
    "    - XGBoost memiliki akurasi sekitar 85%.\n",
    "\n",
    "2. `F1-Score`:\n",
    "\n",
    "    - SVM mencapai akurasi sekitar 83%.\n",
    "    - KNN memiliki akurasi lebih tinggi, yakni sekitar .80%.\n",
    "    - Decision Tree memiliki akurasi sekitar 81%.\n",
    "    - Random Forest memiliki akurasi sekitar 82%.\n",
    "    - XGBoost memiliki akurasi sekitar 85%.\n",
    "    \n",
    "XGBoost memiliki kinerja terbaik berdasarkan kedua metrik, diikuti oleh Random Forest,  SVM, KNN, dan Decision Tree\t\n",
    "\n",
    "- Model yang akan digunakan adalah  model rf terbaik setelah proses grid search. walaupun XGBOOST memiliki score cukup baik pada 2 metric accuracy dan f1-score. tetapi secara train dan test set model random Forest tidak mengalami overvit seperti Xgboost dan yang lainnya. mode RF akan di save untuk proses inference"
   ]
  },
  {
   "cell_type": "code",
   "execution_count": 73,
   "metadata": {},
   "outputs": [
    {
     "data": {
      "text/html": [
       "<style>#sk-container-id-1 {color: black;}#sk-container-id-1 pre{padding: 0;}#sk-container-id-1 div.sk-toggleable {background-color: white;}#sk-container-id-1 label.sk-toggleable__label {cursor: pointer;display: block;width: 100%;margin-bottom: 0;padding: 0.3em;box-sizing: border-box;text-align: center;}#sk-container-id-1 label.sk-toggleable__label-arrow:before {content: \"▸\";float: left;margin-right: 0.25em;color: #696969;}#sk-container-id-1 label.sk-toggleable__label-arrow:hover:before {color: black;}#sk-container-id-1 div.sk-estimator:hover label.sk-toggleable__label-arrow:before {color: black;}#sk-container-id-1 div.sk-toggleable__content {max-height: 0;max-width: 0;overflow: hidden;text-align: left;background-color: #f0f8ff;}#sk-container-id-1 div.sk-toggleable__content pre {margin: 0.2em;color: black;border-radius: 0.25em;background-color: #f0f8ff;}#sk-container-id-1 input.sk-toggleable__control:checked~div.sk-toggleable__content {max-height: 200px;max-width: 100%;overflow: auto;}#sk-container-id-1 input.sk-toggleable__control:checked~label.sk-toggleable__label-arrow:before {content: \"▾\";}#sk-container-id-1 div.sk-estimator input.sk-toggleable__control:checked~label.sk-toggleable__label {background-color: #d4ebff;}#sk-container-id-1 div.sk-label input.sk-toggleable__control:checked~label.sk-toggleable__label {background-color: #d4ebff;}#sk-container-id-1 input.sk-hidden--visually {border: 0;clip: rect(1px 1px 1px 1px);clip: rect(1px, 1px, 1px, 1px);height: 1px;margin: -1px;overflow: hidden;padding: 0;position: absolute;width: 1px;}#sk-container-id-1 div.sk-estimator {font-family: monospace;background-color: #f0f8ff;border: 1px dotted black;border-radius: 0.25em;box-sizing: border-box;margin-bottom: 0.5em;}#sk-container-id-1 div.sk-estimator:hover {background-color: #d4ebff;}#sk-container-id-1 div.sk-parallel-item::after {content: \"\";width: 100%;border-bottom: 1px solid gray;flex-grow: 1;}#sk-container-id-1 div.sk-label:hover label.sk-toggleable__label {background-color: #d4ebff;}#sk-container-id-1 div.sk-serial::before {content: \"\";position: absolute;border-left: 1px solid gray;box-sizing: border-box;top: 0;bottom: 0;left: 50%;z-index: 0;}#sk-container-id-1 div.sk-serial {display: flex;flex-direction: column;align-items: center;background-color: white;padding-right: 0.2em;padding-left: 0.2em;position: relative;}#sk-container-id-1 div.sk-item {position: relative;z-index: 1;}#sk-container-id-1 div.sk-parallel {display: flex;align-items: stretch;justify-content: center;background-color: white;position: relative;}#sk-container-id-1 div.sk-item::before, #sk-container-id-1 div.sk-parallel-item::before {content: \"\";position: absolute;border-left: 1px solid gray;box-sizing: border-box;top: 0;bottom: 0;left: 50%;z-index: -1;}#sk-container-id-1 div.sk-parallel-item {display: flex;flex-direction: column;z-index: 1;position: relative;background-color: white;}#sk-container-id-1 div.sk-parallel-item:first-child::after {align-self: flex-end;width: 50%;}#sk-container-id-1 div.sk-parallel-item:last-child::after {align-self: flex-start;width: 50%;}#sk-container-id-1 div.sk-parallel-item:only-child::after {width: 0;}#sk-container-id-1 div.sk-dashed-wrapped {border: 1px dashed gray;margin: 0 0.4em 0.5em 0.4em;box-sizing: border-box;padding-bottom: 0.4em;background-color: white;}#sk-container-id-1 div.sk-label label {font-family: monospace;font-weight: bold;display: inline-block;line-height: 1.2em;}#sk-container-id-1 div.sk-label-container {text-align: center;}#sk-container-id-1 div.sk-container {/* jupyter's `normalize.less` sets `[hidden] { display: none; }` but bootstrap.min.css set `[hidden] { display: none !important; }` so we also need the `!important` here to be able to override the default hidden behavior on the sphinx rendered scikit-learn.org. See: https://github.com/scikit-learn/scikit-learn/issues/21755 */display: inline-block !important;position: relative;}#sk-container-id-1 div.sk-text-repr-fallback {display: none;}</style><div id=\"sk-container-id-1\" class=\"sk-top-container\"><div class=\"sk-text-repr-fallback\"><pre>Pipeline(steps=[(&#x27;transformer&#x27;,\n",
       "                 ColumnTransformer(transformers=[(&#x27;scaler&#x27;, StandardScaler(),\n",
       "                                                  &lt;sklearn.compose._column_transformer.make_column_selector object at 0x00000135C25BDBB0&gt;),\n",
       "                                                 (&#x27;encoding&#x27;, OrdinalEncoder(),\n",
       "                                                  &lt;sklearn.compose._column_transformer.make_column_selector object at 0x00000135C2985610&gt;)],\n",
       "                                   verbose=0)),\n",
       "                (&#x27;classifier&#x27;,\n",
       "                 XGBClassifier(base_score=None, bo...\n",
       "                               feature_types=None, gamma=None, grow_policy=None,\n",
       "                               importance_type=None,\n",
       "                               interaction_constraints=None, learning_rate=0.1,\n",
       "                               max_bin=None, max_cat_threshold=None,\n",
       "                               max_cat_to_onehot=None, max_delta_step=None,\n",
       "                               max_depth=5, max_leaves=None,\n",
       "                               min_child_weight=None, missing=nan,\n",
       "                               monotone_constraints=None, multi_strategy=None,\n",
       "                               n_estimators=150, n_jobs=None,\n",
       "                               num_parallel_tree=None, random_state=None, ...))])</pre><b>In a Jupyter environment, please rerun this cell to show the HTML representation or trust the notebook. <br />On GitHub, the HTML representation is unable to render, please try loading this page with nbviewer.org.</b></div><div class=\"sk-container\" hidden><div class=\"sk-item sk-dashed-wrapped\"><div class=\"sk-label-container\"><div class=\"sk-label sk-toggleable\"><input class=\"sk-toggleable__control sk-hidden--visually\" id=\"sk-estimator-id-1\" type=\"checkbox\" ><label for=\"sk-estimator-id-1\" class=\"sk-toggleable__label sk-toggleable__label-arrow\">Pipeline</label><div class=\"sk-toggleable__content\"><pre>Pipeline(steps=[(&#x27;transformer&#x27;,\n",
       "                 ColumnTransformer(transformers=[(&#x27;scaler&#x27;, StandardScaler(),\n",
       "                                                  &lt;sklearn.compose._column_transformer.make_column_selector object at 0x00000135C25BDBB0&gt;),\n",
       "                                                 (&#x27;encoding&#x27;, OrdinalEncoder(),\n",
       "                                                  &lt;sklearn.compose._column_transformer.make_column_selector object at 0x00000135C2985610&gt;)],\n",
       "                                   verbose=0)),\n",
       "                (&#x27;classifier&#x27;,\n",
       "                 XGBClassifier(base_score=None, bo...\n",
       "                               feature_types=None, gamma=None, grow_policy=None,\n",
       "                               importance_type=None,\n",
       "                               interaction_constraints=None, learning_rate=0.1,\n",
       "                               max_bin=None, max_cat_threshold=None,\n",
       "                               max_cat_to_onehot=None, max_delta_step=None,\n",
       "                               max_depth=5, max_leaves=None,\n",
       "                               min_child_weight=None, missing=nan,\n",
       "                               monotone_constraints=None, multi_strategy=None,\n",
       "                               n_estimators=150, n_jobs=None,\n",
       "                               num_parallel_tree=None, random_state=None, ...))])</pre></div></div></div><div class=\"sk-serial\"><div class=\"sk-item sk-dashed-wrapped\"><div class=\"sk-label-container\"><div class=\"sk-label sk-toggleable\"><input class=\"sk-toggleable__control sk-hidden--visually\" id=\"sk-estimator-id-2\" type=\"checkbox\" ><label for=\"sk-estimator-id-2\" class=\"sk-toggleable__label sk-toggleable__label-arrow\">transformer: ColumnTransformer</label><div class=\"sk-toggleable__content\"><pre>ColumnTransformer(transformers=[(&#x27;scaler&#x27;, StandardScaler(),\n",
       "                                 &lt;sklearn.compose._column_transformer.make_column_selector object at 0x00000135C25BDBB0&gt;),\n",
       "                                (&#x27;encoding&#x27;, OrdinalEncoder(),\n",
       "                                 &lt;sklearn.compose._column_transformer.make_column_selector object at 0x00000135C2985610&gt;)],\n",
       "                  verbose=0)</pre></div></div></div><div class=\"sk-parallel\"><div class=\"sk-parallel-item\"><div class=\"sk-item\"><div class=\"sk-label-container\"><div class=\"sk-label sk-toggleable\"><input class=\"sk-toggleable__control sk-hidden--visually\" id=\"sk-estimator-id-3\" type=\"checkbox\" ><label for=\"sk-estimator-id-3\" class=\"sk-toggleable__label sk-toggleable__label-arrow\">scaler</label><div class=\"sk-toggleable__content\"><pre>&lt;sklearn.compose._column_transformer.make_column_selector object at 0x00000135C25BDBB0&gt;</pre></div></div></div><div class=\"sk-serial\"><div class=\"sk-item\"><div class=\"sk-estimator sk-toggleable\"><input class=\"sk-toggleable__control sk-hidden--visually\" id=\"sk-estimator-id-4\" type=\"checkbox\" ><label for=\"sk-estimator-id-4\" class=\"sk-toggleable__label sk-toggleable__label-arrow\">StandardScaler</label><div class=\"sk-toggleable__content\"><pre>StandardScaler()</pre></div></div></div></div></div></div><div class=\"sk-parallel-item\"><div class=\"sk-item\"><div class=\"sk-label-container\"><div class=\"sk-label sk-toggleable\"><input class=\"sk-toggleable__control sk-hidden--visually\" id=\"sk-estimator-id-5\" type=\"checkbox\" ><label for=\"sk-estimator-id-5\" class=\"sk-toggleable__label sk-toggleable__label-arrow\">encoding</label><div class=\"sk-toggleable__content\"><pre>&lt;sklearn.compose._column_transformer.make_column_selector object at 0x00000135C2985610&gt;</pre></div></div></div><div class=\"sk-serial\"><div class=\"sk-item\"><div class=\"sk-estimator sk-toggleable\"><input class=\"sk-toggleable__control sk-hidden--visually\" id=\"sk-estimator-id-6\" type=\"checkbox\" ><label for=\"sk-estimator-id-6\" class=\"sk-toggleable__label sk-toggleable__label-arrow\">OrdinalEncoder</label><div class=\"sk-toggleable__content\"><pre>OrdinalEncoder()</pre></div></div></div></div></div></div></div></div><div class=\"sk-item\"><div class=\"sk-estimator sk-toggleable\"><input class=\"sk-toggleable__control sk-hidden--visually\" id=\"sk-estimator-id-7\" type=\"checkbox\" ><label for=\"sk-estimator-id-7\" class=\"sk-toggleable__label sk-toggleable__label-arrow\">XGBClassifier</label><div class=\"sk-toggleable__content\"><pre>XGBClassifier(base_score=None, booster=None, callbacks=None,\n",
       "              colsample_bylevel=None, colsample_bynode=None,\n",
       "              colsample_bytree=None, device=None, early_stopping_rounds=None,\n",
       "              enable_categorical=False, eval_metric=None, feature_types=None,\n",
       "              gamma=None, grow_policy=None, importance_type=None,\n",
       "              interaction_constraints=None, learning_rate=0.1, max_bin=None,\n",
       "              max_cat_threshold=None, max_cat_to_onehot=None,\n",
       "              max_delta_step=None, max_depth=5, max_leaves=None,\n",
       "              min_child_weight=None, missing=nan, monotone_constraints=None,\n",
       "              multi_strategy=None, n_estimators=150, n_jobs=None,\n",
       "              num_parallel_tree=None, random_state=None, ...)</pre></div></div></div></div></div></div></div>"
      ],
      "text/plain": [
       "Pipeline(steps=[('transformer',\n",
       "                 ColumnTransformer(transformers=[('scaler', StandardScaler(),\n",
       "                                                  <sklearn.compose._column_transformer.make_column_selector object at 0x00000135C25BDBB0>),\n",
       "                                                 ('encoding', OrdinalEncoder(),\n",
       "                                                  <sklearn.compose._column_transformer.make_column_selector object at 0x00000135C2985610>)],\n",
       "                                   verbose=0)),\n",
       "                ('classifier',\n",
       "                 XGBClassifier(base_score=None, bo...\n",
       "                               feature_types=None, gamma=None, grow_policy=None,\n",
       "                               importance_type=None,\n",
       "                               interaction_constraints=None, learning_rate=0.1,\n",
       "                               max_bin=None, max_cat_threshold=None,\n",
       "                               max_cat_to_onehot=None, max_delta_step=None,\n",
       "                               max_depth=5, max_leaves=None,\n",
       "                               min_child_weight=None, missing=nan,\n",
       "                               monotone_constraints=None, multi_strategy=None,\n",
       "                               n_estimators=150, n_jobs=None,\n",
       "                               num_parallel_tree=None, random_state=None, ...))])"
      ]
     },
     "execution_count": 73,
     "metadata": {},
     "output_type": "execute_result"
    }
   ],
   "source": [
    "best_pipe_xgb.fit(X_train, y_train)"
   ]
  },
  {
   "cell_type": "markdown",
   "metadata": {},
   "source": [
    "**Insight** **Insight** : Memastikan model dari best XGBoost dan seluruh proses termasuk transformasi data dan scaler, encoding sudah sesuai, dapat dijalankan secara terstruktur dan otomatis. "
   ]
  },
  {
   "cell_type": "code",
   "execution_count": 74,
   "metadata": {},
   "outputs": [
    {
     "data": {
      "text/html": [
       "<style>#sk-container-id-2 {color: black;}#sk-container-id-2 pre{padding: 0;}#sk-container-id-2 div.sk-toggleable {background-color: white;}#sk-container-id-2 label.sk-toggleable__label {cursor: pointer;display: block;width: 100%;margin-bottom: 0;padding: 0.3em;box-sizing: border-box;text-align: center;}#sk-container-id-2 label.sk-toggleable__label-arrow:before {content: \"▸\";float: left;margin-right: 0.25em;color: #696969;}#sk-container-id-2 label.sk-toggleable__label-arrow:hover:before {color: black;}#sk-container-id-2 div.sk-estimator:hover label.sk-toggleable__label-arrow:before {color: black;}#sk-container-id-2 div.sk-toggleable__content {max-height: 0;max-width: 0;overflow: hidden;text-align: left;background-color: #f0f8ff;}#sk-container-id-2 div.sk-toggleable__content pre {margin: 0.2em;color: black;border-radius: 0.25em;background-color: #f0f8ff;}#sk-container-id-2 input.sk-toggleable__control:checked~div.sk-toggleable__content {max-height: 200px;max-width: 100%;overflow: auto;}#sk-container-id-2 input.sk-toggleable__control:checked~label.sk-toggleable__label-arrow:before {content: \"▾\";}#sk-container-id-2 div.sk-estimator input.sk-toggleable__control:checked~label.sk-toggleable__label {background-color: #d4ebff;}#sk-container-id-2 div.sk-label input.sk-toggleable__control:checked~label.sk-toggleable__label {background-color: #d4ebff;}#sk-container-id-2 input.sk-hidden--visually {border: 0;clip: rect(1px 1px 1px 1px);clip: rect(1px, 1px, 1px, 1px);height: 1px;margin: -1px;overflow: hidden;padding: 0;position: absolute;width: 1px;}#sk-container-id-2 div.sk-estimator {font-family: monospace;background-color: #f0f8ff;border: 1px dotted black;border-radius: 0.25em;box-sizing: border-box;margin-bottom: 0.5em;}#sk-container-id-2 div.sk-estimator:hover {background-color: #d4ebff;}#sk-container-id-2 div.sk-parallel-item::after {content: \"\";width: 100%;border-bottom: 1px solid gray;flex-grow: 1;}#sk-container-id-2 div.sk-label:hover label.sk-toggleable__label {background-color: #d4ebff;}#sk-container-id-2 div.sk-serial::before {content: \"\";position: absolute;border-left: 1px solid gray;box-sizing: border-box;top: 0;bottom: 0;left: 50%;z-index: 0;}#sk-container-id-2 div.sk-serial {display: flex;flex-direction: column;align-items: center;background-color: white;padding-right: 0.2em;padding-left: 0.2em;position: relative;}#sk-container-id-2 div.sk-item {position: relative;z-index: 1;}#sk-container-id-2 div.sk-parallel {display: flex;align-items: stretch;justify-content: center;background-color: white;position: relative;}#sk-container-id-2 div.sk-item::before, #sk-container-id-2 div.sk-parallel-item::before {content: \"\";position: absolute;border-left: 1px solid gray;box-sizing: border-box;top: 0;bottom: 0;left: 50%;z-index: -1;}#sk-container-id-2 div.sk-parallel-item {display: flex;flex-direction: column;z-index: 1;position: relative;background-color: white;}#sk-container-id-2 div.sk-parallel-item:first-child::after {align-self: flex-end;width: 50%;}#sk-container-id-2 div.sk-parallel-item:last-child::after {align-self: flex-start;width: 50%;}#sk-container-id-2 div.sk-parallel-item:only-child::after {width: 0;}#sk-container-id-2 div.sk-dashed-wrapped {border: 1px dashed gray;margin: 0 0.4em 0.5em 0.4em;box-sizing: border-box;padding-bottom: 0.4em;background-color: white;}#sk-container-id-2 div.sk-label label {font-family: monospace;font-weight: bold;display: inline-block;line-height: 1.2em;}#sk-container-id-2 div.sk-label-container {text-align: center;}#sk-container-id-2 div.sk-container {/* jupyter's `normalize.less` sets `[hidden] { display: none; }` but bootstrap.min.css set `[hidden] { display: none !important; }` so we also need the `!important` here to be able to override the default hidden behavior on the sphinx rendered scikit-learn.org. See: https://github.com/scikit-learn/scikit-learn/issues/21755 */display: inline-block !important;position: relative;}#sk-container-id-2 div.sk-text-repr-fallback {display: none;}</style><div id=\"sk-container-id-2\" class=\"sk-top-container\"><div class=\"sk-text-repr-fallback\"><pre>Pipeline(steps=[(&#x27;transformer&#x27;,\n",
       "                 ColumnTransformer(transformers=[(&#x27;scaler&#x27;, StandardScaler(),\n",
       "                                                  &lt;sklearn.compose._column_transformer.make_column_selector object at 0x00000135C24B36E0&gt;),\n",
       "                                                 (&#x27;encoding&#x27;, OrdinalEncoder(),\n",
       "                                                  &lt;sklearn.compose._column_transformer.make_column_selector object at 0x00000135C24B2EA0&gt;)])),\n",
       "                (&#x27;classifier&#x27;,\n",
       "                 RandomForestClassifier(max_depth=6, n_estimators=400))])</pre><b>In a Jupyter environment, please rerun this cell to show the HTML representation or trust the notebook. <br />On GitHub, the HTML representation is unable to render, please try loading this page with nbviewer.org.</b></div><div class=\"sk-container\" hidden><div class=\"sk-item sk-dashed-wrapped\"><div class=\"sk-label-container\"><div class=\"sk-label sk-toggleable\"><input class=\"sk-toggleable__control sk-hidden--visually\" id=\"sk-estimator-id-8\" type=\"checkbox\" ><label for=\"sk-estimator-id-8\" class=\"sk-toggleable__label sk-toggleable__label-arrow\">Pipeline</label><div class=\"sk-toggleable__content\"><pre>Pipeline(steps=[(&#x27;transformer&#x27;,\n",
       "                 ColumnTransformer(transformers=[(&#x27;scaler&#x27;, StandardScaler(),\n",
       "                                                  &lt;sklearn.compose._column_transformer.make_column_selector object at 0x00000135C24B36E0&gt;),\n",
       "                                                 (&#x27;encoding&#x27;, OrdinalEncoder(),\n",
       "                                                  &lt;sklearn.compose._column_transformer.make_column_selector object at 0x00000135C24B2EA0&gt;)])),\n",
       "                (&#x27;classifier&#x27;,\n",
       "                 RandomForestClassifier(max_depth=6, n_estimators=400))])</pre></div></div></div><div class=\"sk-serial\"><div class=\"sk-item sk-dashed-wrapped\"><div class=\"sk-label-container\"><div class=\"sk-label sk-toggleable\"><input class=\"sk-toggleable__control sk-hidden--visually\" id=\"sk-estimator-id-9\" type=\"checkbox\" ><label for=\"sk-estimator-id-9\" class=\"sk-toggleable__label sk-toggleable__label-arrow\">transformer: ColumnTransformer</label><div class=\"sk-toggleable__content\"><pre>ColumnTransformer(transformers=[(&#x27;scaler&#x27;, StandardScaler(),\n",
       "                                 &lt;sklearn.compose._column_transformer.make_column_selector object at 0x00000135C24B36E0&gt;),\n",
       "                                (&#x27;encoding&#x27;, OrdinalEncoder(),\n",
       "                                 &lt;sklearn.compose._column_transformer.make_column_selector object at 0x00000135C24B2EA0&gt;)])</pre></div></div></div><div class=\"sk-parallel\"><div class=\"sk-parallel-item\"><div class=\"sk-item\"><div class=\"sk-label-container\"><div class=\"sk-label sk-toggleable\"><input class=\"sk-toggleable__control sk-hidden--visually\" id=\"sk-estimator-id-10\" type=\"checkbox\" ><label for=\"sk-estimator-id-10\" class=\"sk-toggleable__label sk-toggleable__label-arrow\">scaler</label><div class=\"sk-toggleable__content\"><pre>&lt;sklearn.compose._column_transformer.make_column_selector object at 0x00000135C24B36E0&gt;</pre></div></div></div><div class=\"sk-serial\"><div class=\"sk-item\"><div class=\"sk-estimator sk-toggleable\"><input class=\"sk-toggleable__control sk-hidden--visually\" id=\"sk-estimator-id-11\" type=\"checkbox\" ><label for=\"sk-estimator-id-11\" class=\"sk-toggleable__label sk-toggleable__label-arrow\">StandardScaler</label><div class=\"sk-toggleable__content\"><pre>StandardScaler()</pre></div></div></div></div></div></div><div class=\"sk-parallel-item\"><div class=\"sk-item\"><div class=\"sk-label-container\"><div class=\"sk-label sk-toggleable\"><input class=\"sk-toggleable__control sk-hidden--visually\" id=\"sk-estimator-id-12\" type=\"checkbox\" ><label for=\"sk-estimator-id-12\" class=\"sk-toggleable__label sk-toggleable__label-arrow\">encoding</label><div class=\"sk-toggleable__content\"><pre>&lt;sklearn.compose._column_transformer.make_column_selector object at 0x00000135C24B2EA0&gt;</pre></div></div></div><div class=\"sk-serial\"><div class=\"sk-item\"><div class=\"sk-estimator sk-toggleable\"><input class=\"sk-toggleable__control sk-hidden--visually\" id=\"sk-estimator-id-13\" type=\"checkbox\" ><label for=\"sk-estimator-id-13\" class=\"sk-toggleable__label sk-toggleable__label-arrow\">OrdinalEncoder</label><div class=\"sk-toggleable__content\"><pre>OrdinalEncoder()</pre></div></div></div></div></div></div></div></div><div class=\"sk-item\"><div class=\"sk-estimator sk-toggleable\"><input class=\"sk-toggleable__control sk-hidden--visually\" id=\"sk-estimator-id-14\" type=\"checkbox\" ><label for=\"sk-estimator-id-14\" class=\"sk-toggleable__label sk-toggleable__label-arrow\">RandomForestClassifier</label><div class=\"sk-toggleable__content\"><pre>RandomForestClassifier(max_depth=6, n_estimators=400)</pre></div></div></div></div></div></div></div>"
      ],
      "text/plain": [
       "Pipeline(steps=[('transformer',\n",
       "                 ColumnTransformer(transformers=[('scaler', StandardScaler(),\n",
       "                                                  <sklearn.compose._column_transformer.make_column_selector object at 0x00000135C24B36E0>),\n",
       "                                                 ('encoding', OrdinalEncoder(),\n",
       "                                                  <sklearn.compose._column_transformer.make_column_selector object at 0x00000135C24B2EA0>)])),\n",
       "                ('classifier',\n",
       "                 RandomForestClassifier(max_depth=6, n_estimators=400))])"
      ]
     },
     "execution_count": 74,
     "metadata": {},
     "output_type": "execute_result"
    }
   ],
   "source": [
    "best_pipe_rf.fit(X_train, y_train)"
   ]
  },
  {
   "cell_type": "markdown",
   "metadata": {},
   "source": [
    "**Insight** **Insight** : Memastikan model dari best Random Forest dan seluruh proses termasuk transformasi data dan scaler, encoding sudah sesuai, dapat dijalankan secara terstruktur dan otomatis. "
   ]
  },
  {
   "cell_type": "markdown",
   "metadata": {},
   "source": [
    "## Model Saving"
   ]
  },
  {
   "cell_type": "code",
   "execution_count": 75,
   "metadata": {},
   "outputs": [],
   "source": [
    "pickle.dump(best_pipe_rf, open('model_rf.pkl', 'wb'))"
   ]
  },
  {
   "cell_type": "markdown",
   "metadata": {},
   "source": [
    "**Insight** : Setelah dilakukan pemodelan, model akan di save dan digunakan untuk diuji di data inference\n",
    "\n",
    "Dengan melakukan penyimpanan ini,dapat dengan mudah memuat model yang telah ditraining beserta informasi tambahan yang dibutuhkan ketika melakukan prediksi dengan data baru."
   ]
  },
  {
   "cell_type": "markdown",
   "metadata": {},
   "source": [
    "## Inference"
   ]
  },
  {
   "cell_type": "markdown",
   "metadata": {},
   "source": [
    "**Setelah sudah menyimpan model dalam bentuk file, kita dapat memanggilnya kembali untuk melakukan prediksi pada data baru terkait deposit. Ini mempermudah kita dalam melakukan pengujian kinerja model dan membuat prediksi pada data yang belum pernah dilihat sebelumnya. Dengan cara ini, kita dapat melihat sejauh mana model kita dapat melakukan prediksi dengan akurat pada situasi dunia nyata. Proses ini membantu memvalidasi dan menguji kinerja model Random Forest yang telah kita latih sebelumnya.**"
   ]
  },
  {
   "cell_type": "code",
   "execution_count": 82,
   "metadata": {},
   "outputs": [
    {
     "name": "stdout",
     "output_type": "stream",
     "text": [
      "Nasabah telah berlangganan deposito berjangka.\n"
     ]
    }
   ],
   "source": [
    "# Membaca model yang telah disimpan\n",
    "with open('model_rf.pkl', 'rb') as file:\n",
    "    loaded_model = pickle.load(file)\n",
    "\n",
    "# Contoh data untuk prediksi (sesuaikan dengan fitur model Anda)\n",
    "sample_data = pd.DataFrame({\n",
    "    ''\n",
    "    'age' : [59],\n",
    "    'job':['admin.'],\n",
    "    'marital' : ['married'], \n",
    "    'education' : ['secondary'],\n",
    "    'default' : ['no'],\n",
    "    'balance':[2343], \n",
    "    'housing' : ['yes'], \n",
    "    'loan':['no'],\n",
    "    'contact':['unknown'],\n",
    "    'day' : [5],\n",
    "    'month' : ['may'],\n",
    "    'duration': [57777],\n",
    "    'campaign': [-1],\n",
    "    'pdays': [-1],\n",
    "    'previous': [0],\n",
    "    'poutcome' : ['unknown'],\n",
    "\n",
    "})\n",
    "\n",
    "# Melakukan prediksi menggunakan model yang telah dimuat\n",
    "predictions = loaded_model.predict(sample_data)\n",
    "\n",
    "# Menampilkan hasil prediksi dengan pernyataan yang lebih informatif\n",
    "if predictions[0] == 0:\n",
    "    print(\"Nasabah belum berlangganan deposito berjangka.\")\n",
    "else:\n",
    "    print(\"Nasabah telah berlangganan deposito berjangka.\")"
   ]
  },
  {
   "cell_type": "markdown",
   "metadata": {},
   "source": [
    "**Insight** : Melakukan prediksi terhadap data baru (sample_data) dengan menggunakan model Random Forest yang telah kita simpan sebelumnya dengan nama `model_xgb`, Hasil prediksi dari model ini kemudian disimpan dalam variabel `sample_data`. Dengan melakukan langkah ini, kita dapat melihat bagaimana model Random Forest memprediksi nilai target pada data baru yang sebelumnya belum pernah dilihat oleh model. Hasil prediksi ini berguna untuk mengevaluasi sejauh mana model dapat bekerja dengan baik pada data yang tidak dikenal sebelumnya.\n",
    "    \n",
    "**dari data inference yang telah dibuat, prediction yang dihasilkan bernilai `1` yg artinya (Nasabah telah berlangganan deposito berjangka).**"
   ]
  },
  {
   "cell_type": "markdown",
   "metadata": {},
   "source": [
    "## Kesimpulan"
   ]
  },
  {
   "cell_type": "markdown",
   "metadata": {},
   "source": [
    "Model untuk memprediksi Apakah klien telah berlangganan deposito berjangka(`deposit`) telah selesai dengan hasil :\n",
    "\n",
    "1. Didaptkan model terbaik dari hasil perbandingan sebuah model sebagai berikut :\n",
    "    - Random Forest\n",
    "    - Support Vector Machine (SVM)\n",
    "    - K-Nearest Neighbors (KNN).\n",
    "    - Decision Tree\n",
    "    - XGBoost\n",
    "\n",
    "Dari hasil evaluasi, Random Forest terpilih sebagai model terbaik untuk tugas klasifikasi ini. Evaluasi diukur dari train set , test set dan matrics akurasi, f1-score di tuning untuk meningkatkan performa model dan Menggunakan GridSearchCV untuk mencari kombinasi parameter terbaik.\n",
    "didapat Train Set sebesar `83%` dan Test Set sebesar `82%`dengan Akurasi sebesar `82%` dan F1 sebesar `82%`. \n",
    "\n",
    "2. Dari hasil prediksi model yang telah dibangun dan dilatih, dapat disimpulkan bahwa model memprediksi dengan nilai `1`, yang menandakan bahwa nasabah akan berlangganan deposito berjangka. Ini mengindikasikan bahwa, berdasarkan fitur-fitur yang diberikan kepada model, nasabah memiliki kemungkinan telah berlangganan deposito menurut prediksi model."
   ]
  }
 ],
 "metadata": {
  "kernelspec": {
   "display_name": "Python 3",
   "language": "python",
   "name": "python3"
  },
  "language_info": {
   "codemirror_mode": {
    "name": "ipython",
    "version": 3
   },
   "file_extension": ".py",
   "mimetype": "text/x-python",
   "name": "python",
   "nbconvert_exporter": "python",
   "pygments_lexer": "ipython3",
   "version": "3.12.0"
  }
 },
 "nbformat": 4,
 "nbformat_minor": 2
}
